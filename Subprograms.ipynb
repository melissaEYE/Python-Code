{
 "cells": [
  {
   "cell_type": "markdown",
   "id": "d53e992a-ca80-4568-b498-9d249d31d4c2",
   "metadata": {},
   "source": [
    "# Subprograms"
   ]
  },
  {
   "cell_type": "markdown",
   "id": "66b85415-468b-4589-ac49-4d8c18c0b339",
   "metadata": {},
   "source": [
    "## Python by Example by Nichola Lacey (118-123)"
   ]
  },
  {
   "cell_type": "markdown",
   "id": "6fc1fa3b-75d1-45df-9cbd-9fdf0119d06c",
   "metadata": {},
   "source": [
    "* Notes"
   ]
  },
  {
   "cell_type": "raw",
   "id": "5b4c3b49-b702-4d78-97b0-9b3129bbef4d",
   "metadata": {},
   "source": [
    "# Subprograms are blocks of code which perform independently and can be called upon at any time in the program to run that code.\n",
    "\n",
    "Advantages of subprograms are:\n",
    "1. You can write a block of code and it can be used and reused at different times ask long as it is \"called\"\n",
    "2. It makes the program simpler to understand as teh code is grouped together into chunks\n",
    "3. Is allows you to change the code in one place versus multiple places\n",
    "\n",
    "You must use the keyword \"return\" at the end of a subprogram. If you do not, the changes cannot be used elsewhere in your program.\n",
    "\n",
    "To use a subprogram in a program, Python must read the subprogram e.g. def subprogram_name(): line before so it knows where to go and find it.\n",
    "Python reads the code in order. So you must write the subprogram BEFORE Python reads it or it will crash.\n",
    "\n",
    "Format looks like this:\n",
    "def subrogram():\n",
    "    name = input(\"Enter your name: \")\n",
    "    return name"
   ]
  },
  {
   "cell_type": "code",
   "execution_count": 22,
   "id": "e40e4081-52f3-421d-8277-7823201a960d",
   "metadata": {},
   "outputs": [
    {
     "name": "stdin",
     "output_type": "stream",
     "text": [
      "Enter your name:  melissa\n"
     ]
    },
    {
     "name": "stdout",
     "output_type": "stream",
     "text": [
      "Hello melissa\n"
     ]
    }
   ],
   "source": [
    "# Below is a simple program to demonstrate how it works. \n",
    "# This demonstrates how subprograms pass variables between each subprogram\n",
    "# The program uses three subprograms get_name(), print_Msg() and main()\n",
    "\n",
    "def get_name():\n",
    "    user_name = input(\"Enter your name: \")\n",
    "    return user_name\n",
    "\n",
    "def print_Msg (user_name):\n",
    "    print(\"Hello\", user_name)\n",
    "\n",
    "def main():\n",
    "    user_name = get_name()\n",
    "    print_Msg(user_name)\n",
    "\n",
    "main()\n",
    "\n",
    "#So how is Python readin gthis set of subprograms? Her eis a step-by-step explanation:\n",
    "# First, Python will start at the top and read through each line of code to check the syntax is correct\n",
    "# Second, it will run the first line it comes across that has not been indented and do not start with the word def \n",
    "# In the program above that is the line: main()\n",
    "# Third, as the main subprogram uses variables that are called from the get_name subprogram and the print_Msg subprogram it will jump to those programs\n",
    "# It will execute the get_name() subprogram which asks the user to enter their name and it will return the value of that variable \"user_name\" so it can be used by another subprogram\n",
    "#IMPORTANT: If you do not return the value (in this case user_name), then the values of any variable that were created or altered in that subprogram cannot be used elsewhere in your program.\n",
    "# Fourth, The print_Msg() subprogram will display the message \"Hello\" and then the user name.\n",
    "# The variable user-name apears in brackets as the current value of the variable is being imported into the subprogram so it can be used. \n",
    "#Fifth, the main() subprogram will get teh user_name from teh get_name() subprogram (using the variable user_name) as this was returned from teh get_name() subprogram.\n",
    "# It will then use that user_name variable in the print_Msg subprogram.\n",
    "# Sixth, the last line main() is the actual program itself and all this will do is start the main() subprogram running"
   ]
  },
  {
   "cell_type": "markdown",
   "id": "f794786a-9163-4eb6-8606-b653578841e9",
   "metadata": {},
   "source": [
    "* Sample code"
   ]
  },
  {
   "cell_type": "code",
   "execution_count": null,
   "id": "814925b3-6208-4e8b-bbed-6ded7b2aee95",
   "metadata": {},
   "outputs": [],
   "source": [
    "# Sample code defines a subprogram called \"get_data()\" which will ask the user for their name and age.\n",
    "# As we want to send more than one peice of data back to th emain program for other parts of the program to use, we have combined them together. \n",
    "# The return line can only resturn a single value, therefore we must combine the name and age variables into a tuple called data\n",
    "\n",
    "def get_data():\n",
    "    name = input(\"Enter your name: \")\n",
    "    age = int(input(\"Enter your age: \"))\n",
    "    data_tuple = (name, age)\n",
    "    return data_tuple\n",
    "get_data() # runs the subprogram"
   ]
  },
  {
   "cell_type": "code",
   "execution_count": null,
   "id": "e87cc9ea-0f1c-46d3-b952-be134b1b9817",
   "metadata": {},
   "outputs": [],
   "source": [
    "# Sample code: Defines the subprogram called message() which uses 2 variables that were previously defined (name and age)\n",
    "def get_data():\n",
    "    name = input(\"Enter your name: \")\n",
    "    age = int(input(\"Enter your age: \"))\n",
    "    data_tuple = (name, age)\n",
    "    return data_tuple\n",
    "data_tuple = get_data() # calling and storage\n",
    "print(data_tuple)\n",
    "def message(data_tuple):\n",
    "    if data_tuple[1] <=10:\n",
    "        print(\"You are too young\", data_tuple[0])\n",
    "    else:\n",
    "        print(\"Hi\", data_tuple[0])\n",
    "        #Don't need return because I am not getting something back from this subprogram\n",
    "message(data_tuple) #calls line 9 and passes data from line 7"
   ]
  },
  {
   "cell_type": "code",
   "execution_count": null,
   "id": "11427210-b135-46f4-a47f-2bfbadd51e65",
   "metadata": {},
   "outputs": [],
   "source": [
    "# Sample code: Defines the subprogram called main() which obtains the 2 variables from get data() subprogram.\n",
    "# These must be labeled in the same order as they were defined in the tuple.\n",
    "# The subprogram then called the message() subprogram to run the two variables\n",
    "\n",
    "def main():\n",
    "    name, age = get_data()\n",
    "    message(name, age)\n",
    "main()"
   ]
  },
  {
   "cell_type": "markdown",
   "id": "263b9530-a38a-42c2-8d6e-38c3e267fea0",
   "metadata": {},
   "source": [
    "* Coding Challenges"
   ]
  },
  {
   "cell_type": "code",
   "execution_count": null,
   "id": "2d9307a5-85cb-4771-8b5a-fe55d041848d",
   "metadata": {},
   "outputs": [],
   "source": [
    "#118: Define a subprogram that will ask the user to enter a number and save it as the variable \"num\".\n",
    "# Define another subprogram that will use \"num\" and count from 1 to the number.\n",
    "def enter():\n",
    "    num = int(input(\"Enter a number: \"))\n",
    "    return num\n",
    "num = enter()\n",
    "\n",
    "def count(xyz):\n",
    "    counter = 1 + xyz\n",
    "    return counter # returns the variable\n",
    "count(num)  "
   ]
  },
  {
   "cell_type": "code",
   "execution_count": 8,
   "id": "34e6ad9b-2425-4bd9-96e0-b77197444073",
   "metadata": {},
   "outputs": [
    {
     "name": "stdin",
     "output_type": "stream",
     "text": [
      "pick a low number:  2\n",
      "Pick a high number:  5\n",
      "I am thinking of a number... Guess what it is:  3\n"
     ]
    },
    {
     "name": "stdout",
     "output_type": "stream",
     "text": [
      "Correct\n"
     ]
    }
   ],
   "source": [
    "#119: Define a subprogram that will ask the user to pick a low and a high number, and then generate a random number between those two values.\n",
    "# Store it in a variable called \"comp_num\"\n",
    "# Define another subprogram that will give the instruction \"I am thinking of a number...\" and then ask the user to guess the number they are thinking of. \n",
    "# Define a third subprogram that will check to see if the comp_num is the same as the user's guess. \n",
    "# If it is then display the message \"correct\"\n",
    "# If it is not keep looping, telling the user they are too low of two high. Ask them to guess again until they guess corrrectly.\n",
    "\n",
    "import random\n",
    "\n",
    "def pic(): \n",
    "    low = int(input(\"pick a low number: \"))\n",
    "    high = int(input(\"Pick a high number: \"))\n",
    "    comp_num = random.randrange(low +1, high -1, 5)\n",
    "    return comp_num \n",
    "\n",
    "def guess():\n",
    "    guess_num = int(input(\"I am thinking of a number... Guess what it is: \"))\n",
    "    return guess_num\n",
    "\n",
    "def check(comp_num, guess_num):\n",
    "    again = True\n",
    "    while again == True:\n",
    "        if comp_num == guess_num:\n",
    "            print(\"Correct\")\n",
    "            again = False\n",
    "        elif comp_num > guess_num:\n",
    "            print(\"Too low. Try again.\") \n",
    "            guess_num = guess()\n",
    "        else:\n",
    "            print(\"Too high. Try again.\")\n",
    "            guess_num = guess()\n",
    "\n",
    "def main():\n",
    "    comp_num = pic()\n",
    "    guess_num = guess()\n",
    "    check(comp_num,guess_num)\n",
    "main()"
   ]
  },
  {
   "cell_type": "code",
   "execution_count": 6,
   "id": "7592869d-ed20-47d0-9af1-fb8eb754fc08",
   "metadata": {},
   "outputs": [
    {
     "name": "stdout",
     "output_type": "stream",
     "text": [
      "1) Addition\n",
      "\n",
      "2) Subtraction\n",
      "\n",
      "Enter 1 or 2: \n",
      "\n"
     ]
    },
    {
     "name": "stdin",
     "output_type": "stream",
     "text": [
      "Enter a number:  2\n"
     ]
    },
    {
     "name": "stdout",
     "output_type": "stream",
     "text": [
      "11 - 40 =\n"
     ]
    },
    {
     "name": "stdin",
     "output_type": "stream",
     "text": [
      "Your answer:  -29\n"
     ]
    },
    {
     "name": "stdout",
     "output_type": "stream",
     "text": [
      "Correct\n"
     ]
    }
   ],
   "source": [
    "# 120: Display the following menu to the user:\n",
    "# 1) Addition\n",
    "# 2) Subtraction\n",
    "# Enter 1 or 2:\n",
    "\n",
    "# If they enter 1, it should run a subprogram that will generate 2 random numbers between 5 and 20. \n",
    "# And, ask the user to add them together. Work out if correct and return both the user's answer and the correct answer.\n",
    "\n",
    "# If they entered 2, run a subprogram that will generate 1 number between 25 and 50 and another number between 1 and 25. \n",
    "# Ask the user to work out num1 minus num2. Return the users answer and correct answer.\n",
    "\n",
    "# Create another subprogram that will check if the user's answer matches the actual answer. \n",
    "# If it does, display \"Correct\". If not \"Incorrect\" and display the correct answer.\n",
    "\n",
    "# If they do not select a relevent option on the first menu, display a suitable error message.\n",
    "\n",
    "import random\n",
    "\n",
    "def one():\n",
    "    num1 = random.randint(5,20)\n",
    "    num2 = random.randint(5,20)\n",
    "    print(num1, \"+\", num2, \"=\")\n",
    "    user_ans1 = int(input(\"Your answer: \"))\n",
    "    actual_answer1 = num1 + num2\n",
    "    answers=(user_ans1, actual_answer1)\n",
    "    return answers\n",
    "\n",
    "def two(): \n",
    "    num1 = random.randint(1,25)\n",
    "    num2 = random.randint(25,50)\n",
    "    print(num1, \"-\", num2, \"=\")\n",
    "    user_ans1 = int(input(\"Your answer: \"))\n",
    "    actual_answer1 = num1 - num2\n",
    "    answers=(user_ans1, actual_answer1)\n",
    "    return answers\n",
    "\n",
    "def check(answers): \n",
    "    if answers[0] == answers[1]: \n",
    "        print(\"Correct\")\n",
    "    else:\n",
    "        print(\"Incorrect. The correct answer is \", answers[1])\n",
    "\n",
    "def main():\n",
    "    print(\"1) Addition\\n\")\n",
    "    print(\"2) Subtraction\\n\")\n",
    "    print(\"Enter 1 or 2: \\n\")\n",
    "    program = int(input(\"Enter a number: \"))\n",
    "    if program == 1:\n",
    "        answers = one() # this is calling the \"one\" subprogram \n",
    "        check(answers) \n",
    "    elif program == 2:\n",
    "        answers = two()\n",
    "        check(answers) # Check is a subprogram. Answers is a variable that is returned or \"passed\" from another subprogram\n",
    "    else:\n",
    "        print(\"Incorrect selection. Please select 1 or 2.\")\n",
    "main()"
   ]
  },
  {
   "cell_type": "code",
   "execution_count": 11,
   "id": "9922fcf1-9a77-43ad-92c3-3e3c7a38b012",
   "metadata": {},
   "outputs": [
    {
     "name": "stdout",
     "output_type": "stream",
     "text": [
      "1. Add a name to the list\n",
      "2. Change a name on the list\n",
      "3. Delete a name from the list\n",
      "4. View all the names in the list\n",
      "5. End the program\n"
     ]
    },
    {
     "name": "stdin",
     "output_type": "stream",
     "text": [
      "Enter your selection:  1\n",
      "Enter a name:  ral\n"
     ]
    },
    {
     "name": "stdout",
     "output_type": "stream",
     "text": [
      "1. Add a name to the list\n",
      "2. Change a name on the list\n",
      "3. Delete a name from the list\n",
      "4. View all the names in the list\n",
      "5. End the program\n"
     ]
    },
    {
     "name": "stdin",
     "output_type": "stream",
     "text": [
      "Enter your selection:  2\n",
      "What name do you want to change:  ral\n",
      "Enter the new name:  mel\n"
     ]
    },
    {
     "name": "stdout",
     "output_type": "stream",
     "text": [
      "1. Add a name to the list\n",
      "2. Change a name on the list\n",
      "3. Delete a name from the list\n",
      "4. View all the names in the list\n",
      "5. End the program\n"
     ]
    },
    {
     "name": "stdin",
     "output_type": "stream",
     "text": [
      "Enter your selection:  3\n"
     ]
    },
    {
     "name": "stdout",
     "output_type": "stream",
     "text": [
      "0 mel\n"
     ]
    },
    {
     "name": "stdin",
     "output_type": "stream",
     "text": [
      "Enter the number of the name you want to delete:  0\n"
     ]
    },
    {
     "name": "stdout",
     "output_type": "stream",
     "text": [
      "1. Add a name to the list\n",
      "2. Change a name on the list\n",
      "3. Delete a name from the list\n",
      "4. View all the names in the list\n",
      "5. End the program\n"
     ]
    },
    {
     "name": "stdin",
     "output_type": "stream",
     "text": [
      "Enter your selection:  4\n"
     ]
    },
    {
     "name": "stdout",
     "output_type": "stream",
     "text": [
      "\n",
      "1. Add a name to the list\n",
      "2. Change a name on the list\n",
      "3. Delete a name from the list\n",
      "4. View all the names in the list\n",
      "5. End the program\n"
     ]
    },
    {
     "name": "stdin",
     "output_type": "stream",
     "text": [
      "Enter your selection:  5\n"
     ]
    }
   ],
   "source": [
    "#121: Create a program that will allow the user to easily manage a list of names\n",
    "# You should display a menu that will allow them to add a name on the list, change a name, delete a name, or view all the names\n",
    "# There should also be a menu option to allow the user to end the program\n",
    "# If they select an option that is not relevent then it should display a suitable error message.\n",
    "# After they have made a selection, they should see the menu option again without having to restart the program.\n",
    "# Make the program as easy as possible to use.\n",
    "\n",
    "#Note: the list is called names\n",
    "\n",
    "def add_name():\n",
    "    name = input(\"Enter a name: \")\n",
    "    names.append(name) \n",
    "    return names\n",
    "    \n",
    "def change_name(): #Enhancement: I want to be able to change the name on the list without knowing the index. \n",
    "    nameChange = input(\"What name do you want to change: \")\n",
    "    name = input(\"Enter the new name: \")\n",
    "    i = names.index(nameChange)\n",
    "    names[i] = name\n",
    "    return names\n",
    "    \n",
    "# def change_name(): #If you know the index number use this\n",
    "#     num = 0\n",
    "#     for x in names:\n",
    "#         print(num, x)\n",
    "#         num = num + 1\n",
    "#     select_num = int(input(\"Enter the number of the name you want to change/delete: \"))\n",
    "#     name = input(\"Enter the new name: \")\n",
    "#     names[select_num] = name\n",
    "#     return names\n",
    "    \n",
    "def delete_name():\n",
    "    num = 0\n",
    "    for x in names:\n",
    "        print(num, x)\n",
    "        num = num + 1\n",
    "        select_num = int(input(\"Enter the number of the name you want to delete: \"))\n",
    "        del names[select_num] \n",
    "        return names\n",
    "    \n",
    "def view():\n",
    "    for x in names:\n",
    "        print(x) #print items in list on seperate lines\n",
    "    print()\n",
    "    \n",
    "\n",
    "def main(): \n",
    "    again = \"YES\"\n",
    "    while again == \"YES\":\n",
    "        print(\"1. Add a name to the list\")\n",
    "        print(\"2. Change a name on the list\")\n",
    "        print(\"3. Delete a name from the list\")\n",
    "        print(\"4. View all the names in the list\")\n",
    "        print(\"5. End the program\")\n",
    "        select = int(input(\"Enter your selection: \"))\n",
    "        if select == 1:\n",
    "            names = add_name()\n",
    "        elif select == 2:\n",
    "            names = change_name()\n",
    "        elif select == 3:\n",
    "            names = delete_name()\n",
    "        elif select == 4:\n",
    "            names = view()\n",
    "        elif select == 5:\n",
    "            again = \"NO\"\n",
    "        else:\n",
    "            print(\"Invalid option. Please select 1 though 5.\")\n",
    "        data = (names, again) # Tuple - with the variables names and again\n",
    "\n",
    "names=[] # the list\n",
    "main() # run the main function\n"
   ]
  },
  {
   "cell_type": "code",
   "execution_count": 14,
   "id": "db27e289-c3fa-4512-959b-85afe0943d89",
   "metadata": {},
   "outputs": [
    {
     "name": "stdout",
     "output_type": "stream",
     "text": [
      "1. Add to file\n",
      "2. View all records\n",
      "3. Quit program\n"
     ]
    },
    {
     "name": "stdin",
     "output_type": "stream",
     "text": [
      "Enter the number of your selection:  3\n"
     ]
    },
    {
     "name": "stdout",
     "output_type": "stream",
     "text": [
      "You have quit the program\n"
     ]
    }
   ],
   "source": [
    "#122: Create the following menu:\n",
    "# 1) Add to file\n",
    "# 2) View all records\n",
    "# 3) Quit program\n",
    "# Enter the number of your selection:\n",
    "# If the user selects 1, allow them to add to a file called Salaries.csv which will store their name and salary\n",
    "# If the user selects 2, it should display all the records in the Salaries.csv file.\n",
    "# If they select 3, it should stop the program.\n",
    "# If they select an incorrect option, they should see an error message\n",
    "# They should keep returning to the menu until they select option 3. \n",
    "\n",
    "import csv\n",
    "\n",
    "print(\"1. Add to file\")\n",
    "print(\"2. View all records\")\n",
    "print(\"3. Quit program\")\n",
    "select = int(input(\"Enter the number of your selection: \"))\n",
    "\n",
    "if select == 1:\n",
    "    file = open (\"Salaries.csv\", \"w\")\n",
    "    name = input(\"Enter name: \")\n",
    "    salary = input(\"Enter a salary: \")\n",
    "    newrecord = name  + \",\" + salary + \"\\n\"\n",
    "    file.write(str(newrecord))\n",
    "    file.close()\n",
    "elif select == 2:\n",
    "    file = open(\"Salaries.csv\", \"r\")\n",
    "    for row in file:\n",
    "        print(row)\n",
    "    file.close()\n",
    "else:\n",
    "    print(\"You have quit the program\")\n",
    "# Help: This is the code I wrote. They wanted us to use subprograms so I then modified it to the next cell"
   ]
  },
  {
   "cell_type": "code",
   "execution_count": 17,
   "id": "a435da27-ec2c-434e-abbe-4bc129decdad",
   "metadata": {},
   "outputs": [
    {
     "name": "stdout",
     "output_type": "stream",
     "text": [
      "1. Add to file\n",
      "2. View all records\n",
      "3. Quit program\n"
     ]
    },
    {
     "name": "stdin",
     "output_type": "stream",
     "text": [
      "Enter the number of your selection:  1\n",
      "Enter name:  mel\n",
      "Enter a salary:  20\n"
     ]
    },
    {
     "name": "stdout",
     "output_type": "stream",
     "text": [
      "1. Add to file\n",
      "2. View all records\n",
      "3. Quit program\n"
     ]
    },
    {
     "name": "stdin",
     "output_type": "stream",
     "text": [
      "Enter the number of your selection:  2\n"
     ]
    },
    {
     "name": "stdout",
     "output_type": "stream",
     "text": [
      "mel,20\n",
      "\n",
      "1. Add to file\n",
      "2. View all records\n",
      "3. Quit program\n"
     ]
    },
    {
     "name": "stdin",
     "output_type": "stream",
     "text": [
      "Enter the number of your selection:  3\n"
     ]
    },
    {
     "name": "stdout",
     "output_type": "stream",
     "text": [
      "You have quit the program.\n"
     ]
    }
   ],
   "source": [
    "#122: with subprograms\n",
    "# Create the following menu:\n",
    "# 1) Add to file\n",
    "# 2) View all records\n",
    "# 3) Quit program\n",
    "# Enter the number of your selection:\n",
    "# If the user selects 1, allow them to add to a file called Salaries.csv which will store their name and salary\n",
    "# If the user selects 2, it should display all the records in the Salaries.csv file.\n",
    "# If they select 3, it should stop the program.\n",
    "# If they select an incorrect option, they should see an error message\n",
    "# They should keep returning to the menu until they select option 3. \n",
    "\n",
    "import csv\n",
    "\n",
    "def add():\n",
    "        file = open (\"Salaries.csv\", \"w\")\n",
    "        name = input(\"Enter name: \")\n",
    "        salary = input(\"Enter a salary: \")\n",
    "        newrecord = name  + \",\" + salary + \"\\n\"\n",
    "        file.write(str(newrecord))\n",
    "        file.close()\n",
    "\n",
    "def read():       \n",
    "    file = open(\"Salaries.csv\", \"r\")\n",
    "    for row in file:\n",
    "        print(row)\n",
    "    file.close()\n",
    "\n",
    "def main():\n",
    "    tryagain = True\n",
    "    while tryagain == True:\n",
    "        print(\"1. Add to file\")\n",
    "        print(\"2. View all records\")\n",
    "        print(\"3. Quit program\")\n",
    "        select = int(input(\"Enter the number of your selection: \"))\n",
    "        if select == 1:\n",
    "            add()\n",
    "        elif select == 2:\n",
    "            read()\n",
    "        elif select == 3:\n",
    "            tryagain = False\n",
    "            print(\"You have quit the program.\")\n",
    "        else:\n",
    "            print(\"Incorrect option. Please select 1, 2 or 3.\")\n",
    "main()"
   ]
  },
  {
   "cell_type": "code",
   "execution_count": null,
   "id": "a3082202-15b2-4b66-8eac-8ecac554d65f",
   "metadata": {},
   "outputs": [],
   "source": [
    "#123: In Python, it is not technically possible to directly delete a record from a csv file. \n",
    "# Instead you need to save the file to a temporary list in Python, make the changes to the list and then overwrite the origianl file with the temporary list.\n",
    "# Change program 122 to allow you to do this:\n",
    "# 1) Add a file\n",
    "# 2) View all records\n",
    "# 3) Delete a record\n",
    "# 4) Quit program\n",
    "# Enter the number of your selection\n",
    "\n",
    "import csv\n",
    "\n",
    "def add():\n",
    "        file = open (\"Salaries.csv\", \"w\")\n",
    "        name = input(\"Enter name: \")\n",
    "        salary = input(\"Enter a salary: \")\n",
    "        newrecord = name  + \",\" + salary + \"\\n\"\n",
    "        file.write(str(newrecord))\n",
    "        file.close()\n",
    "\n",
    "def read():       \n",
    "    file = open(\"Salaries.csv\", \"r\")\n",
    "    for row in file:\n",
    "        print(row)\n",
    "    file.close()\n",
    "    \n",
    "def delete():\n",
    "    \n",
    "\n",
    "def main():\n",
    "    tryagain = True\n",
    "     while tryagain == True:\n",
    "        print(\"1. Add to file\")\n",
    "        print(\"2. View all records\")\n",
    "        print(\"3. Quit program\")\n",
    "        select = int(input(\"Enter the number of your selection: \"))\n",
    "        if select == \"1\":\n",
    "            add()\n",
    "        elif select == \"2\":\n",
    "            read()\n",
    "        elif select == \"3\":\n",
    "            tryagain = False\n",
    "            print(\"You have quit the program.\")\n",
    "        else:\n",
    "            print(\"incorrect option. Please select 1, 2 or 3.\")\n",
    "main()"
   ]
  }
 ],
 "metadata": {
  "kernelspec": {
   "display_name": "Python 3 (ipykernel)",
   "language": "python",
   "name": "python3"
  },
  "language_info": {
   "codemirror_mode": {
    "name": "ipython",
    "version": 3
   },
   "file_extension": ".py",
   "mimetype": "text/x-python",
   "name": "python",
   "nbconvert_exporter": "python",
   "pygments_lexer": "ipython3",
   "version": "3.8.12"
  }
 },
 "nbformat": 4,
 "nbformat_minor": 5
}
