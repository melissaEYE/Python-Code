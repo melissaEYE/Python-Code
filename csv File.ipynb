{
 "cells": [
  {
   "cell_type": "markdown",
   "id": "68d13029-0341-45b1-ad24-d1ca0fb86fd1",
   "metadata": {},
   "source": [
    "# Reading and Writing to a .csv File"
   ]
  },
  {
   "cell_type": "markdown",
   "id": "1144b04e-86a7-4352-80c8-db2d8feed46f",
   "metadata": {},
   "source": [
    "## Python by Example by Nichola Lacey (111-117)"
   ]
  },
  {
   "cell_type": "markdown",
   "id": "cea7729c-8b3b-4734-baf2-af711808e30a",
   "metadata": {},
   "source": [
    "* Notes"
   ]
  },
  {
   "cell_type": "raw",
   "id": "2c0cdc8e-a6ab-4a78-bb89-7fda5964e339",
   "metadata": {},
   "source": [
    "# CSV allows greater control as each row is split up into identifiable columns unlike a txt file.\n",
    "# CSV files are usually associated with importing or exporting from spreadsheets and databases\n",
    "# Similar to the txt file, when you open a CSV you need to specify how it will be used. There are 4 options:\n",
    "# 1) w = creates a new file and writes to that file. If the file already exists, a new file will be created, overwriting the existing file.\n",
    "# 2) x = creates a new file and writes to that file. If the file already exists, the program will crash rather than overwrite it. \n",
    "# 3) r = opens for reading only and will not allow you to make changes\n",
    "# 4) a = Opens for writing, appending to the end of the file. "
   ]
  },
  {
   "cell_type": "markdown",
   "id": "4c10e139-272c-4b70-9703-1c200e675824",
   "metadata": {},
   "source": [
    "* Code Samples"
   ]
  },
  {
   "cell_type": "code",
   "execution_count": null,
   "id": "d6296049-2dd5-4716-b62f-03ab545634f0",
   "metadata": {},
   "outputs": [],
   "source": [
    "# Must use this at the top of the program to allow Python to use the .csv library of commands\n",
    "import csv"
   ]
  },
  {
   "cell_type": "code",
   "execution_count": null,
   "id": "08fa9a4a-cdf0-4f18-943e-55fae20f0a86",
   "metadata": {},
   "outputs": [],
   "source": [
    "import csv\n",
    "file = open (\"Stars.csv\", \"w\") # opens a csv file named Stars and allows us to write new content to the file\n",
    "new = \"Brian, 73, Taurus \\n\" # the new content\n",
    "file.write(str(new))\n",
    "file.close \n",
    "\n",
    "file = open (\"Stars.csv\", \"r\") # reopen the file in read only mode\n",
    "print(file.read()) # show what is in the file"
   ]
  },
  {
   "cell_type": "code",
   "execution_count": null,
   "id": "d7b1bbfd-b959-4aa0-ac68-6a90ef0ed165",
   "metadata": {},
   "outputs": [],
   "source": [
    "# Sample code for opening the stars.csv file. Adding content and appending it to the file. \n",
    "file = open (\"Stars.csv\", \"a\")\n",
    "name = input(\"Enter name: \")\n",
    "age = input(\"Enter age: \")\n",
    "star = input(\"Enter star sign: \")\n",
    "new = name + \", \" + age + \", \" + star + \"\\n\" # shows how to add the content - i.e. what cells to put the values in \n",
    "file.write(str(new))\n",
    "file.close ()\n",
    "\n",
    "file = open (\"Stars.csv\", \"r\") # reopen the file in read only mode\n",
    "print(file.read()) # show what is in the file"
   ]
  },
  {
   "cell_type": "code",
   "execution_count": null,
   "id": "d471ba47-f853-45e6-92c8-d4f3066a988a",
   "metadata": {},
   "outputs": [],
   "source": [
    "# Sample code: opens file in read mode and displays the records one row at a time\n",
    "import csv\n",
    "file = open (\"Stars.csv\", \"r\")\n",
    "for row in file: \n",
    "    print(row)"
   ]
  },
  {
   "cell_type": "code",
   "execution_count": null,
   "id": "11dbd0c2-bb7f-4926-9874-b3453cc6caef",
   "metadata": {},
   "outputs": [],
   "source": [
    "# Sample code: open the file and display only one row.\n",
    "# Reminder that Python starts counting at 0\n",
    "import csv\n",
    "file = open (\"Stars.csv\", \"r\")\n",
    "reader = csv.reader(file)\n",
    "rows = list(reader)\n",
    "print(rows[1])"
   ]
  },
  {
   "cell_type": "code",
   "execution_count": null,
   "id": "fc5ebe09-b8a5-4b21-8797-41531d2a20d8",
   "metadata": {},
   "outputs": [],
   "source": [
    "# Sample code: Asks user to enter the data they are searching for. \n",
    "# It will display all rows that contain that data anywhere in that row. \n",
    "import csv\n",
    "file = open (\"Stars.csv\", \"r\")\n",
    "search = input(\"Enter the data you are searching for: \")\n",
    "reader = csv.reader(file)\n",
    "for row in file:\n",
    "    if search in row:\n",
    "        print(row)"
   ]
  },
  {
   "cell_type": "code",
   "execution_count": null,
   "id": "376e9687-a2ad-422d-a3e1-924a7cc111d8",
   "metadata": {},
   "outputs": [],
   "source": [
    "# Sample code: A csv file cannot be altered, only added to. If you need to alter the file you need to write it to a temporary list.\n",
    "# This block of code will read the original csv file and write it to a list called tmp. \n",
    "# This can then be used and altered as a list\n",
    "import csv\n",
    "file = list(csv.reader(open(\"Stars.csv\")))\n",
    "tmp = []\n",
    "for row in file:\n",
    "    tmp.append(row)\n",
    "    \n",
    "print(tmp)"
   ]
  },
  {
   "cell_type": "code",
   "execution_count": null,
   "id": "83416e4b-8b0f-40f5-8453-6a4bd6fb29c5",
   "metadata": {},
   "outputs": [],
   "source": [
    "# Sample code: Writes from a listinto a new .csv file called \"NewStars.csv\"\n",
    "import csv\n",
    "file = open(\"NewStars.csv\", \"w\")\n",
    "x = 0\n",
    "for row in tmp:\n",
    "    newRec = tmp[x][0] + \", \" + tmp[x][1] + \", \" + tmp[x][2] + \"n\"\n",
    "    file.write(newRec)\n",
    "    x = x +1\n",
    "file.close()\n",
    "\n",
    "file = open (\"NewStars.csv\", \"r\") # reopen the file in read only mode\n",
    "print(file.read()) # show what is in the file"
   ]
  },
  {
   "cell_type": "markdown",
   "id": "8d685629-2246-472f-a374-d89d8332b283",
   "metadata": {},
   "source": [
    "* Coding Challenges"
   ]
  },
  {
   "cell_type": "code",
   "execution_count": null,
   "id": "4a272b7a-1163-4a79-a93f-0f707790b18c",
   "metadata": {},
   "outputs": [],
   "source": [
    "#111: Create a .csv that will store the data (page 95).\n",
    "# Call the file \"Books.csv\"\n",
    "import csv\n",
    "\n",
    "file = open(\"Books.csv\", \"w\")\n",
    "for i in range (0,4):\n",
    "    book = input(\"What is the name of the book? \")\n",
    "    author = input(\"What is the name of the author? \")\n",
    "    yr = input(\"What is the year the book was released? \")\n",
    "    new = book + \", \" + author + \", \" + yr + \"\\n\"\n",
    "    file.write(new)\n",
    "file.close ()\n",
    "\n",
    "file = open (\"Books.csv\", \"r\") # reopen the file in read only mode\n",
    "print(file.read()) # show what is in the file"
   ]
  },
  {
   "cell_type": "code",
   "execution_count": null,
   "id": "71b47220-a869-4cf8-926c-1fc7f09fcd0e",
   "metadata": {},
   "outputs": [],
   "source": [
    "#111: Book code\n",
    "# Create a .csv that will store the data (page 95).\n",
    "# Call the file \"Books.csv\"\n",
    "import csv\n",
    "\n",
    "file = open(\"Books.csv\", \"w\")\n",
    "new = \"To Kill a Mockingbird, Harper Lee, 1960\\n\"\n",
    "file.write(str(new))\n",
    "new = \"A Brief History of Time, Stephen Hawking, 1988\\n\"\n",
    "file.write(str(new))\n",
    "new = \"The Great Gatsby, F. Scott Fitzgerald, 1922\\n\"\n",
    "file.write(str(new))\n",
    "new = \"The Man Who Mistook his Wife for a Hat, Oliver Sacksm 1985\\n\"\n",
    "file.write(str(new))\n",
    "new = \"Pride and Prejudice, Jane Austen, 1813\\n\"\n",
    "file.write(str(new))\n",
    "file.close()\n",
    "\n",
    "file = open(\"Books.csv\", \"r\")\n",
    "print(file.read()) # show what is in the file"
   ]
  },
  {
   "cell_type": "code",
   "execution_count": null,
   "id": "7c71c178-e4d3-48a7-b16b-bb07908cd5b1",
   "metadata": {},
   "outputs": [],
   "source": [
    "#112: Using the books.csv file ask the user to enter another record and add it to the end of the file. \n",
    "# Display each row of the .csv file on a seperate line\n",
    "import csv\n",
    "\n",
    "file = open(\"Books.csv\", \"a\")\n",
    "book = input(\"What is the name of the book? \")\n",
    "author = input(\"What is the name of the author? \")\n",
    "yr = input(\"What is the year the book was released? \")\n",
    "new = book + \", \" + author + \", \" + yr + \"\\n\"\n",
    "file.write(str(new))\n",
    "file.close()\n",
    "\n",
    "file = open(\"Books.csv\", \"r\")\n",
    "for row in file:\n",
    "    print(row)\n",
    "file.close()\n",
    "#print(file.read()) # show what is in the file"
   ]
  },
  {
   "cell_type": "code",
   "execution_count": null,
   "id": "057b1208-b2a0-4185-92a9-3a24d2b2fd98",
   "metadata": {},
   "outputs": [],
   "source": [
    "#113: Using the books.csv file, ask the user how many records they want to add to the list and then allow them to add that many\n",
    "# After all the data has been added, ask for an author and display all the books in the list by that author.\n",
    "# If there are no books by that author in the list, display a suitable message\n",
    "import csv\n",
    "\n",
    "num = int(input(\"How many records do you want to add to the file? \"))\n",
    "file = open(\"Books.csv\", \"a\")\n",
    "for i in range(num):\n",
    "    book = input(\"What is the name of the book? \")\n",
    "    author = input(\"What is the name of the author? \")\n",
    "    yr = input(\"What is the year the book was released? \")\n",
    "    new = book + \", \" + author + \", \" + yr + \"\\n\"\n",
    "    file.write(str(new))\n",
    "file.close()\n",
    "\n",
    "searchauthor = input(\"Enter au: \")\n",
    "\n",
    "file = open(\"Books.csv\", \"r\")\n",
    "count = 0\n",
    "for row in file:\n",
    "    if searchauthor in row:\n",
    "        print(row)\n",
    "        count = count + 1\n",
    "if count == 0:\n",
    "    print(\"no books\")\n",
    "file.close()"
   ]
  },
  {
   "cell_type": "code",
   "execution_count": 2,
   "id": "9d04d047-87d6-4ffe-8d02-0574704aa491",
   "metadata": {},
   "outputs": [
    {
     "name": "stdin",
     "output_type": "stream",
     "text": [
      "Enter a starting year:  1960\n",
      "Enter an ending year:  2001\n"
     ]
    },
    {
     "name": "stdout",
     "output_type": "stream",
     "text": [
      "To Kill a Mockingbird\n",
      "A Brief History of Time\n",
      "The Man Who Mistook his Wife for a Hat\n",
      "q\n",
      "ready\n"
     ]
    }
   ],
   "source": [
    "#114: Using the books.csv file, ask the user to enter a starting year and an ending year\n",
    "# Display all the books released between those 2 years\n",
    "import csv\n",
    "\n",
    "file = open(\"Books.csv\", \"r\")\n",
    "start = int(input(\"Enter a starting year: \"))\n",
    "end = int(input(\"Enter an ending year: \"))\n",
    "\n",
    "for row in file:\n",
    "    row_list = row.split(\" \")\n",
    "    if int(row_list[-1]) >=start and int(row_list[-1]) <=end:\n",
    "        print(row.split(\",\")[0])\n",
    "file.close()"
   ]
  },
  {
   "cell_type": "code",
   "execution_count": 3,
   "id": "2f002daf-1e78-4254-af95-28d9ccd10e31",
   "metadata": {},
   "outputs": [
    {
     "name": "stdout",
     "output_type": "stream",
     "text": [
      "Row: 0 - a, d, 1234\n",
      "\n",
      "Row: 1 - a, w, 1234\n",
      "\n",
      "Row: 2 - a, y, 3456\n",
      "\n",
      "Row: 3 - a, d, 1234\n",
      "\n",
      "Row: 4 - w, r, 1234\n",
      "\n",
      "Row: 5 - The Great Gatsby, F. Scott Fitzgerald, 1922\n",
      "\n",
      "Row: 6 - The Great Gatsby, F. Scott Fitgerald, 1922\n",
      "\n"
     ]
    }
   ],
   "source": [
    "#115: Using the books.csv file, display the data in the file along with the row number of each\n",
    "import csv\n",
    "file = open(\"Names.csv\", \"r\")\n",
    "x = 0\n",
    "for row in file:\n",
    "    display = \"Row: \" + str(x) + \" - \" + row\n",
    "    print(display)\n",
    "    x = x + 1\n",
    "file.close()"
   ]
  },
  {
   "cell_type": "code",
   "execution_count": 6,
   "id": "0deff87a-63ff-408d-9380-e86f642603df",
   "metadata": {},
   "outputs": [
    {
     "name": "stdin",
     "output_type": "stream",
     "text": [
      "Which row do you want to delete from the list?  1\n"
     ]
    },
    {
     "name": "stdout",
     "output_type": "stream",
     "text": [
      "[['To Kill a Mockingbird', ' Harper Lee', ' 1960'], ['The Great Gatsby', ' F. Scott Fitzgerald', ' 1922'], ['The Man Who Mistook his Wife for a Hat', ' Oliver Sacksm 1985'], ['Pride and Prejudice', ' Jane Austen', ' 1813'], ['q', ' e', ' 2001'], ['o', ' o', ' 2003'], ['r', ' t', ' 2009'], ['jamie', ' hunter', ' 2009'], ['ready', ' set', ' 2000']]\n"
     ]
    }
   ],
   "source": [
    "#116: Import the data from the books.csv file into a list. \n",
    "# Display the list to the user.\n",
    "# Ask them to select which row from the list they want to delete and remove it from the list.\n",
    "# Ask the user which data they want to change and allow them to change it. \n",
    "# Write the data back to the original .csv file, overwriting the existing data with the amended data\n",
    "import csv\n",
    "file = list(csv.reader(open(\"Books.csv\")))\n",
    "tmp\n",
    "getRid = int(input(\"Which row do you want to delete from the list? \"))\n",
    "del file[getRid]\n",
    "print(file)"
   ]
  },
  {
   "cell_type": "code",
   "execution_count": 9,
   "id": "8e9e1afe-eae0-4299-90e1-30a71611b09e",
   "metadata": {},
   "outputs": [
    {
     "name": "stdin",
     "output_type": "stream",
     "text": [
      "What is your name? rot\n",
      "What is 1 multiplied by 4? 1\n"
     ]
    },
    {
     "name": "stdout",
     "output_type": "stream",
     "text": [
      "Incorrect\n",
      "rot,1,4,False\n",
      "\n"
     ]
    },
    {
     "name": "stdin",
     "output_type": "stream",
     "text": [
      "What is your name? ews\n",
      "What is 1 multiplied by 4? 4\n"
     ]
    },
    {
     "name": "stdout",
     "output_type": "stream",
     "text": [
      "Correct\n",
      "ews,4,4,True\n",
      "\n",
      "m,0,0m,12,12m,16,16m,0,0k,34,24r,0,0\n",
      "e,10,10\n",
      "d,10,10\n",
      "t,0,0\n",
      "c,32,32\n",
      "o,14,14\n",
      "l,5,5\n",
      "o,34,36\n",
      "r,56,56\n",
      "p,54,54\n",
      "Meli,1,1\n",
      "nic,10,12\n",
      "Ral,4,4,True\n",
      "rea,10,12,True\n",
      "rot,1,4,False\n",
      "ews,4,4,True\n",
      "\n"
     ]
    }
   ],
   "source": [
    "#117: Create a simple maths quiz that will ask the user for their name and then generate two random values as questions.\n",
    "# Store their name, the questions they were asked, their answers and their final score in a .csv file.\n",
    "# Whenever the program is run it should add to the .csv file and not overwrite anything\n",
    "import math\n",
    "import random\n",
    "import csv\n",
    "file = open (\"Math_Quiz.csv\", \"a\")\n",
    "counter = 0\n",
    "\n",
    "for i in range(2):\n",
    "    name = input(\"What is your name?\" )\n",
    "    num1 = random.randint(0,9)\n",
    "    num2 = random.randint(0,9)\n",
    "    answer = num1 * num2\n",
    "    question = int(input(\"What is \" + str(num1) + \" multiplied by \" + str(num2) + \"?\"))\n",
    "    counter = counter + 1\n",
    "    if answer == question: \n",
    "        print(\"Correct\")\n",
    "        correct = answer == question\n",
    "        value = correct\n",
    "    else:\n",
    "        print(\"Incorrect\") \n",
    "        incorrect = answer == question\n",
    "        value = incorrect\n",
    "    newrecord = name + \",\" + str(question) + \",\" + str(answer) + \",\" + str(value) + \"\\n\" \n",
    "    file.write(newrecord)\n",
    "    print(newrecord)\n",
    "file.close()\n",
    "\n",
    "file = open (\"Math_Quiz.csv\", \"r\")\n",
    "print(file.read()) \n",
    "file.close()"
   ]
  }
 ],
 "metadata": {
  "kernelspec": {
   "display_name": "Python 3 (ipykernel)",
   "language": "python",
   "name": "python3"
  },
  "language_info": {
   "codemirror_mode": {
    "name": "ipython",
    "version": 3
   },
   "file_extension": ".py",
   "mimetype": "text/x-python",
   "name": "python",
   "nbconvert_exporter": "python",
   "pygments_lexer": "ipython3",
   "version": "3.8.12"
  }
 },
 "nbformat": 4,
 "nbformat_minor": 5
}
