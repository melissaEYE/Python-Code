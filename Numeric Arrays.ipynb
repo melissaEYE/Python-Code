{
 "cells": [
  {
   "cell_type": "markdown",
   "id": "e26c1f32-7856-4535-b544-d5be3d033c12",
   "metadata": {},
   "source": [
    "# Numeric Arrays"
   ]
  },
  {
   "cell_type": "markdown",
   "id": "7d002f24-77ac-4ee6-9117-904bc3180b70",
   "metadata": {},
   "source": [
    "## Python by Example by Nichola Lacey (88-93)"
   ]
  },
  {
   "cell_type": "markdown",
   "id": "18e3cde0-bf20-4813-913a-fe21f4706174",
   "metadata": {},
   "source": [
    "* Notes"
   ]
  },
  {
   "cell_type": "code",
   "execution_count": null,
   "id": "a967f41d-82c1-4c18-9e93-547e73383268",
   "metadata": {},
   "outputs": [],
   "source": [
    "# Python arrays are similar to lists, but they are used only to store numbers\n",
    "# Numbers can have varying ranges, but in an array all peices of data in that array  must have the same data type.\n",
    "# 'i' = integer: Whole number between -32,768 and 32,767\n",
    "# 'l' = long: whole number between -2,147,483,647 and 2,147,483,647\n",
    "# 'f' = floating point: Allows decimal places with numbers ranging from -/+10 to the 38 (i.e. allows up to 38 numeric characters including a single decimal point\n",
    "# 'd' = double: allows decimal places with numbers ranging from -/+10 to the 308\n",
    "# You need to define the type of data the array will contain and you cn't change the data type while the program is running. In other words if you define the array as \"i\" don't use a decimal or the program will crash\n",
    "# In Python if you want to store strings you can't use arrays. Use a list instead. "
   ]
  },
  {
   "cell_type": "markdown",
   "id": "fda14147-5c83-44fb-9f80-38f153216ce8",
   "metadata": {},
   "source": [
    "* Sample Code"
   ]
  },
  {
   "cell_type": "code",
   "execution_count": null,
   "id": "ad435fe7-8b37-4610-9661-dab1f612b2b8",
   "metadata": {},
   "outputs": [],
   "source": [
    "# To use arrays in Python you must import the array library\n",
    "from array import *"
   ]
  },
  {
   "cell_type": "code",
   "execution_count": null,
   "id": "05bf2ab5-26a3-418b-bb6e-98bcbe92c763",
   "metadata": {},
   "outputs": [],
   "source": [
    "# To create an array of integer numbers\n",
    "from array import *\n",
    "nums = array (\"i\", [45, 324, 654, 45, 264])\n",
    "print(nums)"
   ]
  },
  {
   "cell_type": "code",
   "execution_count": null,
   "id": "932805e3-7a30-4c93-a8f3-5ec240322daf",
   "metadata": {},
   "outputs": [],
   "source": [
    "# Display an array with each item appearing on a seperate line\n",
    "from array import *\n",
    "nums = array (\"i\", [45, 324, 654, 45, 264])\n",
    "for x in nums:\n",
    "    print(x)"
   ]
  },
  {
   "cell_type": "code",
   "execution_count": null,
   "id": "a1548181-0280-4f1d-bac8-751cbf136615",
   "metadata": {},
   "outputs": [],
   "source": [
    "# Add a new number to the end of an array\n",
    "from array import *\n",
    "nums = array (\"i\", [45, 324, 654, 45, 264])\n",
    "newValue = int(input(\"Enter number: \"))\n",
    "nums.append(newValue)\n",
    "print(nums)"
   ]
  },
  {
   "cell_type": "code",
   "execution_count": null,
   "id": "1af997ad-b917-4f44-aa45-0760f07b8590",
   "metadata": {},
   "outputs": [],
   "source": [
    "# Sort the array in ascending order\n",
    "nums = array (\"i\", [45, 324, 654, 45, 264])\n",
    "nums =sorted(nums)\n",
    "print(nums)"
   ]
  },
  {
   "cell_type": "code",
   "execution_count": null,
   "id": "49005939-c63a-4aeb-8e12-c83c4b3e1141",
   "metadata": {},
   "outputs": [],
   "source": [
    "# Remove the last item from the array\n",
    "from array import *\n",
    "nums = array (\"i\", [45, 324, 654, 45, 264])\n",
    "nums.pop()\n",
    "print(nums)"
   ]
  },
  {
   "cell_type": "code",
   "execution_count": null,
   "id": "14e1cbac-c052-4341-aa9f-77f840e004fb",
   "metadata": {},
   "outputs": [],
   "source": [
    "# Remove the last item from the array\n",
    "from array import *\n",
    "nums = array (\"i\", [45, 324, 654, 45, 264])\n",
    "nums.reverse()\n",
    "print(nums)"
   ]
  },
  {
   "cell_type": "code",
   "execution_count": null,
   "id": "d6a9a2ba-56e0-4c64-80cc-889981e9e853",
   "metadata": {},
   "outputs": [],
   "source": [
    "from array import *\n",
    "newArray = array(\"i\",[]) # Create a new blank array using integers\n",
    "nums = array (\"i\", [45, 324, 654, 45, 264])\n",
    "more = int(input(\"How many more items: \")) # Asks the user how many items they want to add to the new array\n",
    "for y in range (0, more):\n",
    "    newValue = int(input(\"Enter a number: \"))\n",
    "    newArray.append(newValue) # appends the new items to the newArray\n",
    "nums.extend(newArray)\n",
    "print(nums, newArray)"
   ]
  },
  {
   "cell_type": "code",
   "execution_count": null,
   "id": "69aef307-9e4b-4bd1-b8e6-3b567212068d",
   "metadata": {},
   "outputs": [],
   "source": [
    "# Ask the user for a number they want to remove then remove the first item that matches that value from the array\n",
    "# Remember it only gets rid of teh FIRST instance of the number - not all instances of the number\n",
    "from array import *\n",
    "nums = array (\"i\", [45, 324, 654, 45, 264])\n",
    "getRid = int(input(\"What number do you want removed? \"))\n",
    "nums.remove(getRid)\n",
    "print(nums)"
   ]
  },
  {
   "cell_type": "code",
   "execution_count": null,
   "id": "45303d52-6ec9-4344-9c5e-a7a4640aa0f1",
   "metadata": {},
   "outputs": [],
   "source": [
    "# To display the number of times a number appears in an array\n",
    "from array import *\n",
    "nums = array (\"i\", [45, 324, 654, 45, 264])\n",
    "print(nums.count(45))"
   ]
  },
  {
   "cell_type": "markdown",
   "id": "5bdfb96f-1f17-4b9f-ba41-bd38f2cbe6d7",
   "metadata": {},
   "source": [
    "* Coding Challenges"
   ]
  },
  {
   "cell_type": "code",
   "execution_count": null,
   "id": "5d1d7146-6e0a-43d6-b530-9628dce6e904",
   "metadata": {},
   "outputs": [],
   "source": [
    "#88: Ask the user for a list of five integers. \n",
    "# Store them in an array.\n",
    "# Sort the list and display it in reverse order\n",
    "from array import *\n",
    "nums = array(\"i\",[])\n",
    "for i in range (0,5):\n",
    "    num = int(input(\"Add a number: \"))\n",
    "    nums.append(num)\n",
    "nums=sorted(nums)\n",
    "nums.reverse()\n",
    "print(nums)"
   ]
  },
  {
   "cell_type": "code",
   "execution_count": null,
   "id": "1633e026-d647-4bbf-8af4-a90f2211ae0b",
   "metadata": {},
   "outputs": [],
   "source": [
    "#89: Create an array which will store a list of integers. \n",
    "# Generate five random numbers and store them in the array\n",
    "# Display the array showing each item on a seperate line\n",
    "from array import *\n",
    "import random\n",
    "nums = array(\"i\",[])\n",
    "for i in range (0,5):\n",
    "    num=random.randint(0,4)\n",
    "    nums.append(num)\n",
    "for x in nums:\n",
    "    print(x)"
   ]
  },
  {
   "cell_type": "code",
   "execution_count": null,
   "id": "7c37d339-c249-47ec-bcc3-d00ac621ed5f",
   "metadata": {},
   "outputs": [],
   "source": [
    "# 90: Ask the user to enter numbers.\n",
    "# If they enter numbers between 10 and 20 save it in an array.\n",
    "# Otherwise display the message \"Outside the range\"\n",
    "# Once 5 numbers have been successfully added, display the message \"Thank you.\"\n",
    "# Display the array with each item shown on a seperate line\n",
    "from array import *\n",
    "nums = array(\"i\",[])\n",
    "count = 0\n",
    "while count <5:\n",
    "    num = int(input(\"Enter a number: \"))\n",
    "    if num >=11 and num <=20:\n",
    "        count = count + 1\n",
    "        nums.append(num)\n",
    "    else:\n",
    "        print(\"Outside the range.\")\n",
    "print(\"Thank you.\")\n",
    "for x in nums:\n",
    "    print(x)"
   ]
  },
  {
   "cell_type": "code",
   "execution_count": null,
   "id": "b550a31f-051c-42da-9e3e-59821a40587a",
   "metadata": {},
   "outputs": [],
   "source": [
    "#91: Create an array which contains 5 numbers (two of which should be repeated).\n",
    "# Display the whole array to the user\n",
    "# Ask the user to enter one of the numbers from the array and then display a message saying how many times that number appears in the list\n",
    "from array import *\n",
    "nums = array (\"i\", [45, 324, 654, 45, 264])\n",
    "print(nums)\n",
    "times = int(input(\"Enter a number from the array: \"))\n",
    "print(nums.count(times))"
   ]
  },
  {
   "cell_type": "code",
   "execution_count": null,
   "id": "c54c4bd3-17b1-4954-b706-0e2d0850392f",
   "metadata": {},
   "outputs": [],
   "source": [
    "#92: Create two arrays - one containing 3 numbers, and another containing a set of 5 random numbers.\n",
    "# Join the two arrays together into one array\n",
    "# Sort the large array and display it so that each number appears on a seperate line\n",
    "\n",
    "from array import *\n",
    "import random\n",
    "nums1 = array (\"i\", [45, 324, 654])\n",
    "nums2 = array(\"i\",[]) # Create a new blank array using integers\n",
    "for i in range (0,5):\n",
    "    num=random.randint(0,4)\n",
    "    nums2.append(num)\n",
    "newarray = nums1+nums2\n",
    "newarray = sorted(newarray)\n",
    "for x in newarray:\n",
    "     print(x)"
   ]
  },
  {
   "cell_type": "code",
   "execution_count": null,
   "id": "8fb43443-1b55-4885-97f2-12f152c2e34d",
   "metadata": {},
   "outputs": [],
   "source": [
    "#93: Ask the user to enter five numbers. \n",
    "#Sort them into order and present them to the user. \n",
    "#Ask them to select one of the numbers.\n",
    "#Remove it from the original array and save it in a new array.\n",
    "\n",
    "from array import *\n",
    "nums = array(\"i\",[])\n",
    "\n",
    "for i in range (5):\n",
    "    num = int(input(\"Enter a number: \"))\n",
    "    nums.append(num)\n",
    "nums = sorted(nums)\n",
    "print(nums)\n",
    "\n",
    "nums2 = int(input(\"Select a number from the array: \"))\n",
    "nums.remove(nums2)\n",
    "print(nums)\n",
    "\n",
    "nums2 = array(\"i\",[nums2])\n",
    "print(nums2)"
   ]
  },
  {
   "cell_type": "code",
   "execution_count": null,
   "id": "085bde5f-2820-4758-bee0-c230a4d5dfc1",
   "metadata": {},
   "outputs": [],
   "source": [
    "#94: Display an array of 5 numbers\n",
    "# Ask the user to select one of the numbers\n",
    "# Once selected display the position of that item in the array. \n",
    "# If they enter something that is not in the array, ask them to try again until they select a relevant number\n",
    "\n",
    "from array import *\n",
    "nums = array ('i', [1, 2, 3, 4, 5])\n",
    "for i in nums:\n",
    "    print(i)\n",
    "num2 = int(input(\"Select a number from the array: \"))\n",
    "tryagain = True\n",
    "while tryagain == True:\n",
    "    if num2 in nums:\n",
    "        print(\"This is the position\", nums.index(num2)) \n",
    "        tryagain = False\n",
    "    else:\n",
    "        print(\"The number is not in the array.\")\n",
    "        num2 = int(input(\"Select a number from the array: \"))"
   ]
  },
  {
   "cell_type": "code",
   "execution_count": null,
   "id": "bb14ee1c-eeb3-4dba-8b31-221cbce0620f",
   "metadata": {},
   "outputs": [],
   "source": [
    "#95: Create an array of 5 numbers between 10 and 100 which each have 2 decimal places\n",
    "# Ask the user to enter a whole number between 2 and 5\n",
    "# If they enter something outside of that range, display a suitable error message and ask them to try again until they enter a valid amount\n",
    "# Divide each of the numbers in the array by the number the user entered and display the answers shown to two decimal points\n",
    "\n",
    "from array import *\n",
    "nums = array ('f', [10.11, 20.22, 30.33, 40.44, 50.55])\n",
    "for x in nums:\n",
    "    print(round(x,2))\n",
    "    \n",
    "num = int(input(\"Enter a number between 2 and 5: \"))\n",
    "tryagain = True\n",
    "while tryagain == True:\n",
    "    if num >= 2 and num <= 5:\n",
    "        tryagain = False\n",
    "    else:\n",
    "        print(\"This number is not between 2 and 5.\")\n",
    "        num = int(input(\"Enter a number between 2 and 5: \"))\n",
    "for i in range (0,5):\n",
    "    answer = nums[i]/num\n",
    "    print(round(answer,2))\n",
    "#Enhancement I can use the i in range here because I know how many values are in the array. What would I do if I didn't know this? Or the array kept changing? \n",
    "# Answer: for i in range(len(nums)):"
   ]
  }
 ],
 "metadata": {
  "kernelspec": {
   "display_name": "Python 3 (ipykernel)",
   "language": "python",
   "name": "python3"
  },
  "language_info": {
   "codemirror_mode": {
    "name": "ipython",
    "version": 3
   },
   "file_extension": ".py",
   "mimetype": "text/x-python",
   "name": "python",
   "nbconvert_exporter": "python",
   "pygments_lexer": "ipython3",
   "version": "3.8.12"
  }
 },
 "nbformat": 4,
 "nbformat_minor": 5
}
