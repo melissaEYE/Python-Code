{
 "cells": [
  {
   "cell_type": "markdown",
   "id": "73a9ff4c-4fb2-49dd-9069-d1b3d6b07a45",
   "metadata": {},
   "source": [
    "# Turtle Graphics"
   ]
  },
  {
   "cell_type": "markdown",
   "id": "341469a6-4417-4cb6-a0e9-757357ae24db",
   "metadata": {},
   "source": [
    "## Python by Example by Nichola Lacey (60-68)"
   ]
  },
  {
   "cell_type": "markdown",
   "id": "f94e6fa8-42fa-4d2d-90b1-b7f82e3c58cb",
   "metadata": {},
   "source": [
    "* Notes"
   ]
  },
  {
   "cell_type": "code",
   "execution_count": 2,
   "id": "1842d5dd-54f5-49a6-9673-e535733a0696",
   "metadata": {},
   "outputs": [],
   "source": [
    "# Turtle graphics: allow you to draw in Python. By typing in commands and using loops, you can create intricate patterns. \n",
    "# A \"turtle\" will travel along a path that you define, leaving a pen mark behind it. As you control the turtle the pattern that is left is revealed.\n",
    "# You must import turtle to use this function\n",
    "# Order of operations include: penup/down, color, fill, steps (forward/backward), turn (direction, degrees). Then repeat to close it down. \n",
    "# scr = turtle.screen() defines the window"
   ]
  },
  {
   "cell_type": "code",
   "execution_count": 3,
   "id": "c0dc2c34-8756-4ca1-a9a4-c94bac5ca6b9",
   "metadata": {},
   "outputs": [],
   "source": [
    "# Additional Turtle graphics commands include:\n",
    "# scr.bgcolor(\"yellow\") sets the background screen to yellow\n",
    "# turtle.penup() removes the pen from the page so teh turtle does not leave a trail behind it\n",
    "# turtle.pendown() places the pen back on the page so when teh turtle moves it will leave a trail. This is the default setting\n",
    "# turtle.pensize(3) changes the thickness of the line being draw. Higher number = thicker line\n",
    "# turtle.left(120) moves the turtle to the left 120 degrees - derivations = right, up, down; change degrees\n",
    "# turtle.forward(50) moves the turtle forward 50 steps\n",
    "# turtle.hideturtle() hides the turtle so it is not showing on the screen\n",
    "# turtle.showturtle() shows turtle on screen. This is the default\n",
    "# turtle.color(\"black\",\"red\") defines colors. Black outline and red fill\n",
    "# turtle.begin_fill() enters before the code so it knows to draw the shape and fill it. \n",
    "# turtle.end_fill() entered after the code that is drawing the shape so it knows to stop filling the shape\n",
    "# turtle.exitonclick() when user clicks on turtle window it will close automatically"
   ]
  },
  {
   "cell_type": "markdown",
   "id": "1ab80861-af0d-4fc4-9bd0-c30167cf3dba",
   "metadata": {},
   "source": [
    "* Sample Code"
   ]
  },
  {
   "cell_type": "code",
   "execution_count": 4,
   "id": "586eebdf-a696-4e61-bee2-10a8d947d249",
   "metadata": {},
   "outputs": [],
   "source": [
    "# Draws a pentagon\n",
    "import turtle\n",
    "turtle.shape(\"turtle\")\n",
    "for i in range (0,5):\n",
    "    turtle.forward(100)\n",
    "    turtle.right(72)\n",
    "turtle.exitonclick()"
   ]
  },
  {
   "cell_type": "code",
   "execution_count": null,
   "id": "1828193f-f220-4a5f-ad43-a64589f104bd",
   "metadata": {},
   "outputs": [],
   "source": [
    "# Nested loops i.e. loops inside loops create patterns that are more complex\n",
    "# Draws a pentagon many times creating a pattern \n",
    "import turtle\n",
    "for i in range (0,10):\n",
    "    turtle.right(36)\n",
    "    for i in range (0,5):\n",
    "        turtle.forward(100)\n",
    "        turtle.right(72)\n",
    "        \n",
    "turtle.exitonclick()\n",
    "\n",
    "# This code takes one pentagon and has repeatedly drawn it 10 times, rotating 36 degrees around a central point. "
   ]
  },
  {
   "cell_type": "markdown",
   "id": "05f72991-80e2-4176-b53c-9fe5195400d0",
   "metadata": {},
   "source": [
    "* Coding Challenges"
   ]
  },
  {
   "cell_type": "code",
   "execution_count": null,
   "id": "94e2f184-6886-4d09-a121-acf971d734b5",
   "metadata": {},
   "outputs": [],
   "source": [
    "# 60: A square\n",
    "import turtle\n",
    "for i in range(0,4):\n",
    "    turtle.forward(100)\n",
    "    turtle.right(90)\n",
    "    \n",
    "turtle.exitonclick()"
   ]
  },
  {
   "cell_type": "code",
   "execution_count": null,
   "id": "6ac84b95-5e36-4918-b588-4a5359f2896f",
   "metadata": {},
   "outputs": [],
   "source": [
    "#61: A triangle\n",
    "import turtle\n",
    "for i in range (0,3):\n",
    "    turtle.forward(100)\n",
    "    turtle.left(120)\n",
    "    \n",
    "turtle.exitonclick()"
   ]
  },
  {
   "cell_type": "code",
   "execution_count": null,
   "id": "e54f3f6b-236d-4e49-947b-1027d1697071",
   "metadata": {},
   "outputs": [],
   "source": [
    "#63: Draw 3 squares in a row with a gap between each \n",
    "# Fill each square using different colors.\n",
    "import turtle\n",
    "\n",
    "turtle.color(\"black\",\"red\")\n",
    "turtle.begin_fill()\n",
    "for i in range(0,4):\n",
    "    turtle.forward(70)\n",
    "    turtle.right(90)\n",
    "turtle.penup()\n",
    "turtle.end_fill()\n",
    "turtle.forward(100)\n",
    "\n",
    "turtle.pendown()\n",
    "turtle.color(\"green\",\"blue\")\n",
    "turtle.begin_fill()\n",
    "for i in range(0,4):\n",
    "    turtle.forward(70)\n",
    "    turtle.right(90)\n",
    "turtle.penup()\n",
    "turtle.end_fill()\n",
    "turtle.forward(100)\n",
    "\n",
    "turtle.pendown()\n",
    "turtle.color(\"blue\",\"green\")\n",
    "turtle.begin_fill()\n",
    "for i in range(0,4):\n",
    "    turtle.forward(70)\n",
    "    turtle.right(90)\n",
    "turtle.penup()\n",
    "turtle.end_fill()\n",
    "\n",
    "turtle.exitonclick()"
   ]
  },
  {
   "cell_type": "code",
   "execution_count": null,
   "id": "f8523a55-2ed6-48a6-bf75-28b8f5bc5af0",
   "metadata": {},
   "outputs": [],
   "source": [
    "#64: Draw a five pointed star\n",
    "import turtle\n",
    "for i in range (0,5):\n",
    "    turtle.forward(100)\n",
    "    turtle.right(144)\n",
    "turtle.exitonclick()"
   ]
  },
  {
   "cell_type": "code",
   "execution_count": null,
   "id": "33edb487-1c2d-4b0f-b488-f9b908fd9f73",
   "metadata": {},
   "outputs": [],
   "source": [
    "#65: Write the numbers 1, 2, 3 starting at the bottom of number 1\n",
    "\n",
    "import turtle\n",
    "\n",
    "turtle.pensize(10) # enhancement\n",
    "turtle.left(90)\n",
    "turtle.forward(100)\n",
    "turtle.penup()\n",
    "turtle.right(90)\n",
    "turtle.forward(100)\n",
    "turtle.pendown()\n",
    "turtle.forward(100)\n",
    "turtle.right(90)\n",
    "turtle.forward(50)\n",
    "turtle.right(90)\n",
    "turtle.forward(100)\n",
    "turtle.left(90)\n",
    "turtle.forward(50)\n",
    "turtle.left(90)\n",
    "turtle.forward(100)\n",
    "turtle.penup()\n",
    "turtle.forward(100)\n",
    "turtle.pendown()\n",
    "turtle.forward(100)\n",
    "turtle.left(90)\n",
    "turtle.forward(50)\n",
    "turtle.left(90)\n",
    "turtle.forward(75)\n",
    "turtle.penup()\n",
    "turtle.right(180)\n",
    "turtle.forward(75)\n",
    "turtle.pendown()\n",
    "turtle.left(90)\n",
    "turtle.forward(50)\n",
    "turtle.left(90)\n",
    "turtle.forward(100)\n",
    "\n",
    "turtle.exitonclick()"
   ]
  },
  {
   "cell_type": "code",
   "execution_count": null,
   "id": "d0d9f107-00ed-457b-b00f-be6248af5bc5",
   "metadata": {},
   "outputs": [],
   "source": [
    "#66: Draw an octogon \n",
    "# Use different colors that are randomly selected from a list of 6 possible colors for each line.\n",
    "\n",
    "import turtle\n",
    "import random\n",
    "turtle.pensize(5)\n",
    "\n",
    "for i in range(0,8):\n",
    "    turtle.color(random.choice([\"orange\", \"red\", \"blue\", \"green\", \"pink\", \"yellow\"]))\n",
    "    turtle.forward(100)\n",
    "    turtle.right(45)\n",
    "\n",
    "turtle.exitonclick()"
   ]
  },
  {
   "cell_type": "code",
   "execution_count": null,
   "id": "810289bf-7923-4ca2-86dd-b623fa2a3b45",
   "metadata": {},
   "outputs": [],
   "source": [
    "#67: Create many octagons that make a larger octagon\n",
    "\n",
    "import turtle\n",
    "import random\n",
    "turtle.pensize(5)\n",
    "\n",
    "for i in range(0,8):\n",
    "    turtle.right(45)\n",
    "    for i in range(0,8):\n",
    "        turtle.color(random.choice([\"orange\", \"red\", \"blue\", \"green\", \"pink\", \"yellow\"]))\n",
    "        turtle.forward(100)\n",
    "        turtle.right(45)\n",
    "   \n",
    "turtle.exitonclick()"
   ]
  },
  {
   "cell_type": "code",
   "execution_count": null,
   "id": "93757371-6bbf-4644-b58c-0dba9fc2b6b4",
   "metadata": {},
   "outputs": [],
   "source": [
    "#68: Draw a pattern that will change each time the program is run\n",
    "# Use the random function to pick the number of lines, the length of each line and the angle of each turn\n",
    "\n",
    "import turtle\n",
    "import random\n",
    "turtle.pensize(5)\n",
    "\n",
    "lines = random.randint(2,20)\n",
    "\n",
    "for i in range (0,lines):\n",
    "    length = random.randint(25,100)\n",
    "    angle = random.randint(1,365)\n",
    "    turtle.forward(length)\n",
    "    turtle.right(angle)\n",
    "\n",
    "turtle.exitonclick()"
   ]
  }
 ],
 "metadata": {
  "kernelspec": {
   "display_name": "Python 3 (ipykernel)",
   "language": "python",
   "name": "python3"
  },
  "language_info": {
   "codemirror_mode": {
    "name": "ipython",
    "version": 3
   },
   "file_extension": ".py",
   "mimetype": "text/x-python",
   "name": "python",
   "nbconvert_exporter": "python",
   "pygments_lexer": "ipython3",
   "version": "3.8.12"
  }
 },
 "nbformat": 4,
 "nbformat_minor": 5
}
