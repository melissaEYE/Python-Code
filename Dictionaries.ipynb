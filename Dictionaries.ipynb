{
 "cells": [
  {
   "cell_type": "markdown",
   "id": "7d407734-dab3-4394-ad31-bcf13dac1b11",
   "metadata": {},
   "source": [
    "# Dictionaries"
   ]
  },
  {
   "cell_type": "markdown",
   "id": "1d45ea00-7b79-4880-848f-b9b01824e1c7",
   "metadata": {},
   "source": [
    "## Python by Example by Nichola Lacey (73)"
   ]
  },
  {
   "cell_type": "markdown",
   "id": "78ca5349-5666-46c7-a534-3ced3af13893",
   "metadata": {},
   "source": [
    "* Notes"
   ]
  },
  {
   "cell_type": "code",
   "execution_count": null,
   "id": "e733100d-7776-41a1-a1d3-5a00a52e02db",
   "metadata": {},
   "outputs": [],
   "source": [
    "# Tuples, lists and dictionaries: these are all ways that one item can hold several peices of seperate data."
   ]
  },
  {
   "cell_type": "code",
   "execution_count": null,
   "id": "3f85ebbf-a76b-4ed0-b20e-8bbcecc18449",
   "metadata": {},
   "outputs": [],
   "source": [
    "# Dictionaries:\n",
    "# a) can be changed while the program is running\n",
    "# b) each value is given an index or key you can define to help identify each peice of data\n",
    "# c) the index does not change if other rows of data are added or deleted\n",
    "# Dictionaries differ from lists in that they are key values. Access apartment by key and which apartment. e.g. Apt. 1: key 1"
   ]
  },
  {
   "cell_type": "markdown",
   "id": "1470a283-c306-437d-9433-d0650dccbf10",
   "metadata": {},
   "source": [
    "* Sample Code"
   ]
  },
  {
   "cell_type": "code",
   "execution_count": null,
   "id": "2ab783fd-bd72-4f05-b163-0fc9f9cb209c",
   "metadata": {},
   "outputs": [],
   "source": [
    "# Sample dictionary\n",
    "colors = {1: \"red\", 2: \"blue\", 3: \"green\"}\n",
    "print(colors)\n",
    "# 1 = key\n",
    "# red = value"
   ]
  },
  {
   "cell_type": "code",
   "execution_count": null,
   "id": "9952a52b-320c-442f-992b-984d34e2551b",
   "metadata": {},
   "outputs": [],
   "source": [
    "# Changing the data in a dictionary\n",
    "colors = {1: \"red\", 2: \"blue\", 3: \"green\"}\n",
    "colors[2] = \"yellow\"\n",
    "print(colors)"
   ]
  },
  {
   "cell_type": "markdown",
   "id": "c04827c1-fed7-42d1-97c6-5a42c739ab22",
   "metadata": {},
   "source": [
    "* Code Challenges"
   ]
  },
  {
   "cell_type": "code",
   "execution_count": null,
   "id": "a9af3169-89f7-4726-9e58-2c4ea967b199",
   "metadata": {},
   "outputs": [],
   "source": [
    "#73: Ask the user to enter 4 favorite foods\n",
    "# Store them in a dictionary so they are indexed starting with the number 1\n",
    "# Display the dictionary in full, showing the index number and item\n",
    "# Ask them if they want to get rid of and remove it from the list\n",
    "# Sort the remaining data and display the dictionary\n",
    "food={}\n",
    "for i in range (1,5):\n",
    "    food[i]=input(\"Enter your favorite food: \")\n",
    "print(food)\n",
    "same = input(\"Do you want to remove a key? \")\n",
    "if same ==\"yes\":\n",
    "    key_to_remove = int(input(\"Which key do you want to remove? \"))\n",
    "    del food[key_to_remove] # Use square brackets to access within the dictionary\n",
    "print(food)"
   ]
  },
  {
   "cell_type": "code",
   "execution_count": null,
   "id": "4ac519d3-7d58-41db-a258-dc51d410ccc9",
   "metadata": {},
   "outputs": [],
   "source": [
    "#73: Book code\n",
    "# Ask the user to enter 4 favorite foods\n",
    "# Store them in a dictionary so they are indexed starting with the number 1\n",
    "# Display the dictionary in full, showing the index number and item\n",
    "# Ask them which one they want to get rid of and remove it from the list\n",
    "# Sort the remaining data and display the dictionary\n",
    "\n",
    "food={}\n",
    "food1 = input(\"Enter your favorite food: \")\n",
    "food[1] = food1\n",
    "food2 = input(\"Enter your favorite food: \")\n",
    "food[2] = food2\n",
    "food3 = input(\"Enter your favorite food: \")\n",
    "food[3] = food3\n",
    "food4 = input(\"Enter your favorite food: \")\n",
    "food[4] = food4\n",
    "print(food)\n",
    "choice = int(input(\"Which food do you want to remove? \"))\n",
    "del food[choice]\n",
    "print(sorted(food.values()))\n",
    "#Question: why can't I use the sort command here? such as food(sort) then print(food)\n",
    "# Answer: The primary difference between the list sort() function and the sorted() function is that the sort() function will modify the list it is called on. \n",
    "# The sorted() function will create a new list containing a sorted version of the list it is given. ... The sort() function modifies the list in-place and has no return value."
   ]
  },
  {
   "cell_type": "code",
   "execution_count": null,
   "id": "454c988d-d1aa-4cf8-b236-c1cf3e44a84a",
   "metadata": {},
   "outputs": [],
   "source": [
    "food.values() # this returns all the values in the dictionary"
   ]
  },
  {
   "cell_type": "code",
   "execution_count": null,
   "id": "ba5d99ff-1976-4774-a741-d0ebe6b91c10",
   "metadata": {},
   "outputs": [],
   "source": [
    "food.keys() # this returns all the keys in the dictionary"
   ]
  },
  {
   "cell_type": "code",
   "execution_count": null,
   "id": "635cfb3b-c888-40c7-a56e-e9781f250b74",
   "metadata": {},
   "outputs": [],
   "source": [
    "values_list = list(food.values())\n",
    "values_list.sort()\n",
    "values_list # If the variable is the last line in Juypter then it will automatically print it - you dont need to use the word print"
   ]
  },
  {
   "cell_type": "markdown",
   "id": "5366caa6-2c7f-467e-b1e0-739d20eec37e",
   "metadata": {},
   "source": [
    "# 2D Dictionaries"
   ]
  },
  {
   "cell_type": "markdown",
   "id": "f63dc1fd-b09f-4bf6-b9dd-7bef98ada372",
   "metadata": {},
   "source": [
    "## Python by Example by Nichola Lacey (100-104)"
   ]
  },
  {
   "cell_type": "markdown",
   "id": "5102c45b-68d0-44f0-9ebd-108a097eca6b",
   "metadata": {},
   "source": [
    "* Notes"
   ]
  },
  {
   "cell_type": "code",
   "execution_count": null,
   "id": "b888fd8f-5450-43f3-834d-4d64675ca7f2",
   "metadata": {},
   "outputs": [],
   "source": [
    "# 2 dimensional dictionaries can be created as follows:\n",
    "# A sample of dictionaries\n",
    "grades= [{\"Ma\":45, \"En\":37,\"Fr\":54},{\"Ma\":62, \"En\":58,\"Fr\":59},{\"ma\": 49, \"En\":47, \"fr\":60}] # this is a list of multiple dictionaries. \n",
    "# the \"key\" in the dictionary is \"ma\" and the value is 45. There is an association between the key and value\n",
    "print(grades[0] [\"En\"]) # prints grade for english for the pupil with the index number 0 \n",
    "# Dictionaries have {} curly brackets\n",
    "# Think about the example of a key to enter an apartment complex"
   ]
  },
  {
   "cell_type": "markdown",
   "id": "8925e7ea-e274-4e8d-b397-d3f8a93225f6",
   "metadata": {},
   "source": [
    "* Sample Code"
   ]
  },
  {
   "cell_type": "code",
   "execution_count": null,
   "id": "da968b31-8457-419e-bb40-7100b2eaadc5",
   "metadata": {},
   "outputs": [],
   "source": [
    "# A sample of adding a row index to a dictionary\n",
    "grades= {\"Susan\": {\"Ma\":45, \"En\":37,\"Fr\":54}, \"Peter\":{\"Ma\":62, \"En\":58,\"Fr\":59}} # name is 1 level and the Ma, En and Fr are the second level. Values are e.g. 45, 37\n",
    "print(grades[\"Peter\"] [\"En\"]) # Gives Peters grade for English"
   ]
  },
  {
   "cell_type": "code",
   "execution_count": null,
   "id": "0ff9dc99-66cf-41ff-8f36-aa96cb7fa7d0",
   "metadata": {},
   "outputs": [],
   "source": [
    "# Sample of a 2D dictionary using user-defined labels for the rows and columns\n",
    "data_set = {\"A\":{\"x\":54, \"y\":82, \"z\":91},\"B\":{\"x\":75,\"y\":29,\"z\":80}}\n",
    "print(data_set)"
   ]
  },
  {
   "cell_type": "code",
   "execution_count": null,
   "id": "50e363b3-1339-48c6-84ac-a65a361764f5",
   "metadata": {},
   "outputs": [],
   "source": [
    "# Sample of a 2D dictionary using user-defined labels for the rows and columns\n",
    "data_set = {\"A\":{\"x\":54, \"y\":82, \"z\":91},\"B\":{\"x\":75,\"y\":29,\"z\":80}}\n",
    "print(data_set[\"A\"]) # Displays the data from data set \"A\""
   ]
  },
  {
   "cell_type": "code",
   "execution_count": null,
   "id": "d35cd317-1857-4089-b83c-4bc8555c27cc",
   "metadata": {},
   "outputs": [],
   "source": [
    "# Sample of a 2D dictionary using user-defined labels for the rows and columns\n",
    "data_set = {\"A\":{\"x\":54, \"y\":82, \"z\":91},\"B\":{\"x\":75,\"y\":29,\"z\":80}}\n",
    "print(data_set[\"B\"] [\"y\"]) # Displays the data from row \"B\" and column \"y\""
   ]
  },
  {
   "cell_type": "code",
   "execution_count": null,
   "id": "e0b2ab2c-046a-4681-b5b2-c38129c8cb10",
   "metadata": {},
   "outputs": [],
   "source": [
    "# Sample of a 2D dictionary using user-defined labels for the rows and columns\n",
    "data_set = {\"A\":{\"x\":54, \"y\":82, \"z\":91},\"B\":{\"x\":75,\"y\":29,\"z\":80}}\n",
    "for i in data_set:\n",
    "    print(data_set [i] [\"y\"]) # Displays the \"y\" column from each row and lists the values on seperate rows"
   ]
  },
  {
   "cell_type": "code",
   "execution_count": 1,
   "id": "debf23e8-b2e8-4db7-8426-a392148f67df",
   "metadata": {},
   "outputs": [
    {
     "name": "stdout",
     "output_type": "stream",
     "text": [
      "Susan 37\n",
      "Peter 58\n",
      "Melissa 56\n"
     ]
    }
   ],
   "source": [
    "# Sample code for how to add another row to the 2D dictionary. Tt has 2 keys \n",
    "# In this case, name would be the row index and Maths and English would be the column indexes. \n",
    "grades = {\"Susan\": {\"Ma\":45, \"En\":37,\"Fr\":54}, \"Peter\":{\"Ma\":62, \"En\":58,\"Fr\":59}}\n",
    "mscore = 34 # creates a new math score\n",
    "escore = 56 # creates a new english score\n",
    "name = \"Melissa\" #create a new name\n",
    "grades[name] = {\"Ma\": mscore, \"En\": escore} \n",
    "for name in grades:\n",
    "    print((name), grades[name] [\"En\"]) # Displays only the name and English grade for each student"
   ]
  },
  {
   "cell_type": "code",
   "execution_count": null,
   "id": "bcc47d13-ad6a-49cd-8f17-6471291bda58",
   "metadata": {},
   "outputs": [],
   "source": [
    "# Sample of a 2D dictionary using user-defined labels for the rows and columns\n",
    "\n",
    "grades= {\"Susan\": {\"Ma\":45, \"En\":37,\"Fr\":54}, \"Peter\":{\"Ma\":62, \"En\":58,\"Fr\":59}} # treat susan and peter as seperate dictionaries.\n",
    "print(grades) \n",
    "getRid = input(\"Which key do you want to remove? \") # You can only delete a key from a dictionary \n",
    "del grades[getRid] # Removes a selected item from the list\n",
    "print(grades)"
   ]
  },
  {
   "cell_type": "markdown",
   "id": "b3cc9414-719b-432d-9869-6ae1f21be9a9",
   "metadata": {},
   "source": [
    "* Coding Challenges"
   ]
  },
  {
   "cell_type": "code",
   "execution_count": null,
   "id": "5059ba1b-aab8-438b-bb16-598d534694c2",
   "metadata": {},
   "outputs": [],
   "source": [
    "#100: Create a table using a 2D dictionary showing the sales each person has made in the different geographical areas.\n",
    "sales = {\"John\":{\"N\":3056, \"S\":8463, \"E\":8441, \"W\":2694},\"Tom\":{\"N\":4832,\"S\":6786,\"E\":4737, \"W\": 3612}, \"Anne\":{\"N\": 5239, \"S\":4802, \"E\": 5820, \"W\":1859}, \"Fiona\":{\"N\":3904, \"S\":3645, \"E\":8821, \"W\":2451}}\n",
    "print(sales)"
   ]
  },
  {
   "cell_type": "code",
   "execution_count": null,
   "id": "918f3a90-cf90-45d7-9d4d-38d36d9da986",
   "metadata": {},
   "outputs": [],
   "source": [
    "#101: Using program 100, ask the user for a name and a region. Display the relevent data.\n",
    "# Ask the user for the name and region of the data they want to change and allow them to make the alterations to the sales figure.\n",
    "# Display the sales for all regions for the name they choose.\n",
    "sales = {\"John\":{\"N\":3056, \"S\":8463, \"E\":8441, \"W\":2694},\"Tom\":{\"N\":4832,\"S\":6786,\"E\":4737, \"W\": 3612}, \"Anne\":{\"N\": 5239, \"S\":4802, \"E\": 5820, \"W\":1859}, \"Fiona\":{\"N\":3904, \"S\":3645, \"E\":8821, \"W\":2451}}\n",
    "print(sales)\n",
    "name = input(\"Enter a name: \")\n",
    "region = input(\"Enter a region: \")\n",
    "print(sales[name] [region])\n",
    "nname = input(\"Enter a name you want to change: \")\n",
    "nregion = input(\"Enter a region you want to change: \")\n",
    "print(sales[nname] [nregion])\n",
    "new_data = int(input(\"Enter the new sales figure: \"))\n",
    "sales[nname] [nregion] = new_data \n",
    "print(sales[nname])"
   ]
  },
  {
   "cell_type": "code",
   "execution_count": null,
   "id": "bf1e6004-c85f-47ec-9aa8-48bf95fa37fc",
   "metadata": {},
   "outputs": [],
   "source": [
    "#102: Ask the user to enter the name, age and shoe size of four people.\n",
    "# Ask for the name of one of the people in teh dictionary and display their age and shoe size.\n",
    "items={}\n",
    "for i in range (0,4):\n",
    "    name = input(\"Enter the name of the person: \")\n",
    "    age = int(input(\"Enter the age of the person: \"))\n",
    "    shoe = int(input(\"Enter the show size of the person: \"))\n",
    "    items[name] = {\"Age\":age, \"Shoe size\": shoe}\n",
    "print(items)\n",
    "nname = input(\"Enter the name of someone on the list: \")\n",
    "print(items[nname])"
   ]
  },
  {
   "cell_type": "code",
   "execution_count": null,
   "id": "5afa35da-0de9-4bcf-afd0-1083cd9112e3",
   "metadata": {},
   "outputs": [],
   "source": [
    "#103: Adapt program 102 to display the names and ages of all the people in the list but do not show their show size\n",
    "items={}\n",
    "for i in range (0,4):\n",
    "    name = input(\"Enter the name of the person: \")\n",
    "    age = int(input(\"Enter the age of the person: \"))\n",
    "    shoe = int(input(\"Enter the show size of the person: \"))\n",
    "    items[name] = {\"Age\":age, \"Shoe size\": shoe}\n",
    "print(items)\n",
    "nname = input(\"Enter the name of someone on the list: \")\n",
    "for name in items: \n",
    "    print((name), (items[name] [\"Age\"]))"
   ]
  },
  {
   "cell_type": "code",
   "execution_count": null,
   "id": "7d4a4598-e23b-447c-a16d-6b2a19df8c9f",
   "metadata": {},
   "outputs": [],
   "source": [
    "#104: After gathering the 4 names, ages and show sizes, ask the user to enter the name of the person they want to remove from the list. \n",
    "# Delete this row from the data and display the other rows on seperate lines. \n",
    "items={}\n",
    "for i in range (0,4):\n",
    "    name = input(\"Enter the name of the person: \")\n",
    "    age = int(input(\"Enter the age of the person: \"))\n",
    "    shoe = int(input(\"Enter the show size of the person: \"))\n",
    "    items[name] = {\"Age\":age, \"Shoe size\": shoe}\n",
    "print(items)\n",
    "getRid = input(\"Who do you want to delete from the list? \")\n",
    "del items[getRid]\n",
    "for name in items:\n",
    "    print((name), items[name] [\"Age\"], items[name] [\"Shoe size\"])"
   ]
  }
 ],
 "metadata": {
  "kernelspec": {
   "display_name": "Python 3 (ipykernel)",
   "language": "python",
   "name": "python3"
  },
  "language_info": {
   "codemirror_mode": {
    "name": "ipython",
    "version": 3
   },
   "file_extension": ".py",
   "mimetype": "text/x-python",
   "name": "python",
   "nbconvert_exporter": "python",
   "pygments_lexer": "ipython3",
   "version": "3.8.12"
  }
 },
 "nbformat": 4,
 "nbformat_minor": 5
}
