{
 "cells": [
  {
   "cell_type": "markdown",
   "id": "254c47bf",
   "metadata": {},
   "source": [
    "## Python by Example by Nichola Lacey "
   ]
  },
  {
   "cell_type": "markdown",
   "id": "39beee0d",
   "metadata": {},
   "source": [
    "# Chunky Challenge: User ID and Passwords\n",
    "\n",
    "## #148"
   ]
  },
  {
   "cell_type": "code",
   "execution_count": null,
   "id": "591b393e",
   "metadata": {},
   "outputs": [],
   "source": [
    "# In this challenge I will use the following skills: \n",
    "    # input and display data\n",
    "    # lists\n",
    "    # if statements\n",
    "    # loops (while and for)\n",
    "    # subprograms saving to and reading from a .csv file"
   ]
  },
  {
   "cell_type": "code",
   "execution_count": null,
   "id": "9beab10b",
   "metadata": {},
   "outputs": [],
   "source": [
    "# THE CHALLENGE\n",
    "# You need to create a program that will store the user ID and passwords for the users of a system. \n",
    "# It should display the following menu: \n",
    "# 1) Create a new User ID \n",
    "# 2) Change a password \n",
    "# 3) Display all User IDs \n",
    "# 4) Quit \n",
    "# Enter Selection: "
   ]
  },
  {
   "cell_type": "code",
   "execution_count": null,
   "id": "3950af60",
   "metadata": {},
   "outputs": [],
   "source": [
    "# If the user selects 1, it should ask them to enter a user ID. It should check if the user ID is already in the list. \n",
    "# If it is, the program should display a suitable message and ask them to select another user ID. \n",
    "# Once a suitable user ID has been entered it should ask for a password. \n",
    "# Passwords should be scored with 1 point for each of the following:\n",
    "    # it should have at least 8 characters; \n",
    "    # should include uppercase letters; \n",
    "    # should include lower case letters; \n",
    "    # it should include numbers; \n",
    "    # and should include at least one special character such as. £, $,%.&amp;c, * o@ \n",
    "# If the password scores only 1 or 2 it should be rejected with a message saying it is a weak password; \n",
    "# If it scores 3 or 4 tell them that “This password could be improved\" Ask them if they want to try again.\n",
    "# If it scores 5 tell them they have selected a strong password. \n",
    "# Only acceptable user IDs and passwords should be added to the end of the .csv file. \n",
    "# If they select 2 from the menu they will need to enter a user ID, \n",
    "# check to see if the user ID exists in the list, and if it does, allow the user to change the password and save the changes to the.csv file. \n",
    "# Make sure the program only alters the existing password and does not create a new record. \n",
    "# If the user selects 3 from the menu, display all the user IDs but not the passwords. \n",
    "# If the user selects 4 from the menu it should stop the program. "
   ]
  },
  {
   "cell_type": "code",
   "execution_count": null,
   "id": "2adc4ab6",
   "metadata": {},
   "outputs": [],
   "source": [
    "# Problems that need to be overcome include:\n",
    "# 1) As existing data in .csv files cannot be edited and can only be read or added to, you will need to importthe data as a temporary list into Python \n",
    "# so you can make the changes before the data is written to the.csv file afresh. \n",
    "# 2) Make sure only passwords belonging to an existing user ID can be altered. \n",
    "# 3) Use suitable messages to guide the user easily through the system. \n",
    "# 4) Repeat the menu until they quit the program. "
   ]
  },
  {
   "cell_type": "code",
   "execution_count": 19,
   "id": "22f7a1e8",
   "metadata": {},
   "outputs": [
    {
     "name": "stdout",
     "output_type": "stream",
     "text": [
      "\n",
      "1) Create a new User ID\n",
      "2) Change a password\n",
      "3) Display all User IDs\n",
      "4) Quit\n",
      "\n"
     ]
    },
    {
     "name": "stdin",
     "output_type": "stream",
     "text": [
      "Enter Selection:  1\n",
      "Enter a new user ID:  mel\n",
      "Enter password:  123!@#QWEr\n",
      "Renter password:  123!@#QWEr\n"
     ]
    },
    {
     "name": "stdout",
     "output_type": "stream",
     "text": [
      "Great password.\n",
      "\n",
      "1) Create a new User ID\n",
      "2) Change a password\n",
      "3) Display all User IDs\n",
      "4) Quit\n",
      "\n"
     ]
    },
    {
     "name": "stdin",
     "output_type": "stream",
     "text": [
      "Enter Selection:  4\n"
     ]
    },
    {
     "name": "stdout",
     "output_type": "stream",
     "text": [
      "[['hunf', 'abcd123!@#'], ['adrian', 'abc123!@#Q'], ['tom', 'qwer!@#123Q'], ['lis', 'qwer123!@#Q'], ['yip', '1234!@#$'], ['tim', '123!@#Qwer'], ['rach', 'cat123!@#A'], ['mel', '123!@#QWEr']]\n"
     ]
    }
   ],
   "source": [
    "import csv\n",
    "\n",
    "def get_data():\n",
    "    file = list(csv.reader(open(\"password.csv\")))\n",
    "    tmp=[]\n",
    "    for x in file:\n",
    "        tmp.append(x)\n",
    "    return tmp\n",
    "\n",
    "def create_userID(tmp):\n",
    "    name_again = True\n",
    "    while name_again ==True:\n",
    "        userID = input(\"Enter a new user ID: \").lower()\n",
    "        inlist = False\n",
    "        row = 0\n",
    "        for y in tmp:\n",
    "            if userID in tmp[row][0]:\n",
    "                print(userID, \"has already been allocated\")\n",
    "                inlist = True\n",
    "            row = row + 1\n",
    "        if inlist == False:\n",
    "            name_again = False\n",
    "    return userID\n",
    "\n",
    "def create_password():\n",
    "    sclist = [\"!\", \"@\",\"#\",\"$\",\"%\",\"^\",\"&\",\"*\",\"(\",\")\"]\n",
    "    nclist = [\"1\",\"2\",\"3\",\"4\",\"5\",\"6\",\"7\",\"8\",\"9\",\"0\"]\n",
    "    tryagain = True\n",
    "    while tryagain ==True:\n",
    "        score = 0\n",
    "        uc = False\n",
    "        lc = False\n",
    "        sc = False\n",
    "        nc = False\n",
    "        password = input(\"Enter password: \")\n",
    "        password2 = input(\"Renter password: \")\n",
    "        if password != password2:\n",
    "            print(\"Passwords do not match. File is not saved, try again.\")\n",
    "            continue # opposite of break, goes back to start of the loop, line 30\n",
    "        if len(password) >= 8:\n",
    "            score = score +1\n",
    "        for x in password:\n",
    "            if x.islower():\n",
    "                lc = True\n",
    "            if x.isupper():\n",
    "                uc = True\n",
    "            if x in sclist:\n",
    "                sc = True\n",
    "            if x in nclist:\n",
    "                nc = True\n",
    "        if sc == True:\n",
    "            score = score + 1\n",
    "        if lc == True:\n",
    "            score = score + 1\n",
    "        if uc == True:\n",
    "            score = score + 1\n",
    "        if nc == True:\n",
    "            score = score + 1\n",
    "        if score == 1 or score ==2:\n",
    "            print(\"This is a weak password, try again.\")\n",
    "        if score == 3 or score == 4:\n",
    "            print(\"This password could be improved.\")\n",
    "            again = input(\"Do you want to try for a stronger password? (y/n)\").lower()\n",
    "            if again == \"n\":\n",
    "                tryagain = False\n",
    "        if score >4:\n",
    "            print(\"Great password.\")\n",
    "            tryagain = False\n",
    "    return password\n",
    "                                           \n",
    "def change_password(userID):\n",
    "    file = get_data()\n",
    "    new_file_contents = \"\"\n",
    "    \n",
    "    for i in file:  # [[usr1,pwd1],[usr2,pwd2]]\n",
    "        if i[0] == userID:\n",
    "            new_password = create_password()\n",
    "            i[1] = new_password\n",
    "        new_file_contents = new_file_contents + i[0] + \",\" + i[1] + \"\\n\"\n",
    "    \n",
    "    new_file = open(\"password.csv\", \"w\")\n",
    "    new_file.write(new_file_contents)\n",
    "    new_file.close()\n",
    "\n",
    "def display_all_userID():\n",
    "    tmp = get_data()\n",
    "    x = 0\n",
    "    for row in tmp:\n",
    "        print(row[0])\n",
    "                         \n",
    "def main():\n",
    "    tmp = get_data()\n",
    "    go_again = True\n",
    "    while go_again == True:\n",
    "        print()\n",
    "        print(\"1) Create a new User ID\")\n",
    "        print(\"2) Change a password\")\n",
    "        print(\"3) Display all User IDs\")\n",
    "        print(\"4) Quit\")\n",
    "        print()\n",
    "        selection = int(input(\"Enter Selection: \"))\n",
    "        if selection ==1:\n",
    "            userID = create_userID(tmp)\n",
    "            password = create_password()\n",
    "            file = open(\"password.csv\", \"a\")\n",
    "            newrecord = userID + \",\" + password + \"\\n\"\n",
    "            file.write(str(newrecord))\n",
    "            file.close()\n",
    "        elif selection == 2:\n",
    "            userID = input(\"Enter User ID you're looking to change\").lower()\n",
    "            change_password(userID)\n",
    "        elif selection == 3:\n",
    "            display_all_userID()\n",
    "        elif selection == 4:\n",
    "            tmp = get_data()\n",
    "            print(tmp) # if you dont want to print the list remove this\n",
    "            go_again = False\n",
    "        else:\n",
    "            print(\"Incorrect selection.\")\n",
    "main()"
   ]
  },
  {
   "cell_type": "code",
   "execution_count": null,
   "id": "c490215f",
   "metadata": {},
   "outputs": [],
   "source": [
    "[\n",
    "    [usr1,pwd1],\n",
    "    [usr2,pwd2]\n",
    "]"
   ]
  },
  {
   "cell_type": "code",
   "execution_count": null,
   "id": "532fe4b3",
   "metadata": {},
   "outputs": [],
   "source": []
  }
 ],
 "metadata": {
  "kernelspec": {
   "display_name": "Python 3 (ipykernel)",
   "language": "python",
   "name": "python3"
  },
  "language_info": {
   "codemirror_mode": {
    "name": "ipython",
    "version": 3
   },
   "file_extension": ".py",
   "mimetype": "text/x-python",
   "name": "python",
   "nbconvert_exporter": "python",
   "pygments_lexer": "ipython3",
   "version": "3.8.12"
  }
 },
 "nbformat": 4,
 "nbformat_minor": 5
}
