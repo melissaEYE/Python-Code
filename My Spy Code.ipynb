{
 "cells": [
  {
   "cell_type": "markdown",
   "id": "e2c59dd5-eaa5-4d1b-b2ce-f3107ba0481e",
   "metadata": {},
   "source": [
    "## Python by Example by Nichola Lacey "
   ]
  },
  {
   "cell_type": "markdown",
   "id": "646e3ebe-0ba3-4c32-8c1f-b3b525db3cce",
   "metadata": {},
   "source": [
    "# Chunky Challenge: Spy Games\n",
    "\n",
    "## #146"
   ]
  },
  {
   "cell_type": "code",
   "execution_count": null,
   "id": "c72fe72f-aba1-4d28-acc1-6540f2c32c3a",
   "metadata": {},
   "outputs": [],
   "source": [
    "#In this challenge I will use the following skills: \n",
    "#    • input and display data \n",
    "#    • lists\n",
    "#    • splitting and joining strings \n",
    "#    • statements \n",
    "#    • loops (while and for) \n",
    "#    • subprograms "
   ]
  },
  {
   "cell_type": "code",
   "execution_count": null,
   "id": "74e9a4b0-0bd7-4c8e-bbdc-d91c5d55759e",
   "metadata": {},
   "outputs": [],
   "source": [
    "# THE CHALLENGE\n",
    "# A shift code is where a message can be easily encoded and is one of the simplest codes to use. \n",
    "# Each letter is moved forwards through the alphabet a set number of letters to be represented by a new letter. \n",
    "# For instance, \"abc\" becomes \"bcd\" when the code is shifted by one (i.e.each letter in the alphabet is moved forward one character)"
   ]
  },
  {
   "cell_type": "code",
   "execution_count": null,
   "id": "16138fa7-1534-4730-854a-cd695c405d9f",
   "metadata": {},
   "outputs": [],
   "source": [
    "# You need to create a program which will display the following menu: \n",
    "# 1) Make a code\n",
    "# 2) Decode a message\n",
    "# 3) Quit\n",
    "# Enter your selection:"
   ]
  },
  {
   "cell_type": "code",
   "execution_count": null,
   "id": "0309f9c7-4af0-4910-97f0-4e7dbc1f0182",
   "metadata": {},
   "outputs": [],
   "source": [
    "#If the user selects 1, they should be able to type in a message (including spaces) and then enter a number. \n",
    "# Python should then display the encoded message once the shift code has been applied. "
   ]
  },
  {
   "cell_type": "code",
   "execution_count": null,
   "id": "4ab38298-6796-4621-b7d3-e0580ca084a2",
   "metadata": {},
   "outputs": [],
   "source": [
    "# If the user selects 2, they should enter an encoded message and the correct number and it should display the decoded message\n",
    "# i.e. move the correct number of letters backwards through the alphabet"
   ]
  },
  {
   "cell_type": "code",
   "execution_count": null,
   "id": "1e4594d8-f00d-4e79-a3e8-aa364a56fe68",
   "metadata": {},
   "outputs": [],
   "source": [
    "# If they select 3 it should stop the program from running. \n",
    "# After they have encoded or decoded a message the menu should be displayed to them again until they select quit. "
   ]
  },
  {
   "cell_type": "code",
   "execution_count": null,
   "id": "b9a56fc0-b239-4e34-8a9c-1580f592221b",
   "metadata": {},
   "outputs": [],
   "source": [
    "# Problems that need to be overcome include:\n",
    "# a) Decide if you want to allow both upper and lower case letters or if you want to convert all the data into one case. \n",
    "# Decision: convert everything to lower case\n",
    "# b) Decide if you are allowing punctuation. \n",
    "# Decision: allow punctuation not allowed \n",
    "# c) If the shift makes the letter go past the end of the alphabet it should start again; \n",
    "# i.e. if the user enters \"xyz\" and 5 is entered as the shift number, it should display \"bcd\". \n",
    "# This should work the opposite way for decoding a message, so if the value gets to \"a\" it will go back to \"W\" \n",
    "# d) Make sure that suitable messages are displayed if the user selects an inappropriate option on the menu or selects an inappropriate number to make the shift code. \n",
    "# e) Test out your decode option by decoding the message \"we ovugjohsslunl\", \n",
    "# which was created with the number 7 when the code only uses \"abcdefghijklmnopqrstuvwxyz\" (note the space at the end). "
   ]
  },
  {
   "cell_type": "code",
   "execution_count": 10,
   "id": "00b18746-a4aa-41b6-9003-d6aa018fdd03",
   "metadata": {},
   "outputs": [
    {
     "name": "stdout",
     "output_type": "stream",
     "text": [
      "1) Make a code\n",
      "\n",
      "2) Decode a message\n",
      "\n",
      "3) Quit\n",
      "\n"
     ]
    },
    {
     "name": "stdin",
     "output_type": "stream",
     "text": [
      "Enter your selection:  1\n",
      "Enter a alphabet string:  abd\n",
      "Enter a number:  1\n"
     ]
    },
    {
     "name": "stdout",
     "output_type": "stream",
     "text": [
      "Your new code is:  bce\n",
      "1) Make a code\n",
      "\n",
      "2) Decode a message\n",
      "\n",
      "3) Quit\n",
      "\n"
     ]
    },
    {
     "name": "stdin",
     "output_type": "stream",
     "text": [
      "Enter your selection:  3\n"
     ]
    },
    {
     "name": "stdout",
     "output_type": "stream",
     "text": [
      "Thanks for playing.\n"
     ]
    }
   ],
   "source": [
    "alphabet = [\"a\", \"b\", \"c\", \"d\", \"e\", \"f\", \"g\", \"h\", \"i\", \"j\", \"k\", \"l\", \"m\", \"n\", \"o\", \"p\", \"q\", \"r\", \"s\", \"t\", \"u\", \"v\", \"w\", \"x\", \"y\", \"z\", \" \"] # Note the space\n",
    "\n",
    "def get_data():\n",
    "    message = input(\"Enter a alphabet string: \").lower() \n",
    "    for x in message: \n",
    "        if x not in alphabet:\n",
    "            print(\"This is an invalid input, enter a letters from the alphabet.\")\n",
    "            message = input(\"Enter a alphabet string: \").lower()        \n",
    "    num = int(input(\"Enter a number: \"))\n",
    "    data = (message, num)\n",
    "    return data\n",
    "\n",
    "def one(message,num): \n",
    "    new_code = \"\" # creates a new_code variable as a string with nothing in it\n",
    "    for x in message: # \"x\" represents the individual characters in the message input\n",
    "        y = alphabet.index(x) # looks for the index for the character \"x\"\n",
    "        y = y + num # formula that moves the letters in message forward by whatever num was entered\n",
    "        char = alphabet[y%len(alphabet)] # modulus(mod) the list so when it come to the end (i.e. z) it will continue back to \"a\"\n",
    "        new_code = new_code + char # this puts the string together\n",
    "    print(\"Your new code is: \", new_code)\n",
    "    return(new_code)\n",
    "        \n",
    "    \n",
    "def two(message,num): \n",
    "    new_code = \"\"\n",
    "    for x in message:\n",
    "        y = alphabet.index(x) # creates a variable \"y\" that stores the message input in an index in the list \"x\"\n",
    "        y = y - num # formula that moves the letters in message forward by whatever num was entered\n",
    "        char = alphabet[y%len(alphabet)]\n",
    "        new_code = new_code + char # this puts the string together\n",
    "    print(\"Your new code is: \", new_code)\n",
    "        \n",
    "def three(): \n",
    "    print(\"Thanks for playing.\")\n",
    "    \n",
    "def main():\n",
    "    again = \"YES\"\n",
    "    while again == \"YES\":\n",
    "        print(\"1) Make a code\\n\")\n",
    "        print(\"2) Decode a message\\n\")\n",
    "        print(\"3) Quit\\n\")\n",
    "        program = int(input(\"Enter your selection: \"))\n",
    "        if program == 1:\n",
    "            (message, num) = get_data()\n",
    "            one(message, num)\n",
    "        elif program == 2:\n",
    "            (message, num) = get_data()\n",
    "            two(message, num)\n",
    "        elif program == 3:\n",
    "            answers = three()\n",
    "            again = \"NO\"\n",
    "        else:\n",
    "            print(\"Incorrect selection. Please select 1 or 2 or 3.\")\n",
    "\n",
    "main()\n"
   ]
  },
  {
   "cell_type": "code",
   "execution_count": null,
   "id": "d85e52f1-d54a-46ec-9543-1913d22e89b9",
   "metadata": {},
   "outputs": [],
   "source": [
    "Possible enhancements to this code include:\n",
    "    1. add a while loop to the invalid input\n",
    "    2. another way to check if all the characters in the text are letters:\n",
    "    \n",
    "txt = \"CompanyX\"\n",
    "\n",
    "x = txt.isalpha()\n",
    "\n",
    "print(x)\n",
    "    3. combine subprograms one and two "
   ]
  }
 ],
 "metadata": {
  "kernelspec": {
   "display_name": "Python 3 (ipykernel)",
   "language": "python",
   "name": "python3"
  },
  "language_info": {
   "codemirror_mode": {
    "name": "ipython",
    "version": 3
   },
   "file_extension": ".py",
   "mimetype": "text/x-python",
   "name": "python",
   "nbconvert_exporter": "python",
   "pygments_lexer": "ipython3",
   "version": "3.8.12"
  }
 },
 "nbformat": 4,
 "nbformat_minor": 5
}
