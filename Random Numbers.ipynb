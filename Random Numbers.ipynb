{
 "cells": [
  {
   "cell_type": "markdown",
   "id": "ea677f13-9078-4c07-9f10-6c9137f64ecd",
   "metadata": {},
   "source": [
    "# Random Numbers"
   ]
  },
  {
   "cell_type": "markdown",
   "id": "c1861d81-ee81-42cb-aab7-67804179e525",
   "metadata": {},
   "source": [
    "## Python by Example by Nichola Lacey (52-59)"
   ]
  },
  {
   "cell_type": "markdown",
   "id": "1004d372-6b7b-4ee9-bd4b-9ee250279235",
   "metadata": {},
   "source": [
    "* Notes"
   ]
  },
  {
   "cell_type": "code",
   "execution_count": null,
   "id": "a58a0d50-a210-4c10-be94-15d8d588afef",
   "metadata": {},
   "outputs": [],
   "source": [
    "# Python can generate random values\n",
    "# We will explore:\n",
    "# 1) Random numbers within a specified range\n",
    "# 2) A random choice from a range of items that are input\n",
    "# You must \"import random\" at the beginning of your program to use random numbers"
   ]
  },
  {
   "cell_type": "markdown",
   "id": "de25305b-fd54-4eca-9ba0-1578f59bc635",
   "metadata": {},
   "source": [
    "* Sample Code"
   ]
  },
  {
   "cell_type": "code",
   "execution_count": null,
   "id": "4dd148a0-2f01-483e-b716-3a19342367ac",
   "metadata": {},
   "outputs": [],
   "source": [
    "# Random numbers require import random\n",
    "import random\n",
    "num = random.random() # picks a random number between 0 and 1 and prints it\n",
    "print(num)"
   ]
  },
  {
   "cell_type": "code",
   "execution_count": null,
   "id": "5b7a49c8-2c20-4a64-9348-f5cf05403d96",
   "metadata": {},
   "outputs": [],
   "source": [
    "import random\n",
    "num = random.random()\n",
    "num = num * 100 # to obtain a higher range of numbers from which to choose a random number then multply num\n",
    "print (num)"
   ]
  },
  {
   "cell_type": "code",
   "execution_count": null,
   "id": "283b0544-a5b1-44d0-9695-d3501651bd96",
   "metadata": {},
   "outputs": [],
   "source": [
    "# To select a number between a range of numbers\n",
    "import random\n",
    "num = random.randint (0,9) #while numbers between 0 and 9 inclusive\n",
    "print(num)"
   ]
  },
  {
   "cell_type": "code",
   "execution_count": null,
   "id": "8ef8072f-874c-4c8c-bbbb-ecf3e9b7ac73",
   "metadata": {},
   "outputs": [],
   "source": [
    "# Create a floating-point number by creating two random integers\n",
    "import random\n",
    "num1 = random.randint (0,1000)\n",
    "num2 = random.randint (0,1000)\n",
    "newrand = num1/num2\n",
    "print(newrand)"
   ]
  },
  {
   "cell_type": "code",
   "execution_count": null,
   "id": "d2f53997-dea9-4a7b-bc93-bfa0efe55894",
   "metadata": {},
   "outputs": [],
   "source": [
    "# Picks a random number between the numbers 0 and 100 (inclusive) in increments of 5\n",
    "# first position is tarting position i.e. 0\n",
    "# second position is ending position i.e. 100\n",
    "#Third position is the incrementation value\n",
    "\n",
    "import random\n",
    "num = random. randrange (0, 100, 5)\n",
    "print(num)"
   ]
  },
  {
   "cell_type": "code",
   "execution_count": null,
   "id": "87726547-cd60-435d-bac7-8e4610558e74",
   "metadata": {},
   "outputs": [],
   "source": [
    "# Random value from strings\n",
    "import random\n",
    "color = random.choice([\"red\", \"black\", \"green\"]) #Help: why the double brackets here? I know its a string but....\n",
    "print(color)"
   ]
  },
  {
   "cell_type": "markdown",
   "id": "711a7977-494e-4181-98f7-6057b198dbf4",
   "metadata": {},
   "source": [
    "* Coding Challenges"
   ]
  },
  {
   "cell_type": "code",
   "execution_count": null,
   "id": "ffe20f9c-18a4-4d5d-8e16-d48297d445b7",
   "metadata": {},
   "outputs": [],
   "source": [
    "#52: Display a random integer between 1 and 100 inclusive.\n",
    "import random\n",
    "num = random.randint (1,100)\n",
    "print(num)"
   ]
  },
  {
   "cell_type": "code",
   "execution_count": null,
   "id": "0d04a34f-4960-441e-8e9b-7c38e2395379",
   "metadata": {},
   "outputs": [],
   "source": [
    "#53: Display a random fruit from a list of 5 fruits\n",
    "import random\n",
    "fruit = random.choice([\"orange\", \"pear\", \"apple\", \"grape\", \"mango\"])\n",
    "print(fruit)"
   ]
  },
  {
   "cell_type": "code",
   "execution_count": null,
   "id": "0a1bb418-1dbb-4092-8469-3165cc8ba861",
   "metadata": {},
   "outputs": [],
   "source": [
    "#54: Randomly choose either heads or tails. \n",
    "# Ask the user to make their choice. \n",
    "# If there choice is the same as the random selected value, display the message \"You win\". otherwise \"bad luck\".\n",
    "# At the end, tell the user if the computer selected heads or tails. \n",
    "\n",
    "import random\n",
    "flip = random.choice([\"h\", \"t\"])\n",
    "choice = input(\"Please choose heads or tails (h/t): \")\n",
    "if choice == flip:\n",
    "    print(\"You win.\")\n",
    "else:\n",
    "    print(\"Bad luck.\")\n",
    "print(\"The computer choose: \", flip)"
   ]
  },
  {
   "cell_type": "code",
   "execution_count": null,
   "id": "03b6e8cc-d74b-46d0-b453-866caaf946bc",
   "metadata": {},
   "outputs": [],
   "source": [
    "#55: Randomly choose a number between 1 and 5\n",
    "# Ask the user to pick a number\n",
    "# If they guess correctly say \"Well done.\" \n",
    "# Otherwise tell them they are too high or too low and ask them to pick another number\n",
    "# If they guess correctly on their second guess, display \"Correct.\", otherwise display \"You lose.\"\n",
    "\n",
    "import random\n",
    "\n",
    "guess = int(input(\"Pick a number between 1 and 5: \"))\n",
    "num = random.randint (1, 5)\n",
    "if guess == num:\n",
    "    print(\"Well done.\")\n",
    "elif guess > num:\n",
    "    num = int(input(\"Too high.Pick another number: \"))\n",
    "else:\n",
    "    num = int(input(\"Too low. Pick another number: \"))\n",
    "if guess == num:\n",
    "    print(\"Correct\")\n",
    "else:\n",
    "    print(\"You lose.\")"
   ]
  },
  {
   "cell_type": "code",
   "execution_count": null,
   "id": "e582c155-1f41-452a-ad4d-425d2393a5c8",
   "metadata": {},
   "outputs": [],
   "source": [
    "#55: Alternative code: Randomly choose a number between 1 and 5\n",
    "# Ask the user to pick a number\n",
    "# If they guess correctly say \"Well done.\" \n",
    "# Otherwise tell them they are too high or too low and ask them to pick another number\n",
    "# If they guess correctly on their second guess, display \"Correct.\", otherwise display \"You lose.\"\n",
    "\n",
    "import random\n",
    "\n",
    "num = random.randint(1,5)\n",
    "guess = int(input(\"Enter a number: \"))\n",
    "if guess == num:\n",
    "    print(\"Well done\")\n",
    "elif guess > num:\n",
    "    print(\"Too high\")\n",
    "    guess = int(input(\"Guess again: \"))\n",
    "    if guess == num:\n",
    "        print(\"Correct\")\n",
    "    else:\n",
    "        print(\"You lose\")\n",
    "elif guess< num:\n",
    "    print(\"Too low.\")\n",
    "    guess = int(input(\"Guess again: \"))\n",
    "    if guess == num:\n",
    "        print(\"Correct\")\n",
    "    else:\n",
    "        print(\"You lose\")"
   ]
  },
  {
   "cell_type": "code",
   "execution_count": null,
   "id": "a950cb7b-46d0-4231-940a-d77491bc580f",
   "metadata": {},
   "outputs": [],
   "source": [
    "# 56: Randomly pick a whole number between 1 and 10\n",
    "# Ask the user to enter a number and keep entering numbers until they enter a number that was randomly picked.\n",
    "\n",
    "import random\n",
    "\n",
    "num = random.randint(1,10) # it choose teh number here - then it keeps going with teh SAME number choosen int eh while loop\n",
    "correct = False\n",
    "while correct == False:\n",
    "    guess = int(input(\"Enter a number between 1 and 10: \"))\n",
    "    if guess == num: \n",
    "        correct = True\n",
    "# False is a key word - use a capital F"
   ]
  },
  {
   "cell_type": "code",
   "execution_count": null,
   "id": "d536d4a8-a7a0-48e6-8f7f-711b9dd89fb4",
   "metadata": {},
   "outputs": [],
   "source": [
    "# 56: Books code\n",
    "# Randomly pick a whole number between 1 and 10\n",
    "# Ask the user to enter a number and keep entering numbers until they enter a number that was randomly picked.\n",
    "\n",
    "import random\n",
    "\n",
    "num = random.randint(1,10)\n",
    "guess = int(input(\"Enter a number between 1 and 10: \"))\n",
    "while guess != num:\n",
    "    guess = int(input(\"Enter a number between 1 and 10: \"))\n",
    "print(\"You got it.\")"
   ]
  },
  {
   "cell_type": "code",
   "execution_count": null,
   "id": "c65e636d-ed90-4ad0-b066-3ae502f697db",
   "metadata": {},
   "outputs": [],
   "source": [
    "#57: Update program 56 so that it tells the user if they are too high or too low before they pick again.\n",
    "\n",
    "import random\n",
    "\n",
    "num = random. randint(1,10)\n",
    "correct = False\n",
    "while correct == False:\n",
    "    guess = int(input(\"Enter a number: \"))\n",
    "    if guess == num: \n",
    "        correct = True\n",
    "        print(\"Correct.\")\n",
    "    elif guess >num:\n",
    "        print(\"Too high.\")\n",
    "    else:\n",
    "        print(\"Too low.\")"
   ]
  },
  {
   "cell_type": "code",
   "execution_count": null,
   "id": "6142c234-4db1-4b0e-956b-96603c8bf8fe",
   "metadata": {},
   "outputs": [],
   "source": [
    "### 58: Make a math quiz that asks 5 questions by randomly generating two whole numbers to make the question e.g. num1 + num2\n",
    "# Ask the user to enter the answer. \n",
    "# If they get it right add a point to their score. \n",
    "# At the end of the quiz, tell them how many they got correct out of 5.\n",
    "\n",
    "import random\n",
    "\n",
    "counter = 0\n",
    "print(\"Guess a random number between 2 and 4.\")\n",
    "for i in range (1,6):\n",
    "    num1 = random.randint(1,2)\n",
    "    num2 = random.randint(1,2) \n",
    "    correct = num1 + num2\n",
    "    answer = int(input(\"Your answer:\" ))\n",
    "    if answer == correct:\n",
    "        counter = counter + 1\n",
    "print(\"You scored \", counter, \"out of 5.\")"
   ]
  },
  {
   "cell_type": "code",
   "execution_count": null,
   "id": "e8782b65-6c9d-4830-a8e2-2efc84f3795a",
   "metadata": {},
   "outputs": [],
   "source": [
    "#59: Display 5 colors and ask the user to pick one.\n",
    "# If they pick the same as the program choose then say \"Well done.\", otherwise say \"I bet you are GREEN with envy.\"\n",
    "# Ask them to guess again; if they still do not have it correct then keep giving them the same clue.\n",
    "# Ask them to keep guessing it until they are correct.\n",
    "\n",
    "import random\n",
    "\n",
    "colors = random.choice([\"orange\", \"red\", \"blue\", \"green\", \"rainbow\"])\n",
    "print(\"Selectfrom either orange or red or blue or green or rainbow.\")\n",
    "again = True\n",
    "while again == True:\n",
    "    choice = input(\"Choose a color: \")\n",
    "    if choice == colors:\n",
    "        print(\"Well done.\")\n",
    "        again = False \n",
    "    else:\n",
    "        print(\"Wrong. I bet you are GREEN with envy.\")"
   ]
  }
 ],
 "metadata": {
  "kernelspec": {
   "display_name": "Python 3 (ipykernel)",
   "language": "python",
   "name": "python3"
  },
  "language_info": {
   "codemirror_mode": {
    "name": "ipython",
    "version": 3
   },
   "file_extension": ".py",
   "mimetype": "text/x-python",
   "name": "python",
   "nbconvert_exporter": "python",
   "pygments_lexer": "ipython3",
   "version": "3.8.12"
  }
 },
 "nbformat": 4,
 "nbformat_minor": 5
}
