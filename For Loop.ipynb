{
 "cells": [
  {
   "cell_type": "markdown",
   "id": "4e395aef-04b8-4633-98b3-3dfb33f31373",
   "metadata": {},
   "source": [
    "# For Loop"
   ]
  },
  {
   "cell_type": "markdown",
   "id": "bff98cc1-7ff4-4c5a-acdf-086e5e083314",
   "metadata": {},
   "source": [
    "## Python by Example by Nichola Lacey (35-44)"
   ]
  },
  {
   "cell_type": "markdown",
   "id": "86a48316-1b4b-404a-a98b-f118a25c3070",
   "metadata": {},
   "source": [
    "* Notes"
   ]
  },
  {
   "cell_type": "code",
   "execution_count": 2,
   "id": "6fae78df-3707-4ec2-8529-4ad382a4be81",
   "metadata": {},
   "outputs": [
    {
     "name": "stdout",
     "output_type": "stream",
     "text": [
      "1\n",
      "2\n",
      "3\n",
      "4\n",
      "5\n",
      "6\n",
      "7\n",
      "8\n",
      "9\n"
     ]
    }
   ],
   "source": [
    "# A for loop allows Python to keep repeating code a set number of times. \n",
    "# For loops are sometimes called \"counting\" loops because you know the number of times the loop will run before it starts\n",
    "# For example:\n",
    "\n",
    "for i in range(1,10):\n",
    "    print(i)\n",
    "    \n",
    "# In the case above the loop starts at 1 and will keep repeating the loop (displaying i) until it reaches 10 adn then stops. \n",
    "# In this example, the output is 1,2,3,4,5,6,7,8,9\n",
    "# When it gets to 10 the loop stops, so 10 would not be shown in the output\n",
    "# Remember to indent the lines of code within the for loop"
   ]
  },
  {
   "cell_type": "code",
   "execution_count": null,
   "id": "45f52848-43fe-4294-ac34-ff750eb1e81d",
   "metadata": {},
   "outputs": [],
   "source": [
    "# The range function is used to generate a sequence of outputs. \n",
    "# Syntax is: range(start, stop, step)\n",
    "# Start: Optional — An integer number that specifies where to start     (Default value is 0)\n",
    "# Stop: Required — An integer number that specifies where to stop.\n",
    "# Step: Optional — An integer number that specifies how much to increment the number (Default value is 1)\n",
    "# The range function always returns the value -1.\n",
    "# The range function does not work for floating-point values, because according to the range function the floating object cannot be interpreted as an integer. "
   ]
  },
  {
   "cell_type": "markdown",
   "id": "d91b35f2-09f1-46a3-92b8-6c1eeb6772ab",
   "metadata": {},
   "source": [
    "* Code Samples"
   ]
  },
  {
   "cell_type": "code",
   "execution_count": 1,
   "id": "4dc49a61-eef4-477f-8cf4-7f794f08f163",
   "metadata": {},
   "outputs": [
    {
     "name": "stdout",
     "output_type": "stream",
     "text": [
      "1\n",
      "3\n",
      "5\n",
      "7\n",
      "9\n"
     ]
    }
   ],
   "source": [
    "# The third value in a range function indicates how much to add every time it goes through the loop\n",
    "# In the example below it will increment by 2 each time\n",
    "\n",
    "for i in range(1,10,2):\n",
    "    print(i)"
   ]
  },
  {
   "cell_type": "code",
   "execution_count": 4,
   "id": "cca8fcd1-440d-43c5-895a-6891b20fa5fb",
   "metadata": {},
   "outputs": [
    {
     "name": "stdout",
     "output_type": "stream",
     "text": [
      "10\n",
      "7\n",
      "4\n"
     ]
    }
   ],
   "source": [
    "# This range will subtract 3 for i each time.\n",
    "\n",
    "for i in range(10,1,-3):\n",
    "    print(i)"
   ]
  },
  {
   "cell_type": "code",
   "execution_count": 9,
   "id": "f493b8d7-187b-4a26-9189-dddd41bc63f3",
   "metadata": {},
   "outputs": [
    {
     "name": "stdout",
     "output_type": "stream",
     "text": [
      "w\n",
      "o\n",
      "r\n",
      "d\n"
     ]
    }
   ],
   "source": [
    "# You can also use for loops to display each character in text as a seperate output on a seperate line\n",
    "text = \"word\"\n",
    "for i in text:\n",
    "    print(i)"
   ]
  },
  {
   "cell_type": "markdown",
   "id": "5f318e42-464c-4fdc-b6f9-64d2b0b82c83",
   "metadata": {},
   "source": [
    "* Coding Challenges"
   ]
  },
  {
   "cell_type": "code",
   "execution_count": null,
   "id": "a2293613-0ad3-4a4b-b3ee-862edd0e82b8",
   "metadata": {},
   "outputs": [],
   "source": [
    "#35: Ask the user to enter their name. Display there name three times.\n",
    "name = input(\"Enter your name: \")\n",
    "for i in range (3):\n",
    "    print(name)\n",
    "# Question: Why can't I use the word \"name\" instead of \"i\" in the: for i in range function. \n",
    "# Answer: The variable name is already taken - this is a new variable and it lives only in the for loop."
   ]
  },
  {
   "cell_type": "code",
   "execution_count": null,
   "id": "1c969cf5-f38d-4ce3-a781-b1020ce07816",
   "metadata": {},
   "outputs": [],
   "source": [
    "#36: Alter #35 and ask the user to enter their name and a number\n",
    "# Display their name that number of times\n",
    "name = input(\"Enter your name: \")\n",
    "num = int(input(\"Enter a number: \"))\n",
    "for i in range (num):\n",
    "    print(name)\n",
    "# Question: the book example looks like this: for i in range (0,num). Why does it have the zero? Must i have it? \n",
    "# Answer: 0 is the default so that is why you don't need it.If you needed to start at 2 however, you would have to include that first digit"
   ]
  },
  {
   "cell_type": "code",
   "execution_count": null,
   "id": "a187e0b8-b744-4aa5-809f-984175e45b0c",
   "metadata": {},
   "outputs": [],
   "source": [
    "#37: Ask the user to enter their name \n",
    "# Display each letter of their name on a new line\n",
    "name = input(\"Enter your name: \")\n",
    "for i in name:\n",
    "    print(i)\n",
    "#Note: You dont put the variable \"name\" in the print statement in this case because you want to print out each letter of the name. \n",
    "# If you put name in the print statement it print the entire name"
   ]
  },
  {
   "cell_type": "code",
   "execution_count": null,
   "id": "655d8bab-9e0d-459f-b2e9-da3016e75be0",
   "metadata": {},
   "outputs": [],
   "source": [
    "#38: Change the program #37 to also ask for a number.\n",
    "# Display their name one letter at a time on each line, repeated for the number of times they entered\n",
    "name = input(\"Enter your name: \")\n",
    "num = int(input(\"Enter a number: \"))\n",
    "for x in range (0,num):\n",
    "    for i in name:\n",
    "        print(i)\n",
    "# Question: I am not sure I understand this code. Specifically the line \"for x...\n",
    "# Answer: use anything but i here as you already use i in the for loop"
   ]
  },
  {
   "cell_type": "code",
   "execution_count": null,
   "id": "6546daed-2312-4a51-a5e4-b2ff6719a433",
   "metadata": {},
   "outputs": [],
   "source": [
    "#39: Ask the user to enter a number between 1 and 12.\n",
    "# Display the times table for that number\n",
    "num = int(input(\"Enter a number between 1 and 12: \"))\n",
    "for i in range (1,13):\n",
    "    answer = i * num\n",
    "    print(i, \"x\", num, \"=\", answer)"
   ]
  },
  {
   "cell_type": "code",
   "execution_count": 2,
   "id": "f664ae5d-98bc-4ee9-aed9-dad76d4bf2a8",
   "metadata": {},
   "outputs": [
    {
     "name": "stdin",
     "output_type": "stream",
     "text": [
      "Enter a number below 50:  45\n"
     ]
    },
    {
     "name": "stdout",
     "output_type": "stream",
     "text": [
      "50\n",
      "49\n",
      "48\n",
      "47\n",
      "46\n",
      "45\n"
     ]
    }
   ],
   "source": [
    "#40: Ask for a number below 50 and count down from 50 to that number.\n",
    "#Make sure to show the number they entered in the output\n",
    "num = int(input(\"Enter a number below 50: \"))\n",
    "if num <50:\n",
    "    for i in range (50,num-1,-1):\n",
    "        print(i)\n",
    "else:\n",
    "    print(\"Wrong number. Number must be below 50.\")\n",
    "# Enhancement: wrap this in an if/then statement to add an error message IF they do not input a number below 50"
   ]
  },
  {
   "cell_type": "code",
   "execution_count": null,
   "id": "1f84e6e5-e490-4b01-aba0-2694cee9fcd6",
   "metadata": {},
   "outputs": [],
   "source": [
    "#40: Enhancement\n",
    "num = int(input(\"Enter a number below 50: \"))\n",
    "if num < 50:\n",
    "    for i in range (50,num-1,-1):\n",
    "        print(i)\n",
    "else:\n",
    "    print(\"You have not entered a number below 50. Please try again.\")"
   ]
  },
  {
   "cell_type": "code",
   "execution_count": null,
   "id": "f6bbf349-7628-4fd5-adfd-1b7b0562c2eb",
   "metadata": {},
   "outputs": [],
   "source": [
    "#41: Ask the user to enter their name and a number.\n",
    "# If the number is <10, then display their name that number of times\n",
    "# Otherwise display the message \"Too high\" Three times.\n",
    "name = input(\"Enter your name: \")\n",
    "num = int(input(\"Enter a number: \"))\n",
    "if num < 10: # If the number inputted is less than 10 then...\n",
    "    for i in range(0,num): # start at zero and loop the \"num\" number fo times\n",
    "        print(name) # output the name in that loop\n",
    "else:\n",
    "    for i in range(0,3):\n",
    "        print(\"Too high\")"
   ]
  },
  {
   "cell_type": "code",
   "execution_count": null,
   "id": "ce7ff78e-c742-4588-8846-7253735074b2",
   "metadata": {},
   "outputs": [],
   "source": [
    "for i in range (0,3):\n",
    "    print(\"lovely\")"
   ]
  },
  {
   "cell_type": "code",
   "execution_count": null,
   "id": "0a45519c-1d19-4117-8387-b259ac715833",
   "metadata": {},
   "outputs": [],
   "source": [
    "lovely = input(\"Enter a word: \")\n",
    "for i in lovely: # will print each letter of the word on a seperate line\n",
    "    print(i)"
   ]
  },
  {
   "cell_type": "code",
   "execution_count": null,
   "id": "8e4885b5-5005-41a2-a653-f8408a4270e5",
   "metadata": {},
   "outputs": [],
   "source": [
    "for i in range (1,10):\n",
    "    print(i)"
   ]
  },
  {
   "cell_type": "code",
   "execution_count": null,
   "id": "ad2c43ea-301d-46eb-b9a0-4b11397b0821",
   "metadata": {},
   "outputs": [],
   "source": [
    "for i in range(0,10):\n",
    "    print (i)"
   ]
  },
  {
   "cell_type": "code",
   "execution_count": null,
   "id": "27d9eb13-868c-4c96-99c2-424116f9ff0c",
   "metadata": {},
   "outputs": [],
   "source": [
    "for i in range (1,100,5): # starting number, loop 100 times, add 5 to each loop\n",
    "    print(i)"
   ]
  },
  {
   "cell_type": "code",
   "execution_count": null,
   "id": "85a8c271-a429-49e7-8e1c-fe617b52ed59",
   "metadata": {},
   "outputs": [],
   "source": [
    "#42: Set a variable total to 0.\n",
    "total = 0\n",
    "# Ask the user to enter five numbers and after each input ask them if they want that number included. \n",
    "# If they do, then add the number to the total.\n",
    "# If they do not want it included, don't add the number to the total. \n",
    "# After they have entered all five numbers, display the total\n",
    "for i in range (0,5):\n",
    "    num = int(input(\"Enter a number: \"))\n",
    "    include = input(\"Do you want to include this number in the total? (yes/no)\")\n",
    "    if include == \"yes\":\n",
    "        total = total + num\n",
    "print (\"The total of your numbers is: \", total)"
   ]
  },
  {
   "cell_type": "code",
   "execution_count": 4,
   "id": "70eab266-405d-49b0-872f-6d4e5438c4ad",
   "metadata": {},
   "outputs": [
    {
     "name": "stdin",
     "output_type": "stream",
     "text": [
      "Do you want to count up or down? (up/down) UP\n",
      "What is the top number? 20\n"
     ]
    },
    {
     "name": "stdout",
     "output_type": "stream",
     "text": [
      "1\n",
      "2\n",
      "3\n",
      "4\n",
      "5\n",
      "6\n",
      "7\n",
      "8\n",
      "9\n",
      "10\n",
      "11\n",
      "12\n",
      "13\n",
      "14\n",
      "15\n",
      "16\n",
      "17\n",
      "18\n",
      "19\n",
      "20\n"
     ]
    }
   ],
   "source": [
    "#43: Ask which direction the user wants to count, up or down.\n",
    "# If up, then ask them for the top number and then count from 1 to the top number\n",
    "# If down then ask them to enter a number below 20 and then count down from 20 to that number\n",
    "# If they entered something other than up or down display the message \"I don't understand.\"\n",
    "\n",
    "direction = input(\"Do you want to count up or down? (up/down)\").lower()\n",
    "if direction == \"up\":\n",
    "    top = int(input(\"What is the top number?\"))\n",
    "    for i in range (1, top+1): #Help: I dont understand why this wouldn't add 1 to the top number rather than to increment by 1. I originally had the range as (1, 1, top) so start at 1, step by 1 and stop at top\n",
    "        print(i)\n",
    "elif direction == \"down\":\n",
    "    low = int(input(\"Enter a number below 20: \"))\n",
    "    for i in range (20, low-1, -1): # Help: Same question as above. Originally i had range(20, low, -1). Why do I need the -1 after low. start at 20, stop at low, increment at -1\n",
    "        print(i)\n",
    "else:\n",
    "    print(\"I do not understand.\")\n",
    "\n",
    "#Enhancements: if they use capitals accept these by making all input lower"
   ]
  },
  {
   "cell_type": "code",
   "execution_count": null,
   "id": "956a071b-08c0-498f-969c-815979a5cfbb",
   "metadata": {},
   "outputs": [],
   "source": [
    "#44: Ask how many people the user wants to invite to a party.\n",
    "# If they enter a number below 10, ask for the names and after each name display \"[name] has been invited.\"\n",
    "# If they enter a number which is 10 or higher, display the message \"Too many people.\"\n",
    "\n",
    "num = int(input(\"How many people do you want to invite to the party?\"))\n",
    "if num <10:\n",
    "    for i in range (0, num):\n",
    "        name = input(\"Enter the name of the invitee: \")\n",
    "        print(name, \"has been invited.\")\n",
    "else:\n",
    "    print(\"Too many people.\")"
   ]
  }
 ],
 "metadata": {
  "kernelspec": {
   "display_name": "Python 3 (ipykernel)",
   "language": "python",
   "name": "python3"
  },
  "language_info": {
   "codemirror_mode": {
    "name": "ipython",
    "version": 3
   },
   "file_extension": ".py",
   "mimetype": "text/x-python",
   "name": "python",
   "nbconvert_exporter": "python",
   "pygments_lexer": "ipython3",
   "version": "3.8.12"
  }
 },
 "nbformat": 4,
 "nbformat_minor": 5
}
