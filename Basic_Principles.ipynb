{
 "cells": [
  {
   "cell_type": "markdown",
   "id": "ae812281-e24f-4563-bfd7-d5cea25cd467",
   "metadata": {},
   "source": [
    "# The Basics"
   ]
  },
  {
   "cell_type": "markdown",
   "id": "8ffedc8c-730b-4910-97d0-59b26c6bc85c",
   "metadata": {},
   "source": [
    "## Python by Example by Nichola Lacey (1-10)"
   ]
  },
  {
   "cell_type": "markdown",
   "id": "3a6544ac-ea5d-4a78-8c4e-0e3f7ab69760",
   "metadata": {},
   "source": [
    "* Notes"
   ]
  },
  {
   "cell_type": "code",
   "execution_count": 1,
   "id": "8f8d8bc1-1af2-45c2-927d-43b6e5f53a87",
   "metadata": {},
   "outputs": [],
   "source": [
    "# Notes for creating cells in JuypterLab\n",
    "# To make a heading change code above to markdown in Juypter, then run the code\n",
    "# major heading\n",
    "## smaller heading\n",
    "# * bullet point"
   ]
  },
  {
   "cell_type": "code",
   "execution_count": 2,
   "id": "7ff46562-223f-4883-bf0b-bb9cb256a5b2",
   "metadata": {},
   "outputs": [],
   "source": [
    "# Code comments serve two purposes:\n",
    "# 1. adding explanation of how the program works\n",
    "# 2. stopping parts of the program from working temporarily so you can run and test others parts of the program\n",
    "# To comment code use the # symbol"
   ]
  },
  {
   "cell_type": "code",
   "execution_count": 3,
   "id": "c8e823f8-dfcc-4649-86d4-d9daffa33c25",
   "metadata": {},
   "outputs": [],
   "source": [
    "# Formatting code in Python:to block areas using a comment, highlight the lines, select Format menu and select Comment Out Region.   "
   ]
  },
  {
   "cell_type": "code",
   "execution_count": 4,
   "id": "c0f4c833-ee86-44c8-a87f-9867b33f709e",
   "metadata": {},
   "outputs": [],
   "source": [
    "# Python programs can be written using any text editor and must be saved with the file name extension .py in order to work. \n",
    "# In the case of these files they were create in Juypter notebook due to the ease of running each block of code. There for they are saved as .ipynb \n",
    "# .py programs can be run from the command prompt by typing in the full directory root and file name. "
   ]
  },
  {
   "cell_type": "code",
   "execution_count": 5,
   "id": "2908e94b-7859-4ccc-8654-293e08798a60",
   "metadata": {},
   "outputs": [],
   "source": [
    "# Important things to note when writing programs in Python:\n",
    "# 1. Python is case sensitive: make sure to use the correct case or the code will not work\n",
    "# 2. Text values need to appear in speech marks \"\" but numbers do not\n",
    "# 3. When naming variables, that is values you want to store, you cannot use any dedicated words such as print, input, etc. Otherwise your code will not work. \n",
    "# 4. When saving your files do not save them with any dedicated words. If you do the file will not run and you will need to rename the file before it works. \n",
    "# 5. Python dedicated words can be found here: https://www.programiz.com/python-programming/keyword-list "
   ]
  },
  {
   "cell_type": "markdown",
   "id": "60df1ccf-4f91-43cf-9773-441b6a6227e6",
   "metadata": {},
   "source": [
    "* Sample Code"
   ]
  },
  {
   "cell_type": "code",
   "execution_count": 6,
   "id": "2035b654-4f1e-4e4f-b52d-24f35261421d",
   "metadata": {},
   "outputs": [],
   "source": [
    "# Sample code: Set the value of the variable if there is not a variable already created, it will create one. \n",
    "# A variable is a container for a value.\n",
    "# In the example below the variable is num1. Which will store the value 93.\n",
    "# The value stored in the variable can change while the program is running. \n",
    "# The variable can be called whatever you want - except for Python dedicated words\n",
    "# Variables must start with a letter and not a number and must have no spaces\n",
    "num1 = 93"
   ]
  },
  {
   "cell_type": "code",
   "execution_count": null,
   "id": "73ce52ee-cb81-4c64-a3e3-fedfc54cdeea",
   "metadata": {},
   "outputs": [],
   "source": [
    "# Sample code: adds together two numbers and stores the answer in a variable called answer\n",
    "answer = num1 + num2"
   ]
  },
  {
   "cell_type": "code",
   "execution_count": null,
   "id": "3d18737a-f163-4aa1-9953-f1349d0e28e9",
   "metadata": {},
   "outputs": [],
   "source": [
    "#Sample code: subracts num2 from num1 and stores the answer in a variable called \"answer\"\n",
    "answer = num1 - num2"
   ]
  },
  {
   "cell_type": "code",
   "execution_count": null,
   "id": "2a55c091-91e2-465d-b9f9-9acaea557515",
   "metadata": {},
   "outputs": [],
   "source": [
    "#Sample code: multiplies num1 by num2 and stores the answer in a variable called answer. \n",
    "answer = num1 * num2"
   ]
  },
  {
   "cell_type": "code",
   "execution_count": null,
   "id": "3c17ca73-8b6f-4be2-ac1a-730ff9f0df14",
   "metadata": {},
   "outputs": [],
   "source": [
    "#Sample code: divides num1 by num2 and stores the answer in a variable called answer\n",
    "answer = num1 / num2"
   ]
  },
  {
   "cell_type": "code",
   "execution_count": null,
   "id": "02faaa12-8e78-44cd-935a-daae73b1d3d5",
   "metadata": {},
   "outputs": [],
   "source": [
    "#Sample code: a whole number division that stores the answer in a variable called answer\n",
    "answer = num1 // num2"
   ]
  },
  {
   "cell_type": "code",
   "execution_count": 1,
   "id": "7c1b7077-5cea-44fc-bae0-9d2932061f7d",
   "metadata": {},
   "outputs": [
    {
     "name": "stdout",
     "output_type": "stream",
     "text": [
      "This is a message.\n"
     ]
    }
   ],
   "source": [
    "# Sample code: Displays the message in teh brackets\n",
    "# As the value we want to display is a text value it has the speech marks. \n",
    "# The speech marks are not displayed itn eh output\n",
    "# If you want to display numerical values or the contents of a variable, the speech marks are not needed. \n",
    "print(\"This is a message.\")"
   ]
  },
  {
   "cell_type": "code",
   "execution_count": 2,
   "id": "cc8ec94a-d4a4-4154-aefe-5ff90b1cc312",
   "metadata": {},
   "outputs": [
    {
     "name": "stdout",
     "output_type": "stream",
     "text": [
      "First line\n",
      "Second line\n"
     ]
    }
   ],
   "source": [
    "#Sample code: \"\\n\" is used as a line break\n",
    "print(\"First line\\nSecond line\")"
   ]
  },
  {
   "cell_type": "code",
   "execution_count": 4,
   "id": "4c7e602c-a846-494e-a57d-fc2b548b805e",
   "metadata": {},
   "outputs": [
    {
     "name": "stdout",
     "output_type": "stream",
     "text": [
      "The answer is: 93\n"
     ]
    }
   ],
   "source": [
    "#Sample code: Displays teh test \"The answer is: \" and the value of the variable answer.\n",
    "answer = 93\n",
    "print(\"The answer is:\", answer)"
   ]
  },
  {
   "cell_type": "code",
   "execution_count": 5,
   "id": "92a07997-fb90-4050-a485-f541e7447ccf",
   "metadata": {},
   "outputs": [
    {
     "name": "stdin",
     "output_type": "stream",
     "text": [
      "Enter a text value:  hello\n"
     ]
    }
   ],
   "source": [
    "#Sample code: Displays the question \"Enter a text value: \" and stores the value the user enters in a variable called textValue. \n",
    "# A text value is also known as a \"string\"\n",
    "# The space after the colon allows a space to be added before the user enters their answer\n",
    "textValue = input(\"Enter a text value: \")"
   ]
  },
  {
   "cell_type": "code",
   "execution_count": 6,
   "id": "a7a6bebf-6813-4dda-897f-d7858d47fa1c",
   "metadata": {},
   "outputs": [
    {
     "name": "stdin",
     "output_type": "stream",
     "text": [
      "Enter a number:  2\n"
     ]
    }
   ],
   "source": [
    "#Sample code: displays the question \"Enter a number: \" and stores the value as an integer in a variable called numValue.\n",
    "# Integers are whole numbers and can be used in calculations. Text/string variables cannot be used in calculations\n",
    "numValue = int(input(\"Enter a number: \"))"
   ]
  },
  {
   "cell_type": "markdown",
   "id": "ac9b8119-1019-4a9d-96bf-7db508838e1d",
   "metadata": {},
   "source": [
    "* Coding Challenges"
   ]
  },
  {
   "cell_type": "code",
   "execution_count": 3,
   "id": "92830773-6234-4c2f-a2ae-6a95da0d6d98",
   "metadata": {},
   "outputs": [
    {
     "name": "stdin",
     "output_type": "stream",
     "text": [
      "What is your first name:  Melissa\n"
     ]
    },
    {
     "name": "stdout",
     "output_type": "stream",
     "text": [
      "Hello Melissa\n"
     ]
    }
   ],
   "source": [
    "# 1. Ask for the users first name and display the output\n",
    "first_name = input(\"What is your first name: \")\n",
    "print(\"Hello\", first_name)"
   ]
  },
  {
   "cell_type": "code",
   "execution_count": 4,
   "id": "d288a3e1-ea73-4440-a504-374c5be87b0c",
   "metadata": {},
   "outputs": [
    {
     "name": "stdin",
     "output_type": "stream",
     "text": [
      "What is your first name?  Melissa\n",
      "What is your last name? Hunfalvay\n"
     ]
    },
    {
     "name": "stdout",
     "output_type": "stream",
     "text": [
      "Melissa Hunfalvay\n"
     ]
    }
   ],
   "source": [
    "#2: Ask for first name then last name and display the output\n",
    "first_name = input (\"What is your first name? \")\n",
    "last_name = input (\"What is your last name?\")\n",
    "print (first_name, last_name)"
   ]
  },
  {
   "cell_type": "code",
   "execution_count": 5,
   "id": "e544223e-2cb3-4d88-997e-4c79ab0ca84d",
   "metadata": {},
   "outputs": [
    {
     "name": "stdout",
     "output_type": "stream",
     "text": [
      "What do you call a bear with no teeth?\n",
      "A gummy bear.\n"
     ]
    }
   ],
   "source": [
    "#3: Write code that will display the joke \"What do you call a bear with no teeth?\" and on the next line display \"A gummy bear!\" Use only one line of code.\n",
    "print(\"What do you call a bear with no teeth?\\nA gummy bear.\")"
   ]
  },
  {
   "cell_type": "code",
   "execution_count": 6,
   "id": "e9815206-813a-4908-a39b-6360e1520b32",
   "metadata": {},
   "outputs": [
    {
     "name": "stdin",
     "output_type": "stream",
     "text": [
      "Enter a number:  1\n",
      "Enter another number:  2\n"
     ]
    },
    {
     "name": "stdout",
     "output_type": "stream",
     "text": [
      "The answer is  3\n"
     ]
    }
   ],
   "source": [
    "#4: Ask the user to enter two numbers. Add them together and display the answer: The total is: [answer]\n",
    "num1 = int(input(\"Enter a number: \"))\n",
    "num2 = int(input(\"Enter another number: \"))\n",
    "answer = num1 + num2\n",
    "print(\"The answer is \", answer)"
   ]
  },
  {
   "cell_type": "code",
   "execution_count": 7,
   "id": "aad1d787-68ed-4144-8ae0-9c9679ed571d",
   "metadata": {},
   "outputs": [
    {
     "name": "stdin",
     "output_type": "stream",
     "text": [
      "Enter a number:  1\n",
      "Enter a second number:  2\n",
      "Enter a third number:  3\n"
     ]
    },
    {
     "name": "stdout",
     "output_type": "stream",
     "text": [
      "The answer is:  9\n"
     ]
    }
   ],
   "source": [
    "#5: Ask the user to enter 3 numbers. Add together the first 2 and multiply by the 3rd. Display the answer as : The answer is: [answer]\n",
    "num1 = int(input(\"Enter a number: \"))\n",
    "num2 = int(input(\"Enter a second number: \"))\n",
    "num3 = int(input(\"Enter a third number: \"))\n",
    "answer = (num1+num2)*num3\n",
    "print(\"The answer is: \", answer)"
   ]
  },
  {
   "cell_type": "code",
   "execution_count": 8,
   "id": "afa103ac-1738-4c4a-9455-9131e830af96",
   "metadata": {},
   "outputs": [
    {
     "name": "stdin",
     "output_type": "stream",
     "text": [
      "How many slices of pizza did you start with?:  10\n",
      "How many slices have you eaten?:  5\n"
     ]
    },
    {
     "name": "stdout",
     "output_type": "stream",
     "text": [
      "You have 5 slice(s) remaining.\n"
     ]
    }
   ],
   "source": [
    "#6: Ask how many slices of pizza the user started with and ask how many slices they have eaten. Work out how many slices they have left and display the answer in a user friendly format.\n",
    "startNum = int(input(\"How many slices of pizza did you start with?: \"))\n",
    "endNum = int(input(\"How many slices have you eaten?: \"))\n",
    "remain = startNum - endNum\n",
    "print(\"You have\", remain, \"slice(s) remaining.\")"
   ]
  },
  {
   "cell_type": "code",
   "execution_count": 9,
   "id": "67d3ce4b-6a4d-4a47-9704-3b1e3c9b2456",
   "metadata": {},
   "outputs": [
    {
     "name": "stdin",
     "output_type": "stream",
     "text": [
      "What is your name?: Melissa\n",
      "What is your age now?: 48\n"
     ]
    },
    {
     "name": "stdout",
     "output_type": "stream",
     "text": [
      "Melissa next birthday you will be 49\n"
     ]
    }
   ],
   "source": [
    "#7: Ask the user for their name and age. Display the output [name] next birthday you will be [new age]\n",
    "name = input(\"What is your name?:\")\n",
    "nowAge = int(input(\"What is your age now?:\"))\n",
    "newAge = nowAge + 1\n",
    "print(name, \"next birthday you will be\", newAge)"
   ]
  },
  {
   "cell_type": "code",
   "execution_count": 6,
   "id": "62eeded8-0a79-4cac-b96e-f90d7c18004c",
   "metadata": {},
   "outputs": [
    {
     "name": "stdin",
     "output_type": "stream",
     "text": [
      "What is the price of the bill?: $ 112\n",
      "How many people are dining?: 3\n"
     ]
    },
    {
     "name": "stdout",
     "output_type": "stream",
     "text": [
      "Each person owes: $ 37.33\n"
     ]
    }
   ],
   "source": [
    "#8: Ask for the total price of the bill, then ask how many diners there are. Divide the total bill by the number of diners and show how much each person must pay.\n",
    "bill = int(input(\"What is the price of the bill?: $\"))\n",
    "diners = int(input(\"How many people are dining?:\"))\n",
    "personTotal = round(bill/diners,2)\n",
    "print (\"Each person owes: $\",personTotal)\n",
    "# Enhance by adding the $\n",
    "# Enhance by doing 2 decimal places    "
   ]
  },
  {
   "cell_type": "code",
   "execution_count": 8,
   "id": "9cc7bf17-f732-470e-b318-97948687bf59",
   "metadata": {},
   "outputs": [
    {
     "name": "stdin",
     "output_type": "stream",
     "text": [
      "Enter a number of days: 1\n"
     ]
    },
    {
     "name": "stdout",
     "output_type": "stream",
     "text": [
      "There are 24 hours, and 1440 minutes, and 86400 seconds, in the days you entered.\n",
      "There are 24, hours, and 1,440 minutes, and 86,400 seconds, in the days you entered.\n"
     ]
    }
   ],
   "source": [
    "#9: Write a program that will ask for a number of days and then will show how many hours, minutes and seconds are in that number of days\n",
    "days = int(input(\"Enter a number of days:\"))\n",
    "hours = days * 24\n",
    "minutes = hours * 60\n",
    "seconds = minutes * 60\n",
    "print(\"There are\", hours, \"hours, and\", minutes, \"minutes, and\", seconds, \"seconds, in the days you entered.\")\n",
    "print(\"There are {:,}, hours, and {:,} minutes, and {:,} seconds, in the days you entered.\".format(hours,minutes,seconds)) #Enhance with a comma in the returning data if longer than 3 digits"
   ]
  },
  {
   "cell_type": "code",
   "execution_count": 12,
   "id": "fa6f770e-511c-4f2f-b47b-91fdda373b47",
   "metadata": {},
   "outputs": [
    {
     "name": "stdin",
     "output_type": "stream",
     "text": [
      "Enter the number of kilograms:  2\n"
     ]
    },
    {
     "name": "stdout",
     "output_type": "stream",
     "text": [
      "The number of pounds is: 4408\n"
     ]
    }
   ],
   "source": [
    "#10: There are 2,204 pounds in a kilogram. Ask the user to enter a weight in kilograms and convert it to pounds. \n",
    "kilos = int(input(\"Enter the number of kilograms: \"))\n",
    "pounds = kilos * 2204\n",
    "print(\"The number of pounds is:\", pounds)"
   ]
  },
  {
   "cell_type": "code",
   "execution_count": 12,
   "id": "62d21e6a-836d-4481-9043-446de4b1bb27",
   "metadata": {},
   "outputs": [
    {
     "name": "stdin",
     "output_type": "stream",
     "text": [
      "Enter a number over 100: 120\n",
      "Enter a number under 10: 5\n"
     ]
    },
    {
     "name": "stdout",
     "output_type": "stream",
     "text": [
      "5 goes into 120 , 24 times.\n",
      "5 goes into 120, 24 times.\n"
     ]
    }
   ],
   "source": [
    "#11: Ask the user to enter a number over 100 and then enter a number under 10 and tell them how many times the smaller number goes into the larger number in a user-friendly format\n",
    "largeNum = int(input(\"Enter a number over 100:\"))\n",
    "smallNum = int(input(\"Enter a number under 10:\"))\n",
    "divNum = largeNum // smallNum\n",
    "print(smallNum, \"goes into\", largeNum,\",\",divNum, \"times.\")\n",
    "print(\"{} goes into {}, {} times.\".format(smallNum, largeNum, divNum)) #Enhance: comma spacing between data variables"
   ]
  }
 ],
 "metadata": {
  "kernelspec": {
   "display_name": "Python 3 (ipykernel)",
   "language": "python",
   "name": "python3"
  },
  "language_info": {
   "codemirror_mode": {
    "name": "ipython",
    "version": 3
   },
   "file_extension": ".py",
   "mimetype": "text/x-python",
   "name": "python",
   "nbconvert_exporter": "python",
   "pygments_lexer": "ipython3",
   "version": "3.8.12"
  }
 },
 "nbformat": 4,
 "nbformat_minor": 5
}
