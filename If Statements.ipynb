{
 "cells": [
  {
   "cell_type": "markdown",
   "id": "c3e04e80-3c91-47e7-bd3d-84501dd3d35d",
   "metadata": {},
   "source": [
    "# If Statements"
   ]
  },
  {
   "cell_type": "markdown",
   "id": "e0eb3fe4-f200-4a37-bc13-c014b813a828",
   "metadata": {},
   "source": [
    "## Python by Example by Nichola Lacey (12-19)"
   ]
  },
  {
   "cell_type": "markdown",
   "id": "c5d7d2b3-c9a3-4998-a471-923038404bc0",
   "metadata": {},
   "source": [
    "* Notes"
   ]
  },
  {
   "cell_type": "code",
   "execution_count": null,
   "id": "bbe123a5-56fa-4307-8b59-d62029c4b7be",
   "metadata": {},
   "outputs": [],
   "source": [
    "# If statements allow your program to make a decision and change the route that is taken through the program.\n",
    "# Indenting is very important in Python as it shows the lines that are dependent on others. Use your Tab key to indent.\n",
    "# The first line of the statement tests a condition, and if that condition is met (i.e. the first condition is true) then the lines of code directly below it are run. \n",
    "# If it is not met (i.e. the first condition is false) it will test the second condition, if there is one, and so on. "
   ]
  },
  {
   "cell_type": "raw",
   "id": "67add1bf-1dde-49fc-ac4d-9c1ace635c75",
   "metadata": {},
   "source": [
    "== is equal to\n",
    "!= not equal to\n",
    "> Greater than\n",
    "< Less than\n",
    ">= Greater than or equal to\n",
    "<= Less than or equal to\n",
    "and Both conditions must be met\n",
    "or Either condition must be met"
   ]
  },
  {
   "cell_type": "markdown",
   "id": "2fe78c80-cfa7-4ed2-b189-a411aba9d9ec",
   "metadata": {},
   "source": [
    "* Sample Code"
   ]
  },
  {
   "cell_type": "code",
   "execution_count": 3,
   "id": "581499b2-b745-42c2-88b7-6e2a50ec4178",
   "metadata": {},
   "outputs": [
    {
     "name": "stdin",
     "output_type": "stream",
     "text": [
      "Enter a number:  5\n"
     ]
    },
    {
     "name": "stdout",
     "output_type": "stream",
     "text": [
      "This is not over 10.\n"
     ]
    }
   ],
   "source": [
    "# If num1 is over 10 it will display the message \"This is over 10\"\n",
    "# Otherwise it will display the message \"This is under 10.\n",
    "\n",
    "num1 = int(input(\"Enter a number: \"))\n",
    "if num1 >10:\n",
    "    print(\"This is over 10.\")\n",
    "else:\n",
    "    print(\"This is not over 10.\")"
   ]
  },
  {
   "cell_type": "code",
   "execution_count": 10,
   "id": "3926a176-7ae7-4b01-8e3e-71829d297a3f",
   "metadata": {},
   "outputs": [
    {
     "name": "stdin",
     "output_type": "stream",
     "text": [
      "Enter a number:  10\n"
     ]
    },
    {
     "name": "stdout",
     "output_type": "stream",
     "text": [
      "This is equal to 10.\n"
     ]
    }
   ],
   "source": [
    "# If num1 is over 10 it will display the message \"This is over 10\", otherwise it will check the next condition\n",
    "# If num1 is equal to 10, it will display the message \"This is equal to 10.\"\n",
    "# Otherwise, if neither of the first two conditions have been met, it will display the message \"this is under 10.\"\n",
    "\n",
    "num1 = int(input(\"Enter a number: \"))\n",
    "if num1 >10:\n",
    "    print(\"This is over 10.\")\n",
    "elif num1 == 10:\n",
    "    print(\"This is equal to 10.\")\n",
    "else:\n",
    "    print(\"This is under 10.\")\n"
   ]
  },
  {
   "cell_type": "code",
   "execution_count": 11,
   "id": "f578012b-4c8d-4493-9968-fa12bf385d6f",
   "metadata": {},
   "outputs": [
    {
     "name": "stdin",
     "output_type": "stream",
     "text": [
      "Enter a number:  10\n"
     ]
    },
    {
     "name": "stdout",
     "output_type": "stream",
     "text": [
      "This is between 10 and 20.\n"
     ]
    }
   ],
   "source": [
    "# If num1 is 10 or more then it will test another if statement to see if num1 is less than or equal to 20\n",
    "# If it is, it will display the message \"This is between 10 and 20.\"\n",
    "# If num1 is not less than or equal to 20 then it will display the message \"This is over 20.\"\n",
    "# If num1 is not over 10, it will display the message \"This is under 10.\"\n",
    "num1 = int(input(\"Enter a number: \"))\n",
    "if num1 >= 10:\n",
    "    if num1 <= 20:\n",
    "        print(\"This is between 10 and 20.\")\n",
    "    else:\n",
    "        print(\"This is over 20.\")\n",
    "else:\n",
    "    print(\"This is under 10.\")"
   ]
  },
  {
   "cell_type": "code",
   "execution_count": 15,
   "id": "477cb60f-09ad-4756-bf9b-0b3c1a9fa1d5",
   "metadata": {},
   "outputs": [
    {
     "name": "stdin",
     "output_type": "stream",
     "text": [
      "Enter some text:  ABcd\n"
     ]
    },
    {
     "name": "stdout",
     "output_type": "stream",
     "text": [
      "abcd\n"
     ]
    }
   ],
   "source": [
    "# Changes the text to lower case.\n",
    "# As Python is case sensitive, this changes the data input by the user into lower case so it is easier to check.\n",
    "text = input(\"Enter some text: \")\n",
    "text = str.lower(text)\n",
    "print(text)"
   ]
  },
  {
   "cell_type": "markdown",
   "id": "75922025-e6ac-416b-8e0d-62d01017002b",
   "metadata": {},
   "source": [
    "* Coding Challenges"
   ]
  },
  {
   "cell_type": "code",
   "execution_count": null,
   "id": "62853660-dd83-4f21-9d84-13fc10c8f438",
   "metadata": {},
   "outputs": [],
   "source": [
    "#12: Ask for 2 numbers. If the first one is larger than the second, display the second number first and then the first number, otherwise show the first number first and then the second.\n",
    "num1 = int(input(\"Enter your first number: \"))\n",
    "num2 = int(input(\"Enter your second number: \"))\n",
    "if num1 > num2:\n",
    "    print(num2, num1)\n",
    "else:\n",
    "    print(num1, num2)"
   ]
  },
  {
   "cell_type": "code",
   "execution_count": null,
   "id": "6647459c-f25c-45e1-b351-681460e69bd9",
   "metadata": {},
   "outputs": [],
   "source": [
    "#13: Ask the user to enter a number that is under 20. If they enter a number that is 20 or more, display the message \"Too high\", otherwise display \"Thank you.\"\n",
    "num1 = int(input(\"Enter a number that is under 20:\"))\n",
    "if num1 >= 20:\n",
    "    print(\"Too high.\")\n",
    "else:\n",
    "    print(\"Thank you.\")"
   ]
  },
  {
   "cell_type": "code",
   "execution_count": null,
   "id": "4d507b17-5142-4fbf-b15e-0ad1ebd4b2ce",
   "metadata": {},
   "outputs": [],
   "source": [
    "#14: Ask the user to enter a number between 10 and 20 (inclusive). If they enter a number within this range, display the messsage \"Thank you\", otherwise display the message \"Incorrect answer.\"\n",
    "num1 = int(input(\"Enter a number between 10 and 20:\"))\n",
    "if num1 >= 10 and num1 <= 20:\n",
    "    print(\"Thank you.\")\n",
    "else:\n",
    "    print(\"Incorrect answer.\")"
   ]
  },
  {
   "cell_type": "code",
   "execution_count": 3,
   "id": "4bd7e9f6-f909-4701-af34-b97189e9541d",
   "metadata": {},
   "outputs": [
    {
     "name": "stdin",
     "output_type": "stream",
     "text": [
      "Enter your favorite color:  blue\n"
     ]
    },
    {
     "name": "stdout",
     "output_type": "stream",
     "text": [
      "I don't like blue, I prefer red.\n"
     ]
    }
   ],
   "source": [
    "#15: Ask the user to enter their favorite color. If they enter red, RED or Red display the message \"I like red too\", otherwise display the messsage \"I don't like [color], I prefer red.\"\n",
    "color = input(\"Enter your favorite color: \")\n",
    "if color == \"red\" or color == \"RED\" or color == \"Red\":\n",
    "    print(\"I like red too.\")\n",
    "else:\n",
    "    print(\"I don't like {}, I prefer red.\".format(color))\n",
    "#Enhancement spacing of the comma after color"
   ]
  },
  {
   "cell_type": "code",
   "execution_count": null,
   "id": "ff7469c1-d456-4a7f-8e32-ae2b28f2a81b",
   "metadata": {},
   "outputs": [],
   "source": [
    "#16: Ask user if it is raining and convert answer to lower case so it doesnt matter what they type in.\n",
    "# If they answer yes, ask if it is windy. If yes, then display the answer: \"It is too windy for an umbrella.\"\n",
    "# otherwise display the message \"Take an umbrella.\"\n",
    "# if they did not answer yes to first question then display the answer: \"Enjoy your day.\"\n",
    "\n",
    "weather = input(\"Is it raining?\")\n",
    "weather = str.lower(weather)\n",
    "if weather == \"yes\":\n",
    "    windy = input(\"Is it windy?\")\n",
    "    windy = str.lower(windy)\n",
    "    if windy == \"yes\":\n",
    "        print(\"It is too windy for an umbrella.\")\n",
    "    else:\n",
    "        print(\"Take an umbrella.\")\n",
    "else:\n",
    "    print(\"Enjoy your day.\")"
   ]
  },
  {
   "cell_type": "code",
   "execution_count": null,
   "id": "03111f48-945a-4efd-8a78-2d5180221134",
   "metadata": {},
   "outputs": [],
   "source": [
    "#17: Ask the users age. If they are 18 or over, display the message: \"You can vote\" \n",
    "# if they are 17 display the message \"You can learn to Drive.\"\n",
    "# If they are 16, display the message \"You can buy a lottery ticket.\"\n",
    "# If they are under 16, display the message, \"You con go Trick_or-Treating\n",
    "age = int(input(\"How old are you?\"))\n",
    "if age >= 18:\n",
    "    print(\"You can vote.\")\n",
    "elif age ==17:\n",
    "    print(\"You can learn to drive.\")\n",
    "elif age == 16:\n",
    "    print(\"You can buy a lottery ticket.\")\n",
    "else:\n",
    "    print(\"You can go Trick-or-Treating\")"
   ]
  },
  {
   "cell_type": "code",
   "execution_count": null,
   "id": "16d46e40-1d5f-4239-bb06-a9e350b1c387",
   "metadata": {},
   "outputs": [],
   "source": [
    "#18: Ask the user to enter a number. If it is under 10, display the message \"Too low.\"\n",
    "# If the number is between 10 to 20, display \"Correct\"\n",
    "# Otherwise display \"Too high.\"\n",
    "num = int(input(\"Enter a number:\"))\n",
    "if num < 10:\n",
    "    print(\"Too low.\")\n",
    "elif num >= 10 and num <=20:\n",
    "    print(\"Correct.\")\n",
    "else:\n",
    "    print(\"Too high.\")"
   ]
  },
  {
   "cell_type": "code",
   "execution_count": null,
   "id": "fcc97c01-7d69-4d7c-8296-a63ad6e57ef8",
   "metadata": {},
   "outputs": [],
   "source": [
    "#19: Ask the user to enter 1, 2, or 3. \n",
    "#If they enter 1, display the message \"Thank you.\"\n",
    "#If they enter 2 display \"Well done\"\n",
    "#If they enter 3, display \"Correct\"\n",
    "#If they enter anything else, display \"Error message.\"\n",
    "num = int(input(\"Enter the number 1, 2 or 3:\"))\n",
    "if num == 1:\n",
    "    print(\"Thank you.\")\n",
    "elif num == 2:\n",
    "    print (\"Well done.\")\n",
    "elif num == 3:\n",
    "    print (\"Correct.\")\n",
    "else:\n",
    "    print(\"Error message.\")"
   ]
  }
 ],
 "metadata": {
  "kernelspec": {
   "display_name": "Python 3 (ipykernel)",
   "language": "python",
   "name": "python3"
  },
  "language_info": {
   "codemirror_mode": {
    "name": "ipython",
    "version": 3
   },
   "file_extension": ".py",
   "mimetype": "text/x-python",
   "name": "python",
   "nbconvert_exporter": "python",
   "pygments_lexer": "ipython3",
   "version": "3.8.12"
  }
 },
 "nbformat": 4,
 "nbformat_minor": 5
}
