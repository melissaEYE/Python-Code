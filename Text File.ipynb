{
 "cells": [
  {
   "cell_type": "markdown",
   "id": "845dd7f0-a4e6-4c31-8350-2e6b27c2fba1",
   "metadata": {},
   "source": [
    "# Reading and Writing to a Text File"
   ]
  },
  {
   "cell_type": "markdown",
   "id": "9afb5b13-ef69-4f72-99de-eae5131ef5b7",
   "metadata": {},
   "source": [
    "## Python by Example by Nichola Lacey (106-110)"
   ]
  },
  {
   "cell_type": "markdown",
   "id": "ecd268e7-e231-451d-b3d9-50001c3051b8",
   "metadata": {},
   "source": [
    "* Notes"
   ]
  },
  {
   "cell_type": "raw",
   "id": "bb8861e9-8c4f-40f0-afeb-125ab915aba2",
   "metadata": {},
   "source": [
    "# When opening a text file you must specify how that file will be used within the program. the opens are:\n",
    "# w = Write mode: used to create a new file. Any existing files with the same name will be erased and a new one create in its place\n",
    "# r = Read mode: used when an existing file is only being read and not being written to\n",
    "# a = Append mode: used to add new data to the end of the file. \n",
    "# You can only write, read or append text files\n",
    "# Text files are not easy to remove or alter individual elements of data once it is written to the file. If you want to do this a better file is csv or SQL database"
   ]
  },
  {
   "cell_type": "markdown",
   "id": "dbd7e211-6a62-421c-9d22-0fe389b37466",
   "metadata": {},
   "source": [
    "* Sample Code"
   ]
  },
  {
   "cell_type": "code",
   "execution_count": 1,
   "id": "3372d966-0489-4adf-8ef4-bf14d72371db",
   "metadata": {},
   "outputs": [],
   "source": [
    "file = open(\"Countries.txt\",\"w\") # Creates a file called \"Countries.txt. Uses write mode. If the same file already exists it will be written over with a new blank file\n",
    "file.write(\"Italy\\n\") # adds lines to the file and \\n forces new line\n",
    "file.write(\"Germany\\n\")\n",
    "file.write(\"Spain\\n\")\n",
    "file.close() # closes and saves file changes"
   ]
  },
  {
   "cell_type": "code",
   "execution_count": null,
   "id": "1435dcde-7611-48db-a383-1b9c0a98c8c0",
   "metadata": {},
   "outputs": [],
   "source": [
    "file = open(\"Countries.txt\",\"a\") # opens \"Countries.txt in append mode\n",
    "file.write(\"France\\n\") # adds this\n",
    "file.close() #closes and saves"
   ]
  },
  {
   "cell_type": "code",
   "execution_count": null,
   "id": "f5a2980e-aade-4f2a-bed6-b20eb081dc50",
   "metadata": {},
   "outputs": [],
   "source": [
    "file = open (\"Countries.txt\",\"r\") # Opens file in read mode\n",
    "print(file.read()) # Displays entire file"
   ]
  },
  {
   "cell_type": "code",
   "execution_count": null,
   "id": "194ed334-6e22-4acc-a285-a82c12d035ea",
   "metadata": {},
   "outputs": [],
   "source": [
    "import os # this is the operating system library \n",
    "os.getcwd() # os = operating system, get current working directory"
   ]
  },
  {
   "cell_type": "markdown",
   "id": "7f46c1c1-dbe2-4c4f-9c9d-42fbeb82a8a5",
   "metadata": {},
   "source": [
    "* Coding Challenges"
   ]
  },
  {
   "cell_type": "code",
   "execution_count": null,
   "id": "8ad4f0f5-f73b-4eb8-9981-cc524250213f",
   "metadata": {},
   "outputs": [],
   "source": [
    "#105: Write a new file called \"Numbers.txt\"\n",
    "# Add 5 numbers to the document which are stored on the same line and only seperated by a comma.\n",
    "# Once you have run the program, look in the location where your program is stored and you should see that the file has been created\n",
    "file = open(\"Numbers.txt\",\"w\")\n",
    "file.write(\"1,\")\n",
    "file.write(\"2,\")\n",
    "file.write(\"3,\")\n",
    "file.write(\"4,\")\n",
    "file.write(\"5,\")\n",
    "file.close()\n",
    "file = open (\"Numbers.txt\",\"r\") # Opens file in read mode\n",
    "print(file.read()) # Displays entire file"
   ]
  },
  {
   "cell_type": "code",
   "execution_count": null,
   "id": "9ae9490e-7071-43f1-9681-22fe525c92e0",
   "metadata": {},
   "outputs": [],
   "source": [
    "#106: Create a new file called \"Names.txt\"\n",
    "# Add five names to the document, which are stored on seperate lines.\n",
    "# Once you have run the program,look in the location where your program is stored and check it has been created properly\n",
    "file = open(\"Names.txt\",\"w\")\n",
    "file.write(\"Tom\\n\")\n",
    "file.write(\"Charles\\n\")\n",
    "file.write(\"Susan\\n\")\n",
    "file.write(\"Teressa\\n\")\n",
    "file.write(\"Melissa\\n\")\n",
    "file.close()\n",
    "file = open (\"Names.txt\",\"r\") # Opens file in read mode\n",
    "print(file.read()) # Displays entire file"
   ]
  },
  {
   "cell_type": "code",
   "execution_count": null,
   "id": "e58b6be2-73c5-47b4-8183-bbad1caec0b5",
   "metadata": {},
   "outputs": [],
   "source": [
    "#107: Open the Names.txt file and display the data in Python\n",
    "file = open (\"Names.txt\",\"r\") # Opens file in read mode\n",
    "print(file.read()) # Displays entire file"
   ]
  },
  {
   "cell_type": "code",
   "execution_count": null,
   "id": "20615495-a70d-4f68-b3e1-c22d7dff06cc",
   "metadata": {},
   "outputs": [],
   "source": [
    "#108: Open the Names.txt file. Ask the user to input a new name. \n",
    "# Add this to the end of the file\n",
    "#Display the entire file\n",
    "file = open(\"Names.txt\",\"a\")\n",
    "new = input(\"Enter a new name: \\n\")\n",
    "file.write(new)\n",
    "file.close()\n",
    "file = open (\"Names.txt\",\"r\") # Opens file in read mode\n",
    "print(file.read()) # Displays entire file"
   ]
  },
  {
   "cell_type": "code",
   "execution_count": null,
   "id": "e84835d1-6a6d-4e98-80e1-09a60523228d",
   "metadata": {},
   "outputs": [],
   "source": [
    "#109: Display the following menu to the user:\n",
    "# 1) Create a new file\n",
    "# 2) Display the file\n",
    "# 3) Add a new item to the file\n",
    "# Make a selection 1, 2, or 3:\n",
    "#Ask the user to enter 1, 2, 3. If they select anything other than 1,2,3 display a suitable error message\n",
    "# If they select 1, ask the user to enter a school subject and save it to the new file called \"Subject.txt\". It should overwrite any existing file with a new file. \n",
    "# If they select 2, display the contents of the \"Subject.txt\" file\n",
    "# If they select 3, ask the user to enter a new subject and save it to the file and then display the entire contents to the file.\n",
    "# Run the program several times to test the options. \n",
    "print(\"1) Create a new file\")\n",
    "print(\"2) Display the file\")\n",
    "print(\"3) Add a new item to the file\")\n",
    "select = int(input(\"Make a selection 1, 2, 3: \"))\n",
    "if select == 1:\n",
    "    subject = input(\"Enter the school subject: \")\n",
    "    file = open(\"Subject.txt\", \"w\")\n",
    "    file.write(subject)\n",
    "    file.close()\n",
    "    file = open (\"Subject.txt\",\"r\") # Opens file in read mode\n",
    "    print(file.read()) # Displays entire file\n",
    "elif select == 2:\n",
    "    file = open(\"Subject.txt\", \"r\")\n",
    "    print(file.read())\n",
    "elif select == 3:\n",
    "    file = open(\"Subject.txt\",\"a\")\n",
    "    subject = input(\"Enter the school subject: \")\n",
    "    file.write(subject + \"\\n\")\n",
    "    file.close()\n",
    "    file = open (\"Subject.txt\",\"r\") # Opens file in read mode\n",
    "    print(file.read()) # Displays entire file\n",
    "else:\n",
    "    print(\"Incorrect. Please select 1, 2 or 3\")"
   ]
  },
  {
   "cell_type": "code",
   "execution_count": null,
   "id": "2aa87c9b-fa8e-4113-ad6a-22297974e847",
   "metadata": {},
   "outputs": [],
   "source": [
    "#110: Using the Names.txt file you created earlier, display the list of names in Python.\n",
    "# Ask the user to type in one of the names and then save all the names except the one they entered into a new file called Name2.txt\n",
    "file = open(\"Names.txt\",\"r\")\n",
    "print(file.read()) # Displays entire file\n",
    "file.close()\n",
    "            \n",
    "new = input(\"Enter a new name: \")\n",
    "file = open(\"Name2.txt\",\"w\")\n",
    "file.write(new + \"\\n\")\n",
    "file.close()\n",
    "file = open (\"Name2.txt\",\"r\") # Opens file in read mode\n",
    "print(file.read()) # Displays entire file"
   ]
  }
 ],
 "metadata": {
  "kernelspec": {
   "display_name": "Python 3 (ipykernel)",
   "language": "python",
   "name": "python3"
  },
  "language_info": {
   "codemirror_mode": {
    "name": "ipython",
    "version": 3
   },
   "file_extension": ".py",
   "mimetype": "text/x-python",
   "name": "python",
   "nbconvert_exporter": "python",
   "pygments_lexer": "ipython3",
   "version": "3.8.12"
  }
 },
 "nbformat": 4,
 "nbformat_minor": 5
}
