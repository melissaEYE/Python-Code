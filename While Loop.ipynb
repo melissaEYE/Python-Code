{
 "cells": [
  {
   "cell_type": "markdown",
   "id": "fb669dac-4fde-4ade-9862-a4ffcb44d332",
   "metadata": {},
   "source": [
    "# While Loop"
   ]
  },
  {
   "cell_type": "markdown",
   "id": "615ff64f-739a-4d07-a2da-db0c0a536aef",
   "metadata": {},
   "source": [
    "## Python by Example by Nichola Lacey (45-51)"
   ]
  },
  {
   "cell_type": "markdown",
   "id": "28559fde-fea9-42b5-b817-4998421d6c2a",
   "metadata": {},
   "source": [
    "* Notes"
   ]
  },
  {
   "cell_type": "code",
   "execution_count": null,
   "id": "6cb9740b-e5b8-457a-bd5c-8fc91faf8d25",
   "metadata": {},
   "outputs": [],
   "source": [
    "# WHILE LOOPS repeats code \"While\" a condition is being met.\n",
    "# The number of times the code runs is not pre-set like a \"for loop\", instead a while loop will run as long as teh conditions are met.\n",
    "# The condition is checked before the code is run, therefore it is important to make sure the correct conditions are in place to run the loop BEFORE it starts. "
   ]
  },
  {
   "cell_type": "code",
   "execution_count": null,
   "id": "b5828223-fe6f-45ab-8c22-653e0c8bb0c3",
   "metadata": {},
   "outputs": [],
   "source": [
    "# == is equal to\n",
    "# != not equal to\n",
    "# > Greater than\n",
    "# < Less than\n",
    "# >= Greater than or equal to\n",
    "# <= Less than or equal to\n",
    "# and Both conditions must be met\n",
    "# or Either condition must be met\n",
    "# Remember text values must appear in speech marks. Numeric values do not. "
   ]
  },
  {
   "cell_type": "code",
   "execution_count": 1,
   "id": "2c6472f4-bfbc-43d5-8133-95c515914f8e",
   "metadata": {},
   "outputs": [
    {
     "name": "stdout",
     "output_type": "stream",
     "text": [
      "Hello\n"
     ]
    },
    {
     "name": "stdin",
     "output_type": "stream",
     "text": [
      "Do you want to loop again?  yes\n"
     ]
    },
    {
     "name": "stdout",
     "output_type": "stream",
     "text": [
      "Hello\n"
     ]
    },
    {
     "name": "stdin",
     "output_type": "stream",
     "text": [
      "Do you want to loop again?  yes\n"
     ]
    },
    {
     "name": "stdout",
     "output_type": "stream",
     "text": [
      "Hello\n"
     ]
    },
    {
     "name": "stdin",
     "output_type": "stream",
     "text": [
      "Do you want to loop again?  no\n"
     ]
    }
   ],
   "source": [
    "# An example of a while loop is below:\n",
    "\n",
    "again = \"yes\"\n",
    "while again == \"yes\":\n",
    "    print(\"Hello\")\n",
    "    again = input(\"Do you want to loop again? \")\n",
    "\n",
    "# This code will keep repeating until the user enters anything other than \"yes\""
   ]
  },
  {
   "cell_type": "markdown",
   "id": "235d8d93-1e54-45b6-9d27-9c52d12d95d4",
   "metadata": {},
   "source": [
    "* Sample Code"
   ]
  },
  {
   "cell_type": "code",
   "execution_count": 2,
   "id": "367434c0-1d73-4698-a923-2840a09dc948",
   "metadata": {},
   "outputs": [
    {
     "name": "stdin",
     "output_type": "stream",
     "text": [
      "Enter a number:  50\n",
      "Enter a number:  50\n"
     ]
    },
    {
     "name": "stdout",
     "output_type": "stream",
     "text": [
      "The total is 100\n"
     ]
    }
   ],
   "source": [
    "# This program creates a variable called total and stores the value as 0. \n",
    "# Then it asks the user to enter a number and will add it to the total\n",
    "# It will keep repeating this as long as the total is still below 0\n",
    "# When the total equals 100 or more it will stop running the loop and display the total\n",
    "\n",
    "total = 0\n",
    "while total < 100:\n",
    "    num = int(input(\"Enter a number: \"))\n",
    "    total = total + num\n",
    "print(\"The total is\", total)"
   ]
  },
  {
   "cell_type": "markdown",
   "id": "fb7845ca-3f2e-4551-9977-9a2d8d51c709",
   "metadata": {},
   "source": [
    "* Coding Challenges"
   ]
  },
  {
   "cell_type": "code",
   "execution_count": null,
   "id": "64220404-4d3a-4a4f-bf13-7841ecd892c4",
   "metadata": {},
   "outputs": [],
   "source": [
    "#45: set the total to 0 to start.\n",
    "# While the total is 50 or less, as the user to input a number.\n",
    "# Add that number to the total and print the message \"The total is: \" [total]\n",
    "# Stop the loop when the total is over 50\n",
    "\n",
    "total = 0\n",
    "while total <= 50:\n",
    "    num = int(input(\"Enter a number: \"))\n",
    "    total = total + num\n",
    "    print(\"The total is: \", total) "
   ]
  },
  {
   "cell_type": "code",
   "execution_count": null,
   "id": "ac381872-378e-4b42-9ff6-103644ecc4e0",
   "metadata": {},
   "outputs": [],
   "source": [
    "#46 Ask the user to enter a number\n",
    "# Keep asking until they enter a value over 5\n",
    "# Then display the message \"The last number you entered was a [number]\" and stop the program\n",
    "num = 0\n",
    "while num <= 5:\n",
    "    num = int(input(\"Enter a number: \"))\n",
    "    print(\"The last number you entered was a \", num)"
   ]
  },
  {
   "cell_type": "code",
   "execution_count": null,
   "id": "bc8a11ba-ec98-45bf-a8c9-daeeaa86eb02",
   "metadata": {},
   "outputs": [],
   "source": [
    "#47: Ask the user to enter a number then enter another number\n",
    "# Add the numbers together\n",
    "# Ask if they want to add another number\n",
    "# If they enter y ask them to enter another number. Keep doing this until they do not answer y\n",
    "# Once all numbers are entered add them and display the total\n",
    "num = int(input(\"Enter a number: \"))\n",
    "total = num\n",
    "ask = \"y\"\n",
    "while ask == \"y\":\n",
    "    num2 = int(input(\"Enter a number: \"))\n",
    "    total = total + num2\n",
    "    ask = input(\"Do you want to enter another number? \")\n",
    "print(\"The total is:\", total)"
   ]
  },
  {
   "cell_type": "code",
   "execution_count": null,
   "id": "454f6c58-d35a-4da4-8bb6-298bd4a1e7c9",
   "metadata": {},
   "outputs": [],
   "source": [
    "#48: Ask for the name of somebody the user wants to invite to the party.\n",
    "# After this display the message \"[name] has now been invited\" and add 1 to the count\n",
    "# Then ask if they want to invite someone else.Keep repeating this until they no longer want to invite someone else to the party\n",
    "# Display how many people they have coming to the party\n",
    "count = 0\n",
    "ask = \"y\"\n",
    "while ask == \"y\":\n",
    "    name = input(\"Enter a name of someone you want to invite to the party: \") \n",
    "    print(name, \"has now been invited to the party\")\n",
    "    count = count + 1\n",
    "    ask = input(\"Do you want to invite someone else to the party? (y/n)\")\n",
    "print(\"You have\", count, \"people coming to the party.\")"
   ]
  },
  {
   "cell_type": "code",
   "execution_count": null,
   "id": "0d27286e-4826-4188-9cb2-6dc622586fe2",
   "metadata": {},
   "outputs": [],
   "source": [
    "#49: Create a variable called compnum and set the variable to 50\n",
    "# Ask the user to enter a number. While their guess is not the same as the compnum value, tell them if their guess is too high or too low.\n",
    "# Ask them to have another guess.\n",
    "#If they enter the same values as the compnum, display the message \"Well done you took [count] attempts.\"\n",
    "compnum = 50\n",
    "count = 0\n",
    "guess = 0\n",
    "while guess!= compnum:\n",
    "    guess = int(input(\"Enter a number: \"))\n",
    "    if guess > compnum:\n",
    "        print(\"Too high\")\n",
    "    elif guess < compnum:\n",
    "        print (\"Too low\")\n",
    "    count = count + 1\n",
    "else:\n",
    "    print(\"Well done you took \", count, \"attempts\")"
   ]
  },
  {
   "cell_type": "code",
   "execution_count": null,
   "id": "18b23156-e0f3-4cf3-b2df-3dfcd1532024",
   "metadata": {},
   "outputs": [],
   "source": [
    "#50: Ask the user to enter a number between 10 and 20\n",
    "# If they enter a value under 10, display the message \"Too low\" and ask then to try again.\n",
    "# If they enter a value above 20, display the message \"Too high\" and ask them to try again.\n",
    "# Keep repeating this until they enter a value that is between 10-20 and then display the message \"Thank you.\"\n",
    "num = int(input(\"Enter a number between 10 and 20: \"))\n",
    "while num <10 or num >20:\n",
    "    if num <10:\n",
    "        print(\"Too low\")\n",
    "    else:\n",
    "        print (\"Too high.\")\n",
    "    print(\"Try again.\")\n",
    "    num = int(input(\"Enter a number between 10 and 20: \"))\n",
    "print(\"Thank you.\")"
   ]
  },
  {
   "cell_type": "code",
   "execution_count": null,
   "id": "0d353c41-7304-4e99-a7e8-445e33d5c3c2",
   "metadata": {},
   "outputs": [],
   "source": [
    "#51: Using the song \"10 green bottles\", display the lines \"There are [num] green bottles hanging on the wall, and if 1 green bottle should accidently fall.\"\n",
    "# Then ask the question \"how many green bottles will be hanging on the wall?\"\n",
    "# If the user answers correctly, display the message \"There will be [num] green bottles hanging on the wall.\"\n",
    "# If the users answers incorrectly, display the message \"No, try again\" until they get it right. \n",
    "# When the number of green bottles gets down to 0, display the message \"There are no more green bottles hanging on the wall.\"\n",
    "num = 10\n",
    "while num >0:\n",
    "    print(\"There are\", num, \"green bottles hanging on the wall\")\n",
    "    print(num, \"green bottles hanging on the wall.\")\n",
    "    print(\"If 1 green bottle should accidently fall,\")\n",
    "    num = num - 1\n",
    "    answer = int(input(\"How many green bottles will be hanging on the wall? \"))\n",
    "    if answer == num:\n",
    "        print(\"There will be\", num, \" green bottles hanging on the wall.\")\n",
    "    else:\n",
    "        while answer != num:\n",
    "            print(\"No, try again.\")\n",
    "            answer = int(input(\": \"))\n",
    "print(\"There are no more green bottles hanging on the wall.\")\n",
    "\n",
    "# Question: the variable \"answer\" keeps changing and being \"written over\" how do I know when I can and should do that versus having a new variable name?\n",
    "# Answer: the variable can be overwritten if the \"if\" condition is not true and it then enters the second while loop"
   ]
  }
 ],
 "metadata": {
  "kernelspec": {
   "display_name": "Python 3 (ipykernel)",
   "language": "python",
   "name": "python3"
  },
  "language_info": {
   "codemirror_mode": {
    "name": "ipython",
    "version": 3
   },
   "file_extension": ".py",
   "mimetype": "text/x-python",
   "name": "python",
   "nbconvert_exporter": "python",
   "pygments_lexer": "ipython3",
   "version": "3.8.12"
  }
 },
 "nbformat": 4,
 "nbformat_minor": 5
}
