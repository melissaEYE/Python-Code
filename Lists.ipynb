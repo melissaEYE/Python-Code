{
 "cells": [
  {
   "cell_type": "markdown",
   "id": "de948fd0-970b-49aa-aeff-42493e0167c3",
   "metadata": {},
   "source": [
    "# Lists"
   ]
  },
  {
   "cell_type": "markdown",
   "id": "2a6fb96c-8caa-4320-a360-6a308037f20f",
   "metadata": {},
   "source": [
    "## Python by Example by Nichola Lacey (71-79) and 2D lists (96-99)"
   ]
  },
  {
   "cell_type": "markdown",
   "id": "b28fa87f-d04e-45f8-ac97-db5933a234f9",
   "metadata": {},
   "source": [
    "* Notes"
   ]
  },
  {
   "cell_type": "code",
   "execution_count": null,
   "id": "cdfa539d-7ff9-441d-921c-f29c8af0c9e8",
   "metadata": {},
   "outputs": [],
   "source": [
    "# Tuples, lists, sets, and dictionaries: these are all ways that one item can hold several peices of seperate data."
   ]
  },
  {
   "cell_type": "code",
   "execution_count": null,
   "id": "51fb78a3-4278-4582-9454-1c656934fe75",
   "metadata": {},
   "outputs": [],
   "source": [
    "# Lists:\n",
    "# a) can be changed while the program is running\n",
    "# b) one of the most common ways to store data\n",
    "# c) does not have to be all the same data type but be careful as that may cause problems later on\n",
    "# d) each value is given an index or key you can define to help identify each peice of data\n",
    "# e) the positions of the items within the index will change and therefore their index number will also change\n",
    "# f) Square brackets define a list and therefore the contents can be altered while the program is running"
   ]
  },
  {
   "cell_type": "markdown",
   "id": "01eb75f4-a0f4-4123-bab1-c62617328589",
   "metadata": {},
   "source": [
    "* Sample Code"
   ]
  },
  {
   "cell_type": "code",
   "execution_count": null,
   "id": "ee05bfb3-64c7-4f23-b943-a813ea86280c",
   "metadata": {},
   "outputs": [],
   "source": [
    "# Sample list of string variables\n",
    "names = [\"John\", \"Tim\", \"Sam\"] # note square backets = list\n",
    "print(names)"
   ]
  },
  {
   "cell_type": "code",
   "execution_count": null,
   "id": "2602b046-1afd-42e6-b3b9-7d8b918755aa",
   "metadata": {},
   "outputs": [],
   "source": [
    "# Delete an item from a list\n",
    "names = [\"John\", \"Tim\", \"Sam\"] # note square backets = list\n",
    "del names[1]\n",
    "print(names)"
   ]
  },
  {
   "cell_type": "code",
   "execution_count": null,
   "id": "67cf89c1-665a-41d3-94a9-6a2947ab04ea",
   "metadata": {},
   "outputs": [],
   "source": [
    "# Add a name ot a list\n",
    "names = [\"John\", \"Tim\", \"Sam\"] # note square backets = list\n",
    "names.append(input(\"Add a name: \")) # ask user to enter a name and it will be appended to the end of the names list\n",
    "print(names)"
   ]
  },
  {
   "cell_type": "code",
   "execution_count": null,
   "id": "23dff90c-5271-4ed2-8954-f1a42e39f7c2",
   "metadata": {},
   "outputs": [],
   "source": [
    "# Sorting a list in alphabetical order\n",
    "names = [\"John\", \"Tim\", \"Sam\"] # note square backets = list\n",
    "names.sort() \n",
    "print(names)\n",
    "# Note: This function does not work if the data is different types"
   ]
  },
  {
   "cell_type": "code",
   "execution_count": null,
   "id": "0a6c6a31-844e-415b-b27e-28f985a9844b",
   "metadata": {},
   "outputs": [],
   "source": [
    "# Sample list of numeric variables\n",
    "x = [154, 634, 892, 345, 341, 43] # Note: no \"\" needed in numberic lists\n",
    "print(x)"
   ]
  },
  {
   "cell_type": "code",
   "execution_count": null,
   "id": "2697cb8a-4734-4796-adc1-bdbfb4d1be44",
   "metadata": {},
   "outputs": [],
   "source": [
    "# length of a list\n",
    "x = [154, 634, 892, 345, 341, 43] # Note: no \"\" needed in numberic lists\n",
    "print(len(x))"
   ]
  },
  {
   "cell_type": "code",
   "execution_count": null,
   "id": "2feceb32-88d2-4d91-8d0e-12f59115f5eb",
   "metadata": {},
   "outputs": [],
   "source": [
    "# Display data in certain positions of a list\n",
    "x = [154, 634, 892, 345, 341, 43] # Note:prints data in positions 1, 2, 3\n",
    "print(x[1:4])"
   ]
  },
  {
   "cell_type": "code",
   "execution_count": null,
   "id": "be8cb737-0422-4926-a28e-8e796c563c28",
   "metadata": {},
   "outputs": [],
   "source": [
    "# Using lists in a for loop\n",
    "x = [154, 634, 892, 345, 341, 43]\n",
    "for i in x:\n",
    "    print(i)"
   ]
  },
  {
   "cell_type": "code",
   "execution_count": null,
   "id": "3914a5c4-1ad2-412f-b608-569f3bd6f7a2",
   "metadata": {},
   "outputs": [],
   "source": [
    "# Asks user to enter a number and checks if the number is in the list\n",
    "x = [154, 634, 892, 345, 341, 43]\n",
    "num = int(input(\"Enter a number: \"))\n",
    "if num in x:\n",
    "    print(num, \"is in the list\")\n",
    "else:\n",
    "    print(\"Not in list\")"
   ]
  },
  {
   "cell_type": "code",
   "execution_count": null,
   "id": "720f909a-0521-4b31-831d-2a6e54f6e62a",
   "metadata": {},
   "outputs": [],
   "source": [
    "# Insert a number into a certain position in a list\n",
    "x = [154, 634, 892, 345, 341, 43]\n",
    "x.insert(2,240)\n",
    "print(x) # note that this pushes everything back to make space and changes the numbers of the items on the list"
   ]
  },
  {
   "cell_type": "code",
   "execution_count": null,
   "id": "a08d2394-329a-4315-ae7c-53f095cfa04e",
   "metadata": {},
   "outputs": [],
   "source": [
    "# Delete an item from a list\n",
    "x = [154, 634, 892, 345, 341, 43]\n",
    "x.remove(892) # use this if you do not know the index of that item.\n",
    "print(x) #Note: if there is more than one instance of that data point only the first instance will be removed"
   ]
  },
  {
   "cell_type": "code",
   "execution_count": null,
   "id": "5d6dce86-dd46-462c-9d0d-f2f492c746b0",
   "metadata": {},
   "outputs": [],
   "source": [
    "# Add a number to the end of a list\n",
    "x = [154, 634, 892, 345, 341, 43]\n",
    "x.append(993) # use this if you do not know the index of that item.\n",
    "print(x)"
   ]
  },
  {
   "cell_type": "markdown",
   "id": "74424e9b-8c8c-42a7-86ac-be0baa8cf640",
   "metadata": {},
   "source": [
    "* Coding Challenges"
   ]
  },
  {
   "cell_type": "code",
   "execution_count": null,
   "id": "209ac371-3a6e-4584-a96d-e38f9afad6e1",
   "metadata": {},
   "outputs": [],
   "source": [
    "#71: Create a list of two sports\n",
    "# Ask the user what their favorite sport is and add this to the end of the list\n",
    "# Sort he list and display it\n",
    "sports = [\"Tennis\", \"Golf\"]\n",
    "print(sports)\n",
    "sports.append(input(\"What is your favorite sport? \"))\n",
    "sports.sort()\n",
    "print(sports)"
   ]
  },
  {
   "cell_type": "code",
   "execution_count": null,
   "id": "1d496d56-23ae-477e-90fc-8be548b4fbbe",
   "metadata": {},
   "outputs": [],
   "source": [
    "#72: Create a list of 6 school subjects\n",
    "# Ask the user which of these subjects they do not like\n",
    "# Delete the subject they have chosen\n",
    "# Display the modified list\n",
    "subjects = [\"Math\", \"PE\", \"English\", \"French\", \"Social Studues\", \"Biology\"]\n",
    "subjects.remove(input(\"Which subject do you not like? \"))\n",
    "print(subjects)\n",
    "# Question: I originally tried the \"DEL\" function to remove. It did not work. How do I know if I should use del versus remove? Are you required to know the index number for del? Yes.\n",
    "# Answer: Del is by index and Remove is by value"
   ]
  },
  {
   "cell_type": "code",
   "execution_count": null,
   "id": "8a205488-a2a5-4665-8617-87abcddc08d4",
   "metadata": {},
   "outputs": [],
   "source": [
    "#74: Enter a list of 10 colors\n",
    "# Ask the user for a starting number between 0 and 4 and an ending number between 5 and 9\n",
    "# Display the list for those colors between the start and end numbers the user input. \n",
    "colors = [\"blue\", \"green\", \"red\", \"orange\", \"yellow\", \"black\", \"white\", \"grey\", \"brown\", \"silver\", \"gold\"]\n",
    "start = int(input(\"Choose a starting number: \"))\n",
    "end = int(input(\"Choose an ending number: \"))\n",
    "print(colors[start:end])"
   ]
  },
  {
   "cell_type": "code",
   "execution_count": null,
   "id": "ed609c41-2db0-4a81-9c44-20d38ef939f3",
   "metadata": {},
   "outputs": [],
   "source": [
    "# 75: Create a list of four three-digit numbers\n",
    "# Display the list to the user, showing each item in the list on a seperate line.\n",
    "# If the number they typed in matches one on the list, display the position of that number in the list, otherwise display the message \"That is not in the list.\"\n",
    "\n",
    "num = [345, 234, 123, 567] \n",
    "for i in num: # Note: use this to print items in the list on seperate lines\n",
    "    print(i)\n",
    "guess = int(input(\"Choose a number: \"))\n",
    "if guess in num:\n",
    "    print(guess, \"is the\", num.index(guess), \"in the list\") # Use the word index to display the numeric location of something in a list\n",
    "else:\n",
    "    print(\"That is not on the list\")"
   ]
  },
  {
   "cell_type": "code",
   "execution_count": null,
   "id": "b7c937f2-b74e-438e-88c3-5bff29f5077c",
   "metadata": {},
   "outputs": [],
   "source": [
    "# 76: Ask the user to enter the names of three people they want to invite to a party and store them in a list\n",
    "# After they have entered all 3 names ask them if they want to invite anyone else.\n",
    "# If yes, allow them to add more names\n",
    "# If no, display how many people they have invited to the party\n",
    "guests=[]\n",
    "for i in range (0,3):\n",
    "    guests.append(input(\"Who are you inviting to the party: \")) #The \"=\" in python defines a variable. Don't redefine guests. Just append or add to the arlready created list\n",
    "more = \"yes\"\n",
    "while more == \"yes\":\n",
    "    more = input(\"Do you want to invite anyone else? \")\n",
    "    if more == \"yes\":\n",
    "        guests.append(input(\"Add a name: \")) \n",
    "print(\"You have\", len(guests), \"people coming to your party.\")"
   ]
  },
  {
   "cell_type": "code",
   "execution_count": null,
   "id": "007c393e-2ac9-4ff6-8e02-f84f01d9535d",
   "metadata": {},
   "outputs": [],
   "source": [
    "# 77: Change program #76 so that once the user has completed their list of names, display the full list and ask them to type in one of the names on the list\n",
    "# Display the position of that name in the list. \n",
    "# Ask the user if they still want that person to come to the party. \n",
    "# If the answer is no, delete that entry from the list and display the list again.\n",
    "guests=[]\n",
    "for i in range (0,3):\n",
    "    guests.append(input(\"Who are you inviting to the party: \")) #The \"=\" in python defines a variable. Don't redefine guests. Just append or add to the arlready created list\n",
    "print(guests)\n",
    "selection = input(\"Type in one of the names from the list: \")\n",
    "print(selection, \"is in position\", guests.index(selection), \"on the list.\") # see error below. This is the same code as in the book\n",
    "invite = input(\"Do you still want them to come to the party?\")\n",
    "if invite == \"no\":\n",
    "    guests.remove(selection)\n",
    "else:\n",
    "    print(guests)"
   ]
  },
  {
   "cell_type": "code",
   "execution_count": null,
   "id": "16b85dcd-f541-4dcd-b883-9e64f4dd61fb",
   "metadata": {},
   "outputs": [],
   "source": [
    "#78: Create a list containing the title of four TV programmes and display them on seperate lines. \n",
    "# Ask the user to enter another show and a position they want it inserted into the list\n",
    "# Display the list again, showing all 5 TV programmes in their new positions.\n",
    "program = [\"Mash\", \"Dexter\", \"Homeland\", \"Goodies\"]\n",
    "for i in program: # prints on a new line AND i is the list names, program is the list\n",
    "    print(i)\n",
    "newshow = input(\"Enter another show: \")\n",
    "pos = int(input(\"Enter a position in which you want that show to be displayed within the list: \"))\n",
    "program.insert(pos, newshow)\n",
    "for i in program: \n",
    "    print(i)"
   ]
  },
  {
   "cell_type": "code",
   "execution_count": null,
   "id": "25b39ead-c941-45fb-b5cf-d0d37e26d081",
   "metadata": {},
   "outputs": [],
   "source": [
    "## 79: Create a list called \"nums\"\n",
    "# Ask the user to enter numbers. \n",
    "# After each number is entered, add it to the end of the list. Once they have entered 3 numbers, ask them if they still want the last number they have entered saved.\n",
    "# If they say no, remove the last item from the list. \n",
    "#Display the list of numbers.\n",
    "nums = []\n",
    "count = 0\n",
    "while count < 3:\n",
    "    select = int(input(\"Enter a number: \"))\n",
    "    nums.append(select)\n",
    "    count = count + 1\n",
    "print(nums)\n",
    "choice = input(\"Do you still want the last number you entered?\")\n",
    "if choice == \"no\":\n",
    "    nums.remove(select)\n",
    "print(nums)"
   ]
  },
  {
   "cell_type": "markdown",
   "id": "09b471fe-e0e5-473a-a657-29c824649f6d",
   "metadata": {},
   "source": [
    "# 2D Lists"
   ]
  },
  {
   "cell_type": "markdown",
   "id": "d204d257-cede-42ba-ae73-97684928b5e0",
   "metadata": {},
   "source": [
    "## Python by Example by Nichola Lacey (96-99)"
   ]
  },
  {
   "cell_type": "markdown",
   "id": "28825868-22fc-40f2-b34d-13dbce4efcbe",
   "metadata": {},
   "source": [
    "* Notes"
   ]
  },
  {
   "cell_type": "code",
   "execution_count": null,
   "id": "29fb162e-efd4-49af-8498-4b57626c6f4a",
   "metadata": {},
   "outputs": [],
   "source": [
    "# Creating 2 dimensional lists in Python is common. Here is how you do it:\n",
    "# A sample of a 2D list\n",
    "grades = [[45,37,54],[62,58,59],[49,47,60],[78,83,62]]\n",
    "print(grades[0][1]) # the first number is always the row. # the second number is the column\n",
    "# Lists have square brackets"
   ]
  },
  {
   "cell_type": "markdown",
   "id": "e316ef43-e09b-402e-a007-403631864580",
   "metadata": {},
   "source": [
    "* Code Samples"
   ]
  },
  {
   "cell_type": "code",
   "execution_count": null,
   "id": "1f468998-9d6f-4f78-b5be-f8b5318db274",
   "metadata": {},
   "outputs": [],
   "source": [
    "# Create a 2D list that uses standard Python indexing for the rows and columns\n",
    "simple_array = [[2,5,8],[3,7,4],[1,6,9]]\n",
    "print(simple_array)"
   ]
  },
  {
   "cell_type": "code",
   "execution_count": null,
   "id": "e9646c3f-6441-4bab-a417-5306b37c34b1",
   "metadata": {},
   "outputs": [],
   "source": [
    "# Create a 2D list that uses standard Python indexing for the rows and columns\n",
    "simple_array = [[2,5,8],[3,7,4],[1,6,9]]\n",
    "print(simple_array[1]) # Displays data from row 1"
   ]
  },
  {
   "cell_type": "code",
   "execution_count": null,
   "id": "c973c16f-fda6-4abf-8f03-2b6d70b65823",
   "metadata": {},
   "outputs": [],
   "source": [
    "# Create a 2D list that uses standard Python indexing for the rows and columns\n",
    "simple_array = [[2,5,8],[3,7,4],[1,6,9]]\n",
    "print(simple_array[1] [2]) # Displays data from row 1, column 2"
   ]
  },
  {
   "cell_type": "code",
   "execution_count": null,
   "id": "c9a04cfa-e849-4144-b6f1-2794e49fa426",
   "metadata": {},
   "outputs": [],
   "source": [
    "# Create a 2D list that uses standard Python indexing for the rows and columns\n",
    "simple_array = [[2,5,8],[3,7,4],[1,6,9]]\n",
    "simple_array [2][1] = 5 # changes the data in row 2, column 1 to the value of 5\n",
    "print(simple_array) "
   ]
  },
  {
   "cell_type": "code",
   "execution_count": null,
   "id": "6d658abd-2b34-4093-b26d-38b3b384a3f7",
   "metadata": {},
   "outputs": [],
   "source": [
    "# Create a 2D list that uses standard Python indexing for the rows and columns\n",
    "simple_array = [[2,5,8],[3,7,4],[1,6,9]]\n",
    "simple_array[1].append(3) # adds the value of 3 onto the end of the data in row 1\n",
    "print(simple_array) "
   ]
  },
  {
   "cell_type": "markdown",
   "id": "efb1348b-9b6a-45d9-9c39-9ae5933fc71a",
   "metadata": {},
   "source": [
    "* Coding Challenges"
   ]
  },
  {
   "cell_type": "code",
   "execution_count": null,
   "id": "e5df5dd1-40d2-4dc1-b405-118d38494f52",
   "metadata": {},
   "outputs": [],
   "source": [
    "#96: Create the a 2D list with 3 columns (0,1,2) and four rows (0,1,2,3)\n",
    "# Use standard Python indexing\n",
    "\n",
    "data = [[2,5,8],[3,7,4],[1,6,9],[4,2,0]]\n",
    "for i in data:\n",
    "    print(i) # i = row"
   ]
  },
  {
   "cell_type": "code",
   "execution_count": null,
   "id": "22dbb722-08b8-4820-90d3-f666ee0ea22d",
   "metadata": {},
   "outputs": [],
   "source": [
    "#97: Using the 2D list from program 96, ask the user to select a row and a column and display that value\n",
    "data = [[2,5,8],[3,7,4],[1,6,9],[4,2,0]]\n",
    "print(data)\n",
    "row = int(input(\"Choose a row: \"))\n",
    "col = int(input(\"Choose a column: \"))\n",
    "print(data[row] [col])"
   ]
  },
  {
   "cell_type": "code",
   "execution_count": null,
   "id": "802fcf65-359f-418b-962a-29cfd4cbbe89",
   "metadata": {},
   "outputs": [],
   "source": [
    "#98: Using the 2D list from program 96, ask the user which row they would like displayed and display that row.\n",
    "# Ask them to enter a new value and add it to the end of the row and display the row again\n",
    "data = [[2,5,8],[3,7,4],[1,6,9],[4,2,0]]\n",
    "print(data)\n",
    "row = int(input(\"Which row of data would you like to display? \"))\n",
    "print(data[row])\n",
    "new = int(input(\"What new data point do you want to add to this row? \"))\n",
    "data[row].append(new)\n",
    "print(data[row])"
   ]
  },
  {
   "cell_type": "code",
   "execution_count": null,
   "id": "093a6c32-cbb3-423c-a78c-e1829b3bf2c5",
   "metadata": {},
   "outputs": [],
   "source": [
    "#99: Change the previous program to ask the user which row they want displayed. Display that row.\n",
    "# Ask which column in that row they want displayed and display the value that is held there.\n",
    "# Ask the user if they want to change the value. If they do, ask for a new value and change the data.\n",
    "# Finally display the whole row again. \n",
    "data = [[2,5,8],[3,7,4],[1,6,9],[4,2,0]]\n",
    "print(data)\n",
    "row = int(input(\"Which row of data would you like to display? \"))\n",
    "print(data[row])\n",
    "col = int(input(\"Which column would you like to display? \"))\n",
    "print(data[row] [col]) \n",
    "change = input(\"Would you like to change the value? yes/no\")\n",
    "if change == \"yes\":\n",
    "    new_num = int(input(\"Enter a new number: \"))\n",
    "    data[row] [col] = new_num\n",
    "    print(data[row])\n",
    "else:\n",
    "    print(data[row])"
   ]
  }
 ],
 "metadata": {
  "kernelspec": {
   "display_name": "Python 3 (ipykernel)",
   "language": "python",
   "name": "python3"
  },
  "language_info": {
   "codemirror_mode": {
    "name": "ipython",
    "version": 3
   },
   "file_extension": ".py",
   "mimetype": "text/x-python",
   "name": "python",
   "nbconvert_exporter": "python",
   "pygments_lexer": "ipython3",
   "version": "3.8.12"
  }
 },
 "nbformat": 4,
 "nbformat_minor": 5
}
