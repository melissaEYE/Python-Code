{
 "cells": [
  {
   "cell_type": "markdown",
   "id": "707feee3-32f0-466c-b37c-e1ea5d0344af",
   "metadata": {},
   "source": [
    "# Strings"
   ]
  },
  {
   "cell_type": "markdown",
   "id": "f138c9bc-3e76-4be0-89d6-133b89bec39d",
   "metadata": {},
   "source": [
    "## Python by Example by Nichola Lacey (20-26, 80-87)"
   ]
  },
  {
   "cell_type": "markdown",
   "id": "dcf3ceac-3b5e-4443-a651-69446b502157",
   "metadata": {},
   "source": [
    "* Notes"
   ]
  },
  {
   "cell_type": "code",
   "execution_count": null,
   "id": "ba41f3ff-8589-4e74-b7e3-ccd6abff926c",
   "metadata": {},
   "outputs": [],
   "source": [
    "# String is a technical name for text.\n",
    "# To define a block of code as a string, you need to include it in double quotes (\") \n",
    "# Be aware that there are some characters you need to be particularly careful with when inputting them into strings because they have special meaning in Python.\n",
    "# Special characters include: \" ' \\. Using these in a Python string can cause confusion for the program.\n",
    "# Therefore, if you want to use one of these symbols you need to precede it with a backslash (\\) symbol and then Python will know to ignore the symbol and treat it as text\n",
    "# Symbol: \" How to type this into a Python string: \\\"\n",
    "# Symbol: ' How to type this into a Python string: \\'\n",
    "# Symbol: \\ How to type this into a Python string: \\\\"
   ]
  },
  {
   "cell_type": "code",
   "execution_count": 1,
   "id": "e93cc3ee-ac34-42bd-b2e7-aef6a838419c",
   "metadata": {},
   "outputs": [
    {
     "name": "stdin",
     "output_type": "stream",
     "text": [
      "Enter a number:  10\n"
     ]
    },
    {
     "ename": "TypeError",
     "evalue": "can only concatenate str (not \"int\") to str",
     "output_type": "error",
     "traceback": [
      "\u001b[0;31m---------------------------------------------------------------------------\u001b[0m",
      "\u001b[0;31mTypeError\u001b[0m                                 Traceback (most recent call last)",
      "\u001b[0;32m/tmp/ipykernel_6555/3005566098.py\u001b[0m in \u001b[0;36m<module>\u001b[0;34m\u001b[0m\n\u001b[1;32m      4\u001b[0m \u001b[0;34m\u001b[0m\u001b[0m\n\u001b[1;32m      5\u001b[0m \u001b[0mnum\u001b[0m \u001b[0;34m=\u001b[0m \u001b[0minput\u001b[0m\u001b[0;34m(\u001b[0m\u001b[0;34m\"Enter a number: \"\u001b[0m\u001b[0;34m)\u001b[0m \u001b[0;31m# string\u001b[0m\u001b[0;34m\u001b[0m\u001b[0;34m\u001b[0m\u001b[0m\n\u001b[0;32m----> 6\u001b[0;31m \u001b[0mtotal\u001b[0m \u001b[0;34m=\u001b[0m \u001b[0mnum\u001b[0m \u001b[0;34m+\u001b[0m \u001b[0;36m10\u001b[0m \u001b[0;31m# converting the string value to a numeric value\u001b[0m\u001b[0;34m\u001b[0m\u001b[0;34m\u001b[0m\u001b[0m\n\u001b[0m\u001b[1;32m      7\u001b[0m \u001b[0mprint\u001b[0m\u001b[0;34m(\u001b[0m\u001b[0mtotal\u001b[0m\u001b[0;34m)\u001b[0m\u001b[0;34m\u001b[0m\u001b[0;34m\u001b[0m\u001b[0m\n",
      "\u001b[0;31mTypeError\u001b[0m: can only concatenate str (not \"int\") to str"
     ]
    }
   ],
   "source": [
    "# Strings & Numbers as variables:\n",
    "# If you define a variable as a string, even if it only contains numbers, you cannot later use that string as part of a calculation\n",
    "# Instead, if you want to use a variable that has been definied as a string in a calculation, you will have to convert teh string to a number before it can be used:\n",
    "\n",
    "num = input(\"Enter a number: \") # string\n",
    "total = num + 10 \n",
    "print(total)\n",
    "\n",
    "# This will produce an error: TypeError: can only concatenate str (not \"int\") to str\n",
    "# This error simply means that the line total = num + 10 isn't working becuase teh variable num is defined as a string."
   ]
  },
  {
   "cell_type": "code",
   "execution_count": null,
   "id": "b0d61859-98f8-431b-9ce3-3061633d1cd4",
   "metadata": {},
   "outputs": [],
   "source": [
    "# To fix the error above there are two options:\n",
    "\n",
    "# 1) you can define num as a number when you originally create it:\n",
    "num = int(input(\"Enter a number: \"))\n",
    "\n",
    "# 2) convert it to a number after it has been created using the following code:\n",
    "num = int(num)"
   ]
  },
  {
   "cell_type": "code",
   "execution_count": null,
   "id": "592c46be-2899-4c20-9f3c-be812511bcfe",
   "metadata": {},
   "outputs": [],
   "source": [
    "# The same error can occur if you define a variable as a number and then try to add a string to it. \n",
    "\n",
    "# To solve this you have two options:\n",
    "\n",
    "# 1) Don't define the variable as a number or;\n",
    "num = input(\"Enter a number: \")\n",
    "\n",
    "# 2) convert the number to a string afterwards using the following code:\n",
    "num = str(num)"
   ]
  },
  {
   "cell_type": "code",
   "execution_count": null,
   "id": "42222d46-c8b9-407f-b72b-04ae2688cae5",
   "metadata": {},
   "outputs": [],
   "source": [
    "# Multiple-line strings\n",
    "\n",
    "# If you want to input a string across multiple line you can either:\n",
    "\n",
    "# 1) use the following code that will add a line break\n",
    "\\n\n",
    "\n",
    "# 2) Enclose the entire thing in tripple quotes:\n",
    "address = \"\"\"123 long street\"\"\""
   ]
  },
  {
   "cell_type": "markdown",
   "id": "b778d38b-ec4e-4e5d-a226-4711b6d71e7e",
   "metadata": {},
   "source": [
    "* Sample Code"
   ]
  },
  {
   "cell_type": "code",
   "execution_count": 3,
   "id": "f1e194cd-91a1-4742-b66e-fdafdeb1ddd4",
   "metadata": {},
   "outputs": [
    {
     "name": "stdin",
     "output_type": "stream",
     "text": [
      "Enter a word:  lottery\n"
     ]
    },
    {
     "data": {
      "text/plain": [
       "7"
      ]
     },
     "execution_count": 3,
     "metadata": {},
     "output_type": "execute_result"
    }
   ],
   "source": [
    "# To find the length of a variable called \"word\"\n",
    "word = input(\"Enter a word: \")\n",
    "len(word)"
   ]
  },
  {
   "cell_type": "code",
   "execution_count": 4,
   "id": "502063b2-4c73-41f7-b24b-b3d2057c63ae",
   "metadata": {},
   "outputs": [
    {
     "name": "stdin",
     "output_type": "stream",
     "text": [
      "Enter a word:  enter a word\n"
     ]
    },
    {
     "name": "stdout",
     "output_type": "stream",
     "text": [
      "Enter a word\n"
     ]
    }
   ],
   "source": [
    "# Displays the variable so only the first word has a capital letter at the beginning and everything else is lower case\n",
    "word = input(\"Enter a word: \")\n",
    "print(word.capitalize())"
   ]
  },
  {
   "cell_type": "code",
   "execution_count": 5,
   "id": "ee99fc34-2a79-4e09-92c1-5c3faea11474",
   "metadata": {},
   "outputs": [
    {
     "name": "stdin",
     "output_type": "stream",
     "text": [
      "Enter a word:  enter a word\n"
     ]
    },
    {
     "name": "stdout",
     "output_type": "stream",
     "text": [
      "ENTER A WORD\n"
     ]
    }
   ],
   "source": [
    "# Changes the string into upper case\n",
    "word = input(\"Enter a word: \")\n",
    "print(word.upper())"
   ]
  },
  {
   "cell_type": "code",
   "execution_count": 6,
   "id": "a4f408de-5ed9-4e3c-b953-c77c9a9d6008",
   "metadata": {},
   "outputs": [
    {
     "name": "stdin",
     "output_type": "stream",
     "text": [
      "Enter a word:  LOWER\n"
     ]
    },
    {
     "name": "stdout",
     "output_type": "stream",
     "text": [
      "lower\n"
     ]
    }
   ],
   "source": [
    "# Changes the string into lower case\n",
    "word = input(\"Enter a word: \")\n",
    "print(word.lower())"
   ]
  },
  {
   "cell_type": "code",
   "execution_count": 7,
   "id": "e7c2348e-bcbd-4f9f-92da-d7f25832c84f",
   "metadata": {},
   "outputs": [
    {
     "name": "stdin",
     "output_type": "stream",
     "text": [
      "Enter a phrase:  enter a phrase\n"
     ]
    },
    {
     "name": "stdout",
     "output_type": "stream",
     "text": [
      "Enter A Phrase\n"
     ]
    }
   ],
   "source": [
    "# Changes a phrase so that every word has a capital letter at the beginning with the rest of the letters in lower case\n",
    "phrase = input(\"Enter a phrase: \")\n",
    "print(phrase.title())"
   ]
  },
  {
   "cell_type": "code",
   "execution_count": 8,
   "id": "e156e75e-49b0-4b24-abdc-26e142bfbe45",
   "metadata": {},
   "outputs": [
    {
     "name": "stdin",
     "output_type": "stream",
     "text": [
      "Enter a first name:  Melissa\n",
      "Enter a last name:  Hunfalvay\n"
     ]
    },
    {
     "name": "stdout",
     "output_type": "stream",
     "text": [
      "MelissaHunfalvay\n"
     ]
    }
   ],
   "source": [
    "# Joins the first and last name together without a space.This is known as CONCATENATION.\n",
    "firstname = input(\"Enter a first name: \")\n",
    "lastname = input(\"Enter a last name: \")\n",
    "name = firstname+lastname\n",
    "print(name)"
   ]
  },
  {
   "cell_type": "code",
   "execution_count": 9,
   "id": "26e756c1-e66f-47ad-bd0b-e11c3886ae50",
   "metadata": {},
   "outputs": [
    {
     "name": "stdout",
     "output_type": "stream",
     "text": [
      "This is some text.\n"
     ]
    }
   ],
   "source": [
    "# Removes extra characters (in this case the spaces) from teh start and end of the string\n",
    "text = \" This is some text. \"\n",
    "print(text.strip(\" \"))"
   ]
  },
  {
   "cell_type": "code",
   "execution_count": 10,
   "id": "d3f3752c-2be4-413a-93a7-f02b0846378a",
   "metadata": {},
   "outputs": [
    {
     "name": "stdout",
     "output_type": "stream",
     "text": [
      "orl\n"
     ]
    }
   ],
   "source": [
    "# Within a string, each letter is assigned an index number. For example the word \"Hello\" H = 0, e = 1, l = 2 and so on\n",
    "# Python starts counting at zero.\n",
    "# The index number is used to identify the position of the character in the phrase.\n",
    "print (\"Hello world\"[7:10])"
   ]
  },
  {
   "cell_type": "markdown",
   "id": "0d466fb3-dd6b-4696-804a-7f33dc5a7637",
   "metadata": {},
   "source": [
    "* Coding Challenges"
   ]
  },
  {
   "cell_type": "code",
   "execution_count": null,
   "id": "e429eea8-876c-4449-8e46-f6737e7011d2",
   "metadata": {},
   "outputs": [],
   "source": [
    "#20: As the user to enter their first name and then display the length of their name\n",
    "name = input(\"Enter your first name: \")\n",
    "print(\"Your name has\", len(name), \"characters.\")"
   ]
  },
  {
   "cell_type": "code",
   "execution_count": null,
   "id": "de6d8c3b-840f-4647-aab1-b4624d29807c",
   "metadata": {},
   "outputs": [],
   "source": [
    "#21: As the user to enter their first name, then last name \n",
    "# Join them together with a space between and display the name and the length of whole name\n",
    "first = input(\"Enter your first name: \")\n",
    "last = input(\"Enter your last name: \")\n",
    "print(first + \" \" + last)\n",
    "print(len(first+last))"
   ]
  },
  {
   "cell_type": "code",
   "execution_count": null,
   "id": "e3424bfd-8836-4ea7-bec8-128b007f13a5",
   "metadata": {},
   "outputs": [],
   "source": [
    "#22: Ask the user to enter their first and last name in lower case.\n",
    "# Change the case to title case and join together.\n",
    "# Display the finished result\n",
    "first = input(\"Enter your first name in lower case letters\")\n",
    "last = input(\"Enter your last name in lower case letters.\")\n",
    "first = first.title()\n",
    "last = last.title()\n",
    "name = (first + \" \" + last)\n",
    "print(name)"
   ]
  },
  {
   "cell_type": "code",
   "execution_count": null,
   "id": "2f62c63e-3724-4095-959e-0f55a0a6c6d0",
   "metadata": {},
   "outputs": [],
   "source": [
    "#23: Type in first line of any nursery rhyme and display the length of that string\n",
    "# Ask for a starting number and an ending number and display just that section of the text\n",
    "# Remember Python starts counting from zero\n",
    "rhyme = input(\"Enter the first line of a nursery rhyme: \")\n",
    "start = int(input(\"Enter a starting number: \"))\n",
    "end = int(input(\"Enter an ending number: \"))\n",
    "print(rhyme[start:end])"
   ]
  },
  {
   "cell_type": "code",
   "execution_count": null,
   "id": "a42cab32-6152-4be5-9c5d-89cbc55bc2ce",
   "metadata": {},
   "outputs": [],
   "source": [
    "#24: Ask the user to type in any word and display it in upper case\n",
    "word = input(\"Type in a word: \")\n",
    "print(word.upper())"
   ]
  },
  {
   "cell_type": "code",
   "execution_count": null,
   "id": "53062f14-1bdd-467e-85fe-8edbe2654219",
   "metadata": {},
   "outputs": [],
   "source": [
    "#25: Ask user to enter their first name\n",
    "# If the length of the first name is under 5 characters, ask them to enter their surname and join them together without a space, display the name in upper case\n",
    "# if the length of the first name is 5 or greater, display their first name in lower case.\n",
    "first = input(\"Enter your first name: \")\n",
    "if len(first) < 5:\n",
    "    last = input(\"Enter your last name: \")\n",
    "    print(first+last.upper())\n",
    "else:\n",
    "    print(first.lower())"
   ]
  },
  {
   "cell_type": "code",
   "execution_count": null,
   "id": "e5ad2d00-5ba7-4218-a4ba-afb7148efa4a",
   "metadata": {},
   "outputs": [],
   "source": [
    "#26: Pig Latin take the first consonant of a word and moves it to the end of the work and adds on an \"ay\" e.g. pig = igpay \n",
    "# If the word begin in a vowel you just add \"way\" to the end e.g. aadvark = addvarkway\n",
    "# Create a program to ask the user to enter a word and change it to Pig Latin\n",
    "# Make sure the new word is displayed in lower case\n",
    "word = input(\"Enter a word: \")\n",
    "first = (word[0])\n",
    "length = len(word)\n",
    "rest = word[1:length]\n",
    "if first != \"a\" or word != \"e\" or word != \"i\" or word != \"o\" or word != \"u\":\n",
    "    newword = rest + first + \"ay\"\n",
    "else:\n",
    "    newword = word + \"way\"\n",
    "print(newword.lower())"
   ]
  },
  {
   "cell_type": "markdown",
   "id": "59c641cf-7027-4d85-aa84-1e8a558d2a0c",
   "metadata": {},
   "source": [
    "# String Manipulation"
   ]
  },
  {
   "cell_type": "markdown",
   "id": "42c45314-fe3f-48d4-bb38-44603ed72ded",
   "metadata": {},
   "source": [
    "* Notes"
   ]
  },
  {
   "cell_type": "raw",
   "id": "6bae1768-3be3-4707-97af-fcff05544e2e",
   "metadata": {},
   "source": [
    "# A string is the technical name for a group of characters that you do not need to perform calculations with. \n",
    "# Strings can be divided into a sequence of characters. E.g. Simon = s = 0, i = 1, m = 2 etc. \n",
    "# Note that in python you start indexing from 0\n",
    "# A space in a string is also indexed"
   ]
  },
  {
   "cell_type": "markdown",
   "id": "f0131a07-5b48-4863-af27-65368e333dd7",
   "metadata": {},
   "source": [
    "* Sample Code"
   ]
  },
  {
   "cell_type": "code",
   "execution_count": null,
   "id": "6069a4eb-191b-4ea4-ba4c-89d12e87e1c3",
   "metadata": {},
   "outputs": [],
   "source": [
    "# Upper case\n",
    "msg = \"HELLO\"\n",
    "if msg.isupper():\n",
    "    print(\"Uppercase\")\n",
    "else:\n",
    "    print(\"This is not in uppercase.\")"
   ]
  },
  {
   "cell_type": "code",
   "execution_count": null,
   "id": "66a8fbc4-b556-4166-a846-3b9d5afe8339",
   "metadata": {},
   "outputs": [],
   "source": [
    "# Lower case\n",
    "msg = \"hello\"\n",
    "if msg.islower():\n",
    "    print(\"Lower case\")\n",
    "else:\n",
    "    print(\"This is not in uppercase.\")"
   ]
  },
  {
   "cell_type": "code",
   "execution_count": null,
   "id": "b7867649-86d1-4ae9-a230-4fe1815201c3",
   "metadata": {},
   "outputs": [],
   "source": [
    "#Displays a message with a * between each character\n",
    "msg = \"Hello\"\n",
    "for letter in msg:\n",
    "    print(letter, end=\"*\")"
   ]
  },
  {
   "cell_type": "markdown",
   "id": "ffb258b3-5243-4d5f-93f4-679c66106165",
   "metadata": {},
   "source": [
    "* Coding Challenges"
   ]
  },
  {
   "cell_type": "code",
   "execution_count": null,
   "id": "86ef46be-3ca0-4161-b34d-9ceb72b2a6f8",
   "metadata": {},
   "outputs": [],
   "source": [
    "#80: Ask the user to enter their first name and then display the length of their first name\n",
    "# Then ask for their surname and display the length of their surname. \n",
    "# Join their first name and surname together with a space between and display the result\n",
    "# Finally, display the length of their full name (including the space)\n",
    "first = input(\"Enter your first name: \")\n",
    "print(len(first))\n",
    "last = input(\"Enter your last name: \")\n",
    "print(len(last))\n",
    "print(first, \" \", last)\n",
    "print(len(first + last))"
   ]
  },
  {
   "cell_type": "code",
   "execution_count": null,
   "id": "c40b2740-f22a-488b-a625-d12bab2fcaf4",
   "metadata": {},
   "outputs": [],
   "source": [
    "#81: Ask the user to type in their favorite school subject\n",
    "# Display it with \"-\" after each letter, e.g. S-p-a-n-i-s-h\n",
    "sub = input(\"enter your favorite school subject: \")\n",
    "for letter in sub:\n",
    "    print(letter, end=\"-\")"
   ]
  },
  {
   "cell_type": "code",
   "execution_count": null,
   "id": "769644c1-ddb6-46ce-a575-bfda0dbb9738",
   "metadata": {},
   "outputs": [],
   "source": [
    "#82: Show the user a line of text from your favorite poem and ask for a starting and ending point.\n",
    "# Display the characters between those two points\n",
    "poem = \"Mary, Mary, Quite Contrary\"\n",
    "print(poem)\n",
    "start = int(input(\"Enter a starting point: \"))\n",
    "end = int(input(\"Enter an ending point: \"))\n",
    "print(poem[start:end])"
   ]
  },
  {
   "cell_type": "code",
   "execution_count": null,
   "id": "7a6b0598-6030-4f35-956f-3da958a53183",
   "metadata": {},
   "outputs": [],
   "source": [
    "#83: Ask the user to type in a word in upper case. \n",
    "#If they type it in lower case, ask them to try again.\n",
    "# Keep repeating this until they type in a message all in uppercase\n",
    "word = input(\"Type in any word in upper case: \")\n",
    "if word.islower():\n",
    "    print(\"Try again.\")\n",
    "else:\n",
    "    print(word)"
   ]
  },
  {
   "cell_type": "code",
   "execution_count": null,
   "id": "7e44daa9-28f6-45ee-83b8-069924f04a70",
   "metadata": {},
   "outputs": [],
   "source": [
    "#84: Ask the user to type in their postcode - british SW1A 1AA\n",
    "#Display the first two letters in uppercase\n",
    "post = input(\"Type your british postcode: \")\n",
    "start = post[0:2]\n",
    "print(start.upper())"
   ]
  },
  {
   "cell_type": "code",
   "execution_count": null,
   "id": "b28879cd-9cfa-4a15-a93b-e8b4877b76de",
   "metadata": {},
   "outputs": [],
   "source": [
    "#85: My code: Ask the user to type in their name and then tell them how many vowels are in their name\n",
    "name = input(\"Enter your name: \")\n",
    "name = name.lower()\n",
    "count = 0\n",
    "for x in name: # This will iterate character-by-character\n",
    "    if x == \"a\" or x == \"e\" or x == \"i\" or x == \"o\" or x == \"u\":\n",
    "        count = count + 1\n",
    "print(count)"
   ]
  },
  {
   "cell_type": "code",
   "execution_count": null,
   "id": "00a90939-978a-4a6c-a777-6e11bd47f878",
   "metadata": {},
   "outputs": [],
   "source": [
    "#86: Ask the user to enter a new password\n",
    "# Ask the user to enter it again\n",
    "# If the two passwords match say \"Thank you.\"\n",
    "# If the letters are correct but in the wrong case, display the message, \"They must be in the same case\"\n",
    "# Otherwise display the message \"incorrect\"\n",
    "\n",
    "pw = input(\"Enter a new password: \")\n",
    "again = input(\"Enter the password a second time: \")\n",
    "if pw == again:\n",
    "    print(\"Thank you.\")\n",
    "elif pw.isupper() == again.islower() or pw.islower() == again.isupper():\n",
    "    print(\"They must be in the same case\")\n",
    "else:\n",
    "    print(\"Incorrect\")"
   ]
  },
  {
   "cell_type": "code",
   "execution_count": null,
   "id": "52cd1369-51a9-49e1-9ce5-d3f0ca4fa0bf",
   "metadata": {},
   "outputs": [],
   "source": [
    "#87: Ask the user to type in a word and then display it backwards on seperate lines. For instance, if they type \"hello\" it should display\n",
    "# o\n",
    "# l\n",
    "# l\n",
    "# e\n",
    "# H\n",
    "\n",
    "word = input(\"Type a word: \")\n",
    "for i in word[::-1]: # To make it go in reverse you need to add it to the word here. \n",
    "    print(i)"
   ]
  },
  {
   "cell_type": "code",
   "execution_count": null,
   "id": "a9708732-803f-46dd-9b8a-9e372098a751",
   "metadata": {},
   "outputs": [],
   "source": [
    "# 87: W3 Schools: reverse text another option...\n",
    "txt = \"Hello World\"[::-1]\n",
    "print(txt)"
   ]
  }
 ],
 "metadata": {
  "kernelspec": {
   "display_name": "Python 3 (ipykernel)",
   "language": "python",
   "name": "python3"
  },
  "language_info": {
   "codemirror_mode": {
    "name": "ipython",
    "version": 3
   },
   "file_extension": ".py",
   "mimetype": "text/x-python",
   "name": "python",
   "nbconvert_exporter": "python",
   "pygments_lexer": "ipython3",
   "version": "3.8.12"
  }
 },
 "nbformat": 4,
 "nbformat_minor": 5
}
