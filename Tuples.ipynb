{
 "cells": [
  {
   "cell_type": "markdown",
   "id": "52423f2f-8fbd-46fd-aa15-5fa1d165d9a8",
   "metadata": {},
   "source": [
    "# Tuples"
   ]
  },
  {
   "cell_type": "markdown",
   "id": "7f817325-a9bf-4067-ac44-d42b97e85f72",
   "metadata": {},
   "source": [
    "## Python by Example by Nichola Lacey (69-70)"
   ]
  },
  {
   "cell_type": "markdown",
   "id": "9f1c5fff-10f9-4dfb-9a0a-2dfaed0fe955",
   "metadata": {},
   "source": [
    "* Notes"
   ]
  },
  {
   "cell_type": "code",
   "execution_count": null,
   "id": "b2792f33-d44c-4740-bc6c-134da9f53404",
   "metadata": {},
   "outputs": [],
   "source": [
    "# Tuples, lists, set, and dictionaries: these are all ways that one item can hold several peices of seperate data.\n",
    "# A tuple is a data structure that stores an ordered sequences of values. "
   ]
  },
  {
   "cell_type": "code",
   "execution_count": null,
   "id": "c360fb00-bd5a-48ae-898f-12c981d18b05",
   "metadata": {},
   "outputs": [],
   "source": [
    "# Tuples: \n",
    "# a) are immutable, this means you cannot change what is stored in them while the program is running\n",
    "# b) round brackets () define the group as a tuple"
   ]
  },
  {
   "cell_type": "markdown",
   "id": "f73207a8-977b-4866-801f-0f918fed12cd",
   "metadata": {},
   "source": [
    "* Sample Code"
   ]
  },
  {
   "cell_type": "code",
   "execution_count": null,
   "id": "c85eebcc-80aa-4635-85e9-589b8fb55a0e",
   "metadata": {},
   "outputs": [],
   "source": [
    "# Sample Tuple\n",
    "fruit = (\"apple\", \"strawberry\", \"orange\") # Note: round brackets = tuple\n",
    "print(fruit)"
   ]
  },
  {
   "cell_type": "code",
   "execution_count": null,
   "id": "904ca000-8fed-446d-abd5-c673d13fa9cd",
   "metadata": {},
   "outputs": [],
   "source": [
    "# Sample index within a tuple\n",
    "# Remember Python starts counting from 0\n",
    "fruit = (\"apple\", \"strawberry\", \"orange\")\n",
    "print(fruit.index(\"strawberry\"))"
   ]
  },
  {
   "cell_type": "code",
   "execution_count": null,
   "id": "48968e7c-763b-401d-a4a5-113dfb9c8ce8",
   "metadata": {},
   "outputs": [],
   "source": [
    "# Displays the second item from the tuple\n",
    "fruit = (\"apple\", \"strawberry\", \"orange\")\n",
    "print(fruit[2])"
   ]
  },
  {
   "cell_type": "markdown",
   "id": "2b00592c-fcf9-4cf3-b152-bcd0700fab95",
   "metadata": {},
   "source": [
    "* Coding Challenges"
   ]
  },
  {
   "cell_type": "code",
   "execution_count": null,
   "id": "952b9790-9e69-4b98-a43a-d4d9ea390b3b",
   "metadata": {},
   "outputs": [],
   "source": [
    "#69: Create a tuple containing the name of 5 countries and display the whole tuple.\n",
    "# Ask the user to enter one of the countries that have been shown to them\n",
    "# Display the index number (i.e. the position of the list) of that item in the tuple\n",
    "countries = (\"Australia\", \"Austria\", \"Albania\", \"USA\", \"Hungary\")\n",
    "print(countries)\n",
    "choice = input(\"Choose a country: \")\n",
    "print(\"The country you chose is\", (countries.index(choice)), \"in the list.\")\n",
    "#print(countries.index(choice)) # This also works"
   ]
  },
  {
   "cell_type": "code",
   "execution_count": null,
   "id": "8851b275-ed89-4c59-b16c-bbad892a7a27",
   "metadata": {},
   "outputs": [],
   "source": [
    "# 70: Add to program 69 and ask the user to enter a number and display the country in that position\n",
    "countries = (\"Australia\", \"Austria\", \"Albania\", \"USA\", \"Hungary\")\n",
    "print(countries)\n",
    "choice = int(input(\"Choose a number between 0 and 4: \"))\n",
    "print(\"The country you chose is number\", (countries[choice]), \"in the list.\")\n",
    "#print(countries[choice])"
   ]
  }
 ],
 "metadata": {
  "kernelspec": {
   "display_name": "Python 3 (ipykernel)",
   "language": "python",
   "name": "python3"
  },
  "language_info": {
   "codemirror_mode": {
    "name": "ipython",
    "version": 3
   },
   "file_extension": ".py",
   "mimetype": "text/x-python",
   "name": "python",
   "nbconvert_exporter": "python",
   "pygments_lexer": "ipython3",
   "version": "3.8.12"
  }
 },
 "nbformat": 4,
 "nbformat_minor": 5
}
