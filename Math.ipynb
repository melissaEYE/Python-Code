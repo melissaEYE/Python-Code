{
 "cells": [
  {
   "cell_type": "markdown",
   "id": "2382f966-0562-4502-9384-c1d450ddbd24",
   "metadata": {},
   "source": [
    "# Math"
   ]
  },
  {
   "cell_type": "markdown",
   "id": "7f67e878-f7a8-48a2-9884-507d7190fa15",
   "metadata": {},
   "source": [
    "## Python by Example by Nichola Lacey (27-34)"
   ]
  },
  {
   "cell_type": "markdown",
   "id": "2247ef26-49d4-4e84-bbf1-3dc78940579c",
   "metadata": {},
   "source": [
    "* Notes"
   ]
  },
  {
   "cell_type": "code",
   "execution_count": null,
   "id": "114c8165-f2a4-40f7-b235-5f4d0aecabce",
   "metadata": {},
   "outputs": [],
   "source": [
    "# Python can perform several mathematical functions, but only when the data us treated as an integer (a whol number) or a floating point (a number with a decimal place).\n",
    "# If data is stored as a string, even if it only contains numeric characters, Python cannot perform the calculations.\n",
    "# See the strings code on how to change a string to a number in oder to do calculations"
   ]
  },
  {
   "cell_type": "code",
   "execution_count": null,
   "id": "2e256440-bd03-4292-bbed-16b14ed5abc8",
   "metadata": {},
   "outputs": [],
   "source": [
    "# In order to do some mathematical calculations you need to import math as the first line of code.\n",
    "# These calculations include math.pi and math.sqrt(num)\n",
    "# To read more on the import math function go here: https://swcarpentry.github.io/python-novice-gapminder/06-libraries/index.html "
   ]
  },
  {
   "cell_type": "markdown",
   "id": "3df2bf60-36dc-4b73-91a0-b016c19b2a98",
   "metadata": {},
   "source": [
    "* Code Samples"
   ]
  },
  {
   "cell_type": "code",
   "execution_count": 2,
   "id": "f52e5598-2f5f-4415-b2a6-75e5cb3c7754",
   "metadata": {},
   "outputs": [
    {
     "name": "stdout",
     "output_type": "stream",
     "text": [
      "10.68\n"
     ]
    }
   ],
   "source": [
    "# Displays a number rounded to 2 decimal places\n",
    "num = 10.678\n",
    "print(round(num, 2))"
   ]
  },
  {
   "cell_type": "code",
   "execution_count": 3,
   "id": "745f4652-1e81-47e0-84cb-da7597004f40",
   "metadata": {},
   "outputs": [
    {
     "data": {
      "text/plain": [
       "100"
      ]
     },
     "execution_count": 3,
     "metadata": {},
     "output_type": "execute_result"
    }
   ],
   "source": [
    "# ** is used to get the \"power\" of a number\n",
    "10**2"
   ]
  },
  {
   "cell_type": "code",
   "execution_count": 4,
   "id": "2cea892e-ce73-46ef-b34c-a786747abc6a",
   "metadata": {},
   "outputs": [
    {
     "data": {
      "text/plain": [
       "5.0"
      ]
     },
     "execution_count": 4,
     "metadata": {},
     "output_type": "execute_result"
    }
   ],
   "source": [
    "# The square root of a number \n",
    "# Remember: you must import math to use this function\n",
    "\n",
    "import math\n",
    "math.sqrt(25)"
   ]
  },
  {
   "cell_type": "code",
   "execution_count": 6,
   "id": "4c16a342-4e2c-4ed4-9ab1-01d54044f051",
   "metadata": {},
   "outputs": [
    {
     "name": "stdin",
     "output_type": "stream",
     "text": [
      "Enter a number:  20.0\n"
     ]
    }
   ],
   "source": [
    "# Allows numbers with a decimal point dividing the integer and fraction part\n",
    "num = float(input(\"Enter a number: \"))"
   ]
  },
  {
   "cell_type": "code",
   "execution_count": 8,
   "id": "20a9284b-65bf-4213-8bf2-bfcde138d832",
   "metadata": {},
   "outputs": [
    {
     "data": {
      "text/plain": [
       "3.141592653589793"
      ]
     },
     "execution_count": 8,
     "metadata": {},
     "output_type": "execute_result"
    }
   ],
   "source": [
    "# Gives you Pi (3.14) to 15 decimal places.\n",
    "# Remember you need to import math at the beginning of your program for this to work\n",
    "\n",
    "import math\n",
    "math.pi"
   ]
  },
  {
   "cell_type": "code",
   "execution_count": 9,
   "id": "2bcc55ab-d660-4073-bcc7-50f8dc0d6409",
   "metadata": {},
   "outputs": [
    {
     "data": {
      "text/plain": [
       "7"
      ]
     },
     "execution_count": 9,
     "metadata": {},
     "output_type": "execute_result"
    }
   ],
   "source": [
    "# Whole number division  x // y\n",
    "15//2"
   ]
  },
  {
   "cell_type": "code",
   "execution_count": 10,
   "id": "f37622d0-0398-4dd8-bd12-c895db9f720f",
   "metadata": {},
   "outputs": [
    {
     "data": {
      "text/plain": [
       "1"
      ]
     },
     "execution_count": 10,
     "metadata": {},
     "output_type": "execute_result"
    }
   ],
   "source": [
    "# Finds the remainder x % y\n",
    "15 % 2"
   ]
  },
  {
   "cell_type": "markdown",
   "id": "2feab446-10ac-4d4e-bf7c-72854a8229fd",
   "metadata": {},
   "source": [
    "* Coding Exercises"
   ]
  },
  {
   "cell_type": "code",
   "execution_count": null,
   "id": "7fd00aed-e12a-4beb-8b20-394f24c640f6",
   "metadata": {},
   "outputs": [],
   "source": [
    "#27: Ask the user to enter a number with lots of decimal places. \n",
    "# Multiply the number by 2.\n",
    "# Display the answer\n",
    "num = float(input(\"Enter a number with decimal places: \"))\n",
    "answer = num * 2\n",
    "print(answer)"
   ]
  },
  {
   "cell_type": "code",
   "execution_count": null,
   "id": "e791f3e3-4769-4d7f-931a-a77b86acf6da",
   "metadata": {},
   "outputs": [],
   "source": [
    "#28: update program #27 so that it only shows the result to 2 decimal places\n",
    "num = float(input(\"Enter a number with decimal places: \"))\n",
    "answer = num * 2\n",
    "print(round(answer, 2))"
   ]
  },
  {
   "cell_type": "code",
   "execution_count": null,
   "id": "ff914281-996e-4cf3-b6ae-d347bf321a73",
   "metadata": {},
   "outputs": [],
   "source": [
    "#29: Ask the user to enter an integer over 500. \n",
    "# Work out the square root of the number and display it to 2 decimal places\n",
    "import math\n",
    "num = int(input(\"Enter a whole number over 500: \"))\n",
    "answer = math.sqrt(num)\n",
    "print(round(answer, 2))"
   ]
  },
  {
   "cell_type": "code",
   "execution_count": null,
   "id": "cfb0a741-7be5-4734-ba0d-284d88c08836",
   "metadata": {},
   "outputs": [],
   "source": [
    "#30: Display pi to 5 decimal places\n",
    "import math\n",
    "print(round(math.pi, 2))"
   ]
  },
  {
   "cell_type": "code",
   "execution_count": null,
   "id": "43a040e9-a010-44dc-bd0d-871a8af29f5d",
   "metadata": {},
   "outputs": [],
   "source": [
    "#31: Ask the user to enter the radius of a circle.\n",
    "# Work out the area of the circle (pi x radius squared)\n",
    "import math\n",
    "radius = int(input(\"What is the radius of the circle? \"))\n",
    "area = math.pi * radius**2\n",
    "print(\"The area of your circle is: \", area)"
   ]
  },
  {
   "cell_type": "code",
   "execution_count": null,
   "id": "4b6353d9-69f2-4659-a85a-dfe6f0ac5a35",
   "metadata": {},
   "outputs": [],
   "source": [
    "#32: Ask for the radius and depth of a cylinder\n",
    "# Work out the total volume (circle area * depth)\n",
    "# Round the result to 3 decimal places\n",
    "import math\n",
    "radius = int(input(\"What is the radius of the cylinder? \"))\n",
    "depth = int(input(\"What is the depth of the cylinder? \"))\n",
    "volume = math.pi * radius**2 * depth\n",
    "print(\"The total volume of the cylinder is:\",(round(volume, 3)))"
   ]
  },
  {
   "cell_type": "code",
   "execution_count": null,
   "id": "d1f0bbe4-638a-4017-b722-14adb9649cec",
   "metadata": {},
   "outputs": [],
   "source": [
    "#33: Ask the user to enter 2 numbers.\n",
    "# Use the whole number division to divide the first number by the second and also work out the remainder\n",
    "# Display the asnwer in a user friendly way e.g. 7 divided by 2 is 3 with 1 remaining\n",
    "num1 = int(input(\"Enter your first number: \"))\n",
    "num2 = int(input(\"Enter your second number: \"))\n",
    "whole = num1//num2\n",
    "remainder = num1 % num2\n",
    "print(num1, \"divided by\", num2, \"is\", whole, \"with\", remainder, \"remaining.\")"
   ]
  },
  {
   "cell_type": "code",
   "execution_count": null,
   "id": "87f52480-3eb2-412e-93ea-4ebedb6294ba",
   "metadata": {},
   "outputs": [],
   "source": [
    "#34: Display the following message:\n",
    "# 1) Square\n",
    "# 2) Triangle\n",
    "# Enter a number:\n",
    "# If the user enters 1, then it should ask them for the length of one of its sides and display the area.\n",
    "# If the user enters 2, it should ask for the base and height of the triangle and display the area.\n",
    "# If they type anything else it should give a user friendly error message\n",
    "\n",
    "num = int(input(\"1) Square\\n2) Triangle \\n Enter a number: \"))\n",
    "if num == 1:\n",
    "    side = int(input(\"Enter the length of one of the squares sides: \"))\n",
    "    areaS = side * side\n",
    "    print(\"The area of the square is:\", areaS)\n",
    "elif num == 2:\n",
    "    base = int(input(\"Enter the value of the base: \"))\n",
    "    height = int(input(\"Enter the value of the height: \"))\n",
    "    areaT = 0.5 * base * height\n",
    "    print(\"The area of the triangle is: \", areaT)\n",
    "else:\n",
    "    print(\"Incorrect input. Please enter 1 or 2.\")"
   ]
  }
 ],
 "metadata": {
  "kernelspec": {
   "display_name": "Python 3 (ipykernel)",
   "language": "python",
   "name": "python3"
  },
  "language_info": {
   "codemirror_mode": {
    "name": "ipython",
    "version": 3
   },
   "file_extension": ".py",
   "mimetype": "text/x-python",
   "name": "python",
   "nbconvert_exporter": "python",
   "pygments_lexer": "ipython3",
   "version": "3.8.12"
  }
 },
 "nbformat": 4,
 "nbformat_minor": 5
}
